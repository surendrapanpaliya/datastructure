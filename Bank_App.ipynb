{
 "cells": [
  {
   "cell_type": "code",
   "execution_count": 9,
   "metadata": {},
   "outputs": [
    {
     "name": "stdout",
     "output_type": "stream",
     "text": [
      " Bank Name = ICICI ,Bank Branch = Kormangala\n",
      "name, branch HDFC Bank Pune Branch\n",
      "India\n",
      "100\n",
      "100\n"
     ]
    }
   ],
   "source": [
    "\n",
    "\n",
    "class BankApp:\n",
    "    '''Bank Application using Python'''\n",
    "    ifsc = 100 # class variable\n",
    "    def __init__(self, name, branch, city=None, state=None ):\n",
    "        '''Initialisation of Bank Applications'''\n",
    "        global country\n",
    "        country = \"India\"\n",
    "        print(\" Bank Name = %s ,Bank Branch = %s\"%(name,branch))\n",
    "\n",
    "    def info(self,name, branch, city=None, state=None, country=None):\n",
    "        print(\"name, branch\",name, branch)\n",
    "\n",
    "\n",
    "\n",
    "B1 = BankApp(\"ICICI\",\"Kormangala\")\n",
    "\n",
    "B1.info(\"HDFC Bank\",\"Pune Branch\")\n",
    "print(country)\n",
    "print(BankApp.ifsc)\n",
    "print(B1.ifsc)\n",
    "\n"
   ]
  },
  {
   "cell_type": "code",
   "execution_count": null,
   "metadata": {},
   "outputs": [],
   "source": [
    "class Customer(BankApp):\n",
    "    '''Customer Class'''\n",
    "    def __init__(self,cname, age, gender):\n",
    "        '''Initialise Customer class'''\n",
    "       # BankApp.__init__(self,name, branch, city=None, state=None)\n",
    "       # super().__init__(name, branch, city=None, state=None)\n",
    "        print(\"Customer Name, age, gender\",cname, age, gender)\n",
    "\n",
    ",\n",
    "C1 = Customer(\"Surendra\",45,'Male')\n",
    "print(C1.ifsc)"
   ]
  },
  {
   "cell_type": "code",
   "execution_count": 18,
   "metadata": {},
   "outputs": [
    {
     "name": "stdout",
     "output_type": "stream",
     "text": [
      " Bank Name = ICICI ,Bank Branch = Kormangala\n",
      "Customer Name, age, gender Surendra 45 Male\n",
      "100\n"
     ]
    }
   ],
   "source": [
    "class Customer(BankApp):\n",
    "    '''Customer Class'''\n",
    "    def __init__(self,cname, age, gender,name, branch, city=None, state=None):\n",
    "        '''Initialise Customer class'''\n",
    "       # BankApp.__init__(self,name, branch, city=None, state=None)\n",
    "        super().__init__(name, branch, city=None, state=None)\n",
    "        print(\"Customer Name, age, gender\",cname, age, gender)\n",
    "\n",
    ",\n",
    "C1 = Customer(\"Surendra\",45,'Male',\"ICICI\",\"Kormangala\")\n",
    "print(C1.ifsc)"
   ]
  },
  {
   "cell_type": "code",
   "execution_count": 21,
   "metadata": {},
   "outputs": [
    {
     "name": "stdout",
     "output_type": "stream",
     "text": [
      "Apple class\n",
      "Orange Class\n",
      "Fruit Class\n"
     ]
    }
   ],
   "source": [
    "class Apple:\n",
    "    print(\"Apple class\")\n",
    "\n",
    "\n",
    "class Orange:\n",
    "    print(\"Orange Class\")\n",
    "\n",
    "\n",
    "class Fruit(Apple, Orange):\n",
    "    print(\"Fruit Class\")\n"
   ]
  },
  {
   "cell_type": "code",
   "execution_count": 31,
   "metadata": {},
   "outputs": [
    {
     "name": "stdout",
     "output_type": "stream",
     "text": [
      "Apple class apple\n",
      "Orange Class\n",
      "Fruit Class\n"
     ]
    }
   ],
   "source": [
    "class Apple:\n",
    "    def info(self):\n",
    "        data = \"apple\"\n",
    "        print(\"Apple class\",data)\n",
    "\n",
    "\n",
    "class Orange:\n",
    "    def info(self):\n",
    "        print(\"Orange Class\")\n",
    "\n",
    "\n",
    "class Fruit(Apple, Orange):\n",
    "    def info(self):\n",
    "        Apple.info(self)\n",
    "        Orange.info(self)\n",
    "        print(\"Fruit Class\")\n",
    "\n",
    "\n",
    "F = Fruit()\n",
    "F.info()"
   ]
  },
  {
   "cell_type": "code",
   "execution_count": 46,
   "metadata": {},
   "outputs": [
    {
     "name": "stdout",
     "output_type": "stream",
     "text": [
      "Apple class apple\n"
     ]
    }
   ],
   "source": [
    "class Apple:\n",
    "    def info(self):\n",
    "        data = \"apple\"\n",
    "        print(\"Apple class\",data)\n",
    "\n",
    "\n",
    "class Orange:\n",
    "    def info(self):\n",
    "        print(\"Orange Class\")\n",
    "\n",
    "\n",
    "class Fruit(Apple, Orange):\n",
    "    def info(self):\n",
    "        Apple().info()\n",
    "        Orange().info()\n",
    "        print(\"Fruit Class\")\n",
    "\n",
    "    def __private_method(self):\n",
    "        self.city = \"Pune\" # Object variable\n",
    "        self.__name = \"Surendra\" # private attribute or variable\n",
    "        print(\"Private Method\",self.__name)\n",
    "\n",
    "\n",
    "Apple().info()\n",
    "\n",
    "\n",
    "#F = Fruit()\n",
    "#F.info()\n",
    "#F.__private_method()\n",
    "#F._Fruit__private_method()\n",
    "#print(F._Fruit__name)\n",
    "#print(F.city)"
   ]
  }
 ],
 "metadata": {
  "kernelspec": {
   "display_name": "Python 3",
   "language": "python",
   "name": "python3"
  },
  "language_info": {
   "codemirror_mode": {
    "name": "ipython",
    "version": 3
   },
   "file_extension": ".py",
   "mimetype": "text/x-python",
   "name": "python",
   "nbconvert_exporter": "python",
   "pygments_lexer": "ipython3",
   "version": "3.11.5"
  }
 },
 "nbformat": 4,
 "nbformat_minor": 2
}
