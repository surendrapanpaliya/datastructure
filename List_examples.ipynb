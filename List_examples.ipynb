{
 "cells": [
  {
   "cell_type": "code",
   "execution_count": 7,
   "metadata": {},
   "outputs": [
    {
     "name": "stdout",
     "output_type": "stream",
     "text": [
      "[10, 15, 20, 25, 30, 35, 40, 45, 50, 55]\n",
      "Index out of range list index out of range\n",
      "Finally block\n"
     ]
    }
   ],
   "source": [
    "list1 = list(range(10,60,5))\n",
    "print(list1)\n",
    "try:\n",
    "    index1 = int(input(\"Enter the index: \"))\n",
    "    print(list1[index1])\n",
    "except IndexError as e:\n",
    "    print(\"Index out of range\",e)\n",
    "else:\n",
    "    print(\"No exception\",list1[index1])\n",
    "finally:\n",
    "    print(\"Finally block\")"
   ]
  },
  {
   "cell_type": "code",
   "execution_count": 8,
   "metadata": {},
   "outputs": [
    {
     "name": "stdout",
     "output_type": "stream",
     "text": [
      "Element at index 0: 10\n",
      "Element at index 1: 20\n",
      "Element at index 2: 30\n",
      "Element at index 3: 40\n",
      "Element at index 4: 50\n"
     ]
    }
   ],
   "source": [
    "# Accessing/Traversing a List\n",
    "\n",
    "# List of integers\n",
    "numbers = [10, 20, 30, 40, 50]\n",
    "\n",
    "# Traverse and print each element with its index\n",
    "for index, value in enumerate(numbers):\n",
    "    print(f\"Element at index {index}: {value}\")"
   ]
  },
  {
   "cell_type": "code",
   "execution_count": 9,
   "metadata": {},
   "outputs": [
    {
     "name": "stdout",
     "output_type": "stream",
     "text": [
      "Sum of elements: 150\n"
     ]
    }
   ],
   "source": [
    "# Calculate the sum of all elements\n",
    "\n",
    "total_sum = sum(numbers)\n",
    "print(f\"Sum of elements: {total_sum}\")"
   ]
  },
  {
   "cell_type": "code",
   "execution_count": 10,
   "metadata": {},
   "outputs": [
    {
     "name": "stdout",
     "output_type": "stream",
     "text": [
      "['apple', 'orange', 'banana', 'mango', 'date']\n"
     ]
    }
   ],
   "source": [
    "# Update/Insert a List\n",
    "\n",
    "# List of strings\n",
    "fruits = [\"apple\", \"banana\", \"cherry\", \"date\"]\n",
    "\n",
    "# Update the 3rd element (index 2)\n",
    "fruits[2] = \"mango\"\n",
    "\n",
    "# Insert a new element at the 2nd position (index 1)\n",
    "fruits.insert(1, \"orange\")\n",
    "\n",
    "print(fruits)"
   ]
  },
  {
   "cell_type": "code",
   "execution_count": 11,
   "metadata": {},
   "outputs": [
    {
     "name": "stdout",
     "output_type": "stream",
     "text": [
      "[10, 20, 60, 70]\n"
     ]
    }
   ],
   "source": [
    "# Slice/Delete from a List\n",
    "\n",
    "# List of integers\n",
    "numbers = [10, 20, 30, 40, 50, 60, 70]\n",
    "\n",
    "# Remove the middle three elements\n",
    "del numbers[2:5]\n",
    "\n",
    "print(numbers)"
   ]
  },
  {
   "cell_type": "code",
   "execution_count": 12,
   "metadata": {},
   "outputs": [
    {
     "name": "stdout",
     "output_type": "stream",
     "text": [
      "Element found at index: 2\n"
     ]
    }
   ],
   "source": [
    "# Searching for an Element in a List\n",
    "# List of integers\n",
    "numbers = [1, 2, 3, 4, 5]\n",
    "\n",
    "# Target element to search\n",
    "target = 3\n",
    "\n",
    "# Search for the element\n",
    "if target in numbers:\n",
    "    index = numbers.index(target)\n",
    "    print(f\"Element found at index: {index}\")\n",
    "else:\n",
    "    print(\"Element not found\")"
   ]
  },
  {
   "cell_type": "code",
   "execution_count": null,
   "metadata": {},
   "outputs": [],
   "source": [
    "# Append an element\n",
    "numbers.append(4)\n",
    "print(\"After append:\", numbers)\n",
    "\n",
    "# Extend the list with another list\n",
    "numbers.extend([5, 6])\n",
    "print(\"After extend:\", numbers)\n",
    "\n",
    "# Pop the last element\n",
    "\n",
    "popped_element = numbers.pop()\n",
    "\n",
    "print(\"After pop:\", numbers)\n",
    "\n",
    "print(\"Popped element:\", popped_element)\n",
    "\n",
    "# Reverse the list\n",
    "\n",
    "numbers.reverse()\n",
    "print(\"After reverse:\", numbers)"
   ]
  },
  {
   "cell_type": "code",
   "execution_count": 13,
   "metadata": {},
   "outputs": [
    {
     "name": "stdout",
     "output_type": "stream",
     "text": [
      "['a', 'b', 'c']\n"
     ]
    }
   ],
   "source": [
    "# Lists and Strings\n",
    "\n",
    "# List of words\n",
    "words = [\"apple\", \"banana\", \"cherry\"]\n",
    "\n",
    "# Create a list of the first letters\n",
    "first_letters = [word[0] for word in words]\n",
    "\n",
    "print(first_letters)"
   ]
  },
  {
   "cell_type": "code",
   "execution_count": 16,
   "metadata": {},
   "outputs": [
    {
     "name": "stdout",
     "output_type": "stream",
     "text": [
      "Incorrect approach result: [10, 20, 40]\n"
     ]
    }
   ],
   "source": [
    "# Common List Pitfalls and Ways to Avoid Them\n",
    "\n",
    "# List of integers\n",
    "numbers = [10, 20, 30, 40]\n",
    "\n",
    "# Incorrect approach: Modifying list while iterating\n",
    "for num in numbers:\n",
    "    if num > 20:\n",
    "        numbers.remove(num)\n",
    "print(\"Incorrect approach result:\", numbers)"
   ]
  },
  {
   "cell_type": "code",
   "execution_count": 19,
   "metadata": {},
   "outputs": [
    {
     "name": "stdout",
     "output_type": "stream",
     "text": [
      "10\n",
      "20\n"
     ]
    }
   ],
   "source": [
    "for num in numbers:\n",
    "    if num <= 20:\n",
    "        print(num)"
   ]
  },
  {
   "cell_type": "code",
   "execution_count": 17,
   "metadata": {},
   "outputs": [
    {
     "name": "stdout",
     "output_type": "stream",
     "text": [
      "Correct approach result: [10, 20]\n"
     ]
    }
   ],
   "source": [
    "# Correct approach: Use a list comprehension or iterate over a copy\n",
    "\n",
    "numbers = [10, 20, 30, 40]  # Reset list\n",
    "numbers = [num for num in numbers if num <= 20]\n",
    "print(\"Correct approach result:\", numbers)"
   ]
  },
  {
   "cell_type": "code",
   "execution_count": 20,
   "metadata": {},
   "outputs": [
    {
     "name": "stdout",
     "output_type": "stream",
     "text": [
      "Time taken by list: 0.048307180404663086 seconds\n",
      "Time taken by array: 0.05420398712158203 seconds\n"
     ]
    }
   ],
   "source": [
    "#Lists vs Arrays\n",
    "\n",
    "import time\n",
    "import array\n",
    "\n",
    "# Comparing list and array performance\n",
    "size = 1000000\n",
    "\n",
    "# Time for list\n",
    "start_time = time.time()\n",
    "list_numbers = []\n",
    "for i in range(size):\n",
    "    list_numbers.append(i)\n",
    "end_time = time.time()\n",
    "print(f\"Time taken by list: {end_time - start_time} seconds\")\n",
    "\n",
    "# Time for array\n",
    "start_time = time.time()\n",
    "array_numbers = array.array('i')\n",
    "for i in range(size):\n",
    "    array_numbers.append(i)\n",
    "end_time = time.time()\n",
    "print(f\"Time taken by array: {end_time - start_time} seconds\")"
   ]
  },
  {
   "cell_type": "code",
   "execution_count": 28,
   "metadata": {},
   "outputs": [
    {
     "data": {
      "image/png": "[encoded data removed]",
      "text/plain": [
       "<Figure size 640x480 with 1 Axes>"
      ]
     },
     "metadata": {},
     "output_type": "display_data"
    }
   ],
   "source": [
    "#Time and Space Complexity of Lists\n",
    "\n",
    "import time\n",
    "import matplotlib.pyplot as plt\n",
    "\n",
    "# Function to measure time complexity of append operation\n",
    "def measure_append_time(sizes):\n",
    "    times = []\n",
    "    for size in sizes:\n",
    "        numbers = []\n",
    "        start_time = time.time()\n",
    "        for i in range(size):\n",
    "            numbers.append(i)\n",
    "        end_time = time.time()\n",
    "        times.append(end_time - start_time)\n",
    "    return times\n",
    "\n",
    "# List of input sizes\n",
    "sizes = [1000, 10000, 100000, 1000000 ]\n",
    "\n",
    "# Measure and plot times\n",
    "times = measure_append_time(sizes)\n",
    "plt.plot(sizes, times, marker='o')\n",
    "plt.title('Time Complexity of Append Operation')\n",
    "plt.xlabel('Input Size')\n",
    "plt.ylabel('Time (seconds)')\n",
    "plt.show()"
   ]
  },
  {
   "cell_type": "code",
   "execution_count": 30,
   "metadata": {},
   "outputs": [
    {
     "name": "stdout",
     "output_type": "stream",
     "text": [
      "[ 1  2  3  4  5  6  7  8  9 10]\n",
      "1\n",
      "(10,)\n",
      "[[ 1  2  3  4  5]\n",
      " [ 6  7  8  9 10]]\n",
      "2\n",
      "(2, 5)\n"
     ]
    }
   ],
   "source": [
    "import numpy as np\n",
    "\n",
    "# create array using numpy\n",
    "\n",
    "arr = np.array([1, 2, 3, 4, 5, 6, 7, 8, 9, 10])\n",
    "print(arr)\n",
    "print(arr.ndim)\n",
    "print(arr.shape)\n",
    "arr1 = arr.reshape(2,5)\n",
    "print(arr1)\n",
    "print(arr1.ndim)\n",
    "print(arr1.shape)"
   ]
  },
  {
   "cell_type": "code",
   "execution_count": 34,
   "metadata": {},
   "outputs": [
    {
     "name": "stdout",
     "output_type": "stream",
     "text": [
      "[[ 1  2  3  4  5  6  7  8  9 10]]\n",
      "2\n",
      "[[ 1  2  3  4  5]\n",
      " [ 6  7  8  9 10]]\n",
      "2\n",
      "(2, 5)\n",
      "[[ 1  6]\n",
      " [ 2  7]\n",
      " [ 3  8]\n",
      " [ 4  9]\n",
      " [ 5 10]]\n",
      "(5, 2)\n",
      "[[-0.36  0.16]\n",
      " [-0.2   0.1 ]\n",
      " [-0.04  0.04]\n",
      " [ 0.12 -0.02]\n",
      " [ 0.28 -0.08]]\n"
     ]
    }
   ],
   "source": [
    "mat1 = np.asmatrix(arr)\n",
    "print(mat1)\n",
    "print(mat1.ndim)\n",
    "\n",
    "mat2 = np.asmatrix(arr1)\n",
    "print(mat2)\n",
    "print(mat2.ndim)\n",
    "print(mat2.shape)   # 2 rows and 5 columns\n",
    "\n",
    "# Transpose of a matrix\n",
    "mat3 = mat2.T\n",
    "print(mat3)\n",
    "print(mat3.shape)   # 5 rows and 2 columns\n",
    "\n"
   ]
  },
  {
   "cell_type": "code",
   "execution_count": 43,
   "metadata": {},
   "outputs": [
    {
     "name": "stdout",
     "output_type": "stream",
     "text": [
      "[[ 1  2  3  4  5]\n",
      " [ 6  7  8  9 10]]\n",
      "[[ 2  4  6  8 10]\n",
      " [12 14 16 18 20]]\n",
      "[[ 2  4  6  8 10]\n",
      " [12 14 16 18 20]]\n",
      "[[ 3  6  9 12 15]\n",
      " [18 21 24 27 30]]\n"
     ]
    }
   ],
   "source": [
    "# Inverse of a matrix\n",
    "mat4 = mat3.I  # Inverse of mat3\n",
    "#print(mat4)\n",
    "\n",
    "#dir(mat4)\n",
    "\n",
    "print(mat2)\n",
    "\n",
    "print(mat2*2)\n",
    "mat5 = mat2*2\n",
    "print(mat5)\n",
    "mat6 = mat2 + mat5\n",
    "print(mat6)"
   ]
  },
  {
   "cell_type": "code",
   "execution_count": 45,
   "metadata": {},
   "outputs": [
    {
     "name": "stdout",
     "output_type": "stream",
     "text": [
      "[[1 2]\n",
      " [3 4]]\n",
      "[[5 6]\n",
      " [7 8]]\n",
      "[[19 22]\n",
      " [43 50]]\n",
      "[[-2.   1. ]\n",
      " [ 1.5 -0.5]]\n"
     ]
    }
   ],
   "source": [
    "# matrix multiplication\n",
    "matrix1 = np.matrix([[1, 2], [3, 4]])\n",
    "\n",
    "matrix2 = np.matrix([[5, 6], [7, 8]])\n",
    "\n",
    "print(matrix1)\n",
    "\n",
    "print(matrix2)\n",
    "result = matrix1 * matrix2\n",
    "print(result)\n",
    "\n",
    "matrix3 = matrix1.I # Inverse of matrix1\n",
    "print(matrix3)\n"
   ]
  },
  {
   "cell_type": "code",
   "execution_count": 47,
   "metadata": {},
   "outputs": [
    {
     "name": "stdout",
     "output_type": "stream",
     "text": [
      "[[1 2 3]\n",
      " [4 5 6]\n",
      " [7 8 9]]\n",
      "-9.51619735392994e-16\n"
     ]
    }
   ],
   "source": [
    "# Inverse 3 x 3 matrix\n",
    "matrix4 = np.matrix([[1, 2, 3], [4, 5, 6], [7, 8, 9]])\n",
    "\n",
    "print(matrix4)\n",
    "\n",
    "# calcualate determinant of matrix4\n",
    "\n",
    "det = np.linalg.det(matrix4)\n",
    "\n",
    "print(det)\n"
   ]
  },
  {
   "cell_type": "code",
   "execution_count": 51,
   "metadata": {},
   "outputs": [
    {
     "name": "stdout",
     "output_type": "stream",
     "text": [
      "Determinant: -6.0\n",
      "Inverse of the matrix:\n",
      "[[-0.66666667  0.33333333]\n",
      " [ 0.83333333 -0.16666667]]\n"
     ]
    }
   ],
   "source": [
    "import numpy as np\n",
    "\n",
    "# Example matrix\n",
    "matrix = np.array([[1, 2], [5, 4]])\n",
    "\n",
    "# Calculate determinant\n",
    "det = np.linalg.det(matrix)\n",
    "print(f\"Determinant: {det}\")\n",
    "\n",
    "# Check if determinant is zero\n",
    "if det == 0:\n",
    "    print(\"The matrix is singular and cannot be inverted.\")\n",
    "else:\n",
    "    # Calculate inverse\n",
    "    matrix_inv = np.linalg.inv(matrix)\n",
    "    print(\"Inverse of the matrix:\")\n",
    "    print(matrix_inv)"
   ]
  },
  {
   "cell_type": "code",
   "execution_count": 4,
   "metadata": {},
   "outputs": [
    {
     "data": {
      "text/plain": [
       "(0, 2, 0, 4, 0, 6, 0, 8, 0, 10, 0, 12, 0, 14, 0, 16, 0, 18, 0)"
      ]
     },
     "execution_count": 4,
     "metadata": {},
     "output_type": "execute_result"
    }
   ],
   "source": [
    "tuple( num  if num % 2 == 0 else 0  for num in range(1,20) )"
   ]
  }
 ],
 "metadata": {
  "kernelspec": {
   "display_name": "Python 3",
   "language": "python",
   "name": "python3"
  },
  "language_info": {
   "codemirror_mode": {
    "name": "ipython",
    "version": 3
   },
   "file_extension": ".py",
   "mimetype": "text/x-python",
   "name": "python",
   "nbconvert_exporter": "python",
   "pygments_lexer": "ipython3",
   "version": "3.11.5"
  }
 },
 "nbformat": 4,
 "nbformat_minor": 2
}
