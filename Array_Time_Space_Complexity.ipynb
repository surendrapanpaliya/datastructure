{
 "cells": [
  {
   "cell_type": "markdown",
   "metadata": {},
   "source": [
    "Time Complexity"
   ]
  },
  {
   "cell_type": "markdown",
   "metadata": {},
   "source": [
    "Accessing an Element:\n",
    "Operation: Accessing an element by index.\n",
    "\n",
    " Complexity: O(1)"
   ]
  },
  {
   "cell_type": "markdown",
   "metadata": {},
   "source": [
    "Explanation: Array access is constant time since the position can be directly computed using the index."
   ]
  },
  {
   "cell_type": "code",
   "execution_count": 1,
   "metadata": {},
   "outputs": [
    {
     "name": "stdout",
     "output_type": "stream",
     "text": [
      "30\n"
     ]
    }
   ],
   "source": [
    "array = [10, 20, 30, 40, 50]\n",
    "# Accessing the element at index 2\n",
    "element = array[2]\n",
    "print(element)  # Output: 30\n"
   ]
  },
  {
   "cell_type": "markdown",
   "metadata": {},
   "source": [
    "Insertion at End:\n",
    "Operation: Appending an element to the end of the array.\n",
    "\n",
    "Complexity: O(1) (amortized)\n",
    "\n",
    "Explanation: Appending to the end is generally O(1), though occasionally resizing can make it O(n) in dynamic arrays like Python lists."
   ]
  },
  {
   "cell_type": "code",
   "execution_count": null,
   "metadata": {},
   "outputs": [],
   "source": [
    "array = [1, 2, 3]\n",
    "array.append(4)\n",
    "print(array)  # Output: [1, 2, 3, 4]"
   ]
  },
  {
   "cell_type": "markdown",
   "metadata": {},
   "source": [
    "Insertion at a Specific Position:\t\n",
    "Operation: Inserting an element at a specific index.\n",
    "\n",
    "Complexity: O(n)\n",
    "\n",
    "Explanation: Inserting requires shifting elements to accommodate the new item, resulting in linear time complexity."
   ]
  },
  {
   "cell_type": "code",
   "execution_count": null,
   "metadata": {},
   "outputs": [],
   "source": [
    "array = [1, 2, 4, 5]\n",
    "array.insert(2, 3)  # Inserting 3 at index 2\n",
    "print(array)  # Output: [1, 2, 3, 4, 5]\n"
   ]
  },
  {
   "cell_type": "markdown",
   "metadata": {},
   "source": [
    "Deletion:\n",
    "Operation: Removing an element from a specific index.\n",
    "\n",
    "Complexity: O(n)\n",
    "\n",
    "Explanation: Deletion requires shifting elements to fill the gap, resulting in linear time complexity."
   ]
  },
  {
   "cell_type": "code",
   "execution_count": null,
   "metadata": {},
   "outputs": [],
   "source": [
    "array = [1, 2, 3, 4, 5]\n",
    "del array[2]  # Deleting element at index 2\n",
    "print(array)  # Output: [1, 2, 4, 5]"
   ]
  },
  {
   "cell_type": "markdown",
   "metadata": {},
   "source": [
    "Searching:\n",
    "\n",
    "Operation: Linear search.\n",
    "\n",
    "Complexity: O(n)\n",
    "\n",
    "Explanation: Linear search checks each element until the target is found, making it linear in time complexity.\n"
   ]
  },
  {
   "cell_type": "code",
   "execution_count": null,
   "metadata": {},
   "outputs": [],
   "source": [
    "array = [1, 2, 3, 4, 5]\n",
    "def linear_search(arr, target):\n",
    "    for index, value in enumerate(arr):\n",
    "        if value == target:\n",
    "            return index\n",
    "    return -1\n",
    "\n",
    "print(linear_search(array, 4))  # Output: 3"
   ]
  },
  {
   "cell_type": "markdown",
   "metadata": {},
   "source": [
    "Space Complexity\n",
    "Space Complexity for One-Dimensional Arrays:\n",
    "Complexity: O(n)\n",
    "Explanation: The space complexity of an array is proportional to the number of elements it contains."
   ]
  },
  {
   "cell_type": "code",
   "execution_count": null,
   "metadata": {},
   "outputs": [],
   "source": [
    "array = [1] * 1000  # Array with 1000 elements"
   ]
  },
  {
   "cell_type": "markdown",
   "metadata": {},
   "source": [
    "Two-Dimensional Arrays\n",
    "\n",
    "1. Time Complexity\n",
    "1.\tAccessing an Element:\n",
    "Operation: Accessing an element by row and column index.\n",
    "Complexity: O(1)\n",
    "Explanation: Accessing an element in a 2D array is constant time, as it directly computes the address."
   ]
  },
  {
   "cell_type": "code",
   "execution_count": null,
   "metadata": {},
   "outputs": [],
   "source": [
    "matrix = [\n",
    "    [1, 2, 3],\n",
    "    [4, 5, 6],\n",
    "    [7, 8, 9]\n",
    "]\n",
    "\n",
    "# Accessing the element at row 1, column 2\n",
    "element = matrix[1][2]\n",
    "print(element)  # Output: 6"
   ]
  },
  {
   "cell_type": "markdown",
   "metadata": {},
   "source": [
    "2.\tTraversal:\n",
    "Operation: Traversing all elements in the 2D array.\n",
    "Complexity: O(n * m) where n is the number of rows and m is the number of columns.\n",
    "\n",
    "Explanation: Traversing every element in a 2D array involves visiting each element once, resulting in O(n * m) complexity.\n"
   ]
  },
  {
   "cell_type": "code",
   "execution_count": null,
   "metadata": {},
   "outputs": [],
   "source": [
    "matrix = [\n",
    "    [1, 2, 3],\n",
    "    [4, 5, 6],\n",
    "    [7, 8, 9]\n",
    "]\n",
    "\n",
    "for row in matrix:\n",
    "    for element in row:\n",
    "        print(element, end=' ')\n",
    "# Output: 1 2 3 4 5 6 7 8 9"
   ]
  },
  {
   "cell_type": "markdown",
   "metadata": {},
   "source": [
    "3.\tInsertion:\n",
    "Operation: Inserting a row or column.\n",
    "Complexity: O(n * m) (for inserting and shifting elements)\n",
    "\n",
    "\n",
    "Explanation: Inserting a new row involves creating a new matrix and copying the elements, resulting in linear complexity relative to the size of the matrix.\n"
   ]
  },
  {
   "cell_type": "code",
   "execution_count": null,
   "metadata": {},
   "outputs": [],
   "source": [
    "import numpy as np\n",
    "\n",
    "matrix = np.array([\n",
    "    [1, 2, 3],\n",
    "    [4, 5, 6]\n",
    "])\n",
    "\n",
    "# Adding a new row\n",
    "new_row = [7, 8, 9]\n",
    "matrix = np.vstack([matrix, new_row])\n",
    "print(matrix)\n",
    "# Output:\n",
    "# [[1 2 3]\n",
    "#  [4 5 6]\n",
    "#  [7 8 9]]"
   ]
  },
  {
   "cell_type": "markdown",
   "metadata": {},
   "source": [
    "4.\tDeletion:\n",
    "Operation: Removing a row or column.\n",
    "Complexity: O(n * m) (for removing and shifting elements)\n",
    "\n",
    "\n",
    "Explanation: Deleting a row or column involves creating a new matrix and copying elements, resulting in linear complexity relative to the size of the matrix.\n"
   ]
  },
  {
   "cell_type": "code",
   "execution_count": null,
   "metadata": {},
   "outputs": [],
   "source": [
    "import numpy as np\n",
    "\n",
    "matrix = np.array([\n",
    "    [1, 2, 3],\n",
    "    [4, 5, 6],\n",
    "    [7, 8, 9]\n",
    "])\n",
    "\n",
    "# Removing a row\n",
    "matrix = np.delete(matrix, 1, axis=0)  # Removing row at index 1\n",
    "print(matrix)\n",
    "# Output:\n",
    "# [[1 2 3]\n",
    "#  [7 8 9]]"
   ]
  },
  {
   "cell_type": "markdown",
   "metadata": {},
   "source": [
    "5.\tSearching:\n",
    "Operation: Linear search in 2D array.\n",
    "Complexity: O(n * m)\n",
    "\n",
    "\n",
    "Explanation: Searching in a 2D array involves checking each element, resulting in linear complexity relative to the number of elements.\n"
   ]
  },
  {
   "cell_type": "code",
   "execution_count": null,
   "metadata": {},
   "outputs": [],
   "source": [
    "matrix = [\n",
    "    [1, 2, 3],\n",
    "    [4, 5, 6],\n",
    "    [7, 8, 9]\n",
    "]\n",
    "\n",
    "def search_2d(arr, target):\n",
    "    for row in arr:\n",
    "        for element in row:\n",
    "            if element == target:\n",
    "                return True\n",
    "    return False\n",
    "\n",
    "print(search_2d(matrix, 5))  # Output: True"
   ]
  },
  {
   "cell_type": "markdown",
   "metadata": {},
   "source": [
    "Space Complexity\n",
    "1.\tSpace Complexity for Two-Dimensional Arrays:\n",
    "Complexity: O(n * m)\n",
    "\n",
    "Explanation: The space complexity of a 2D array is proportional to the product of the number of rows and columns.\n"
   ]
  },
  {
   "cell_type": "code",
   "execution_count": null,
   "metadata": {},
   "outputs": [],
   "source": [
    "matrix = [\n",
    "    [1, 2, 3],\n",
    "    [4, 5, 6],\n",
    "    [7, 8, 9]\n",
    "]"
   ]
  }
 ],
 "metadata": {
  "kernelspec": {
   "display_name": "Python 3",
   "language": "python",
   "name": "python3"
  },
  "language_info": {
   "codemirror_mode": {
    "name": "ipython",
    "version": 3
   },
   "file_extension": ".py",
   "mimetype": "text/x-python",
   "name": "python",
   "nbconvert_exporter": "python",
   "pygments_lexer": "ipython3",
   "version": "3.11.5"
  }
 },
 "nbformat": 4,
 "nbformat_minor": 2
}
