{
 "cells": [
  {
   "cell_type": "code",
   "execution_count": 4,
   "metadata": {},
   "outputs": [
    {
     "name": "stdout",
     "output_type": "stream",
     "text": [
      "Array elements: array('i', [10, 20, 30, 40, 50])\n"
     ]
    }
   ],
   "source": [
    "# Assignment 1: Array Creation and Memory Representation\n",
    "# Step 1: Create a one-dimensional array of integers\n",
    "import array\n",
    "my_array = array.array('i', [10, 20, 30, 40, 50])\n",
    "\n",
    "# Print the array\n",
    "print(\"Array elements:\", my_array)"
   ]
  },
  {
   "cell_type": "code",
   "execution_count": 5,
   "metadata": {},
   "outputs": [
    {
     "name": "stdout",
     "output_type": "stream",
     "text": [
      "\n",
      "Memory Addresses of each element:\n",
      "Element 10: Address = 4436213040\n",
      "Element 20: Address = 4436213041\n",
      "Element 30: Address = 4436213042\n",
      "Element 40: Address = 4436213043\n",
      "Element 50: Address = 4436213044\n"
     ]
    }
   ],
   "source": [
    "import ctypes\n",
    "print(\"\\nMemory Addresses of each element:\")\n",
    "\n",
    "for i in range(len(my_array)):\n",
    "    # Use ctypes to get the memory address of the array element\n",
    "    print(f\"Element {my_array[i]}: Address = {ctypes.addressof(ctypes.c_int.from_buffer(my_array, i))}\")"
   ]
  },
  {
   "cell_type": "code",
   "execution_count": 6,
   "metadata": {},
   "outputs": [
    {
     "name": "stdout",
     "output_type": "stream",
     "text": [
      "Original Array: array('i', [10, 20, 30, 40, 50])\n",
      "After inserting 5 at index 0: array('i', [5, 10, 20, 30, 40, 50])\n",
      "After inserting 25 at index 3: array('i', [5, 10, 20, 25, 30, 40, 50])\n",
      "After inserting 60 at the end: array('i', [5, 10, 20, 25, 30, 40, 50, 60])\n"
     ]
    }
   ],
   "source": [
    "import array\n",
    "def insert_element(arr, index, element):\n",
    "    # Step 1: Check if the index is within bounds\n",
    "    if index < 0 or index > len(arr):\n",
    "        print(\"Error: Index out of bounds\")\n",
    "        return arr\n",
    "\n",
    "    # Step 2: Insert the element at the specified index\n",
    "    arr.insert(index, element)\n",
    "    return arr\n",
    "\n",
    "# Test the function with different cases\n",
    "# Initial one-dimensional array\n",
    "my_array = array.array('i', [10, 20, 30, 40, 50])\n",
    "\n",
    "print(\"Original Array:\", my_array)\n",
    "\n",
    "# Insert an element at the beginning (index 0)\n",
    "my_array = insert_element(my_array, 0, 5)\n",
    "print(\"After inserting 5 at index 0:\", my_array)\n",
    "\n",
    "# Insert an element in the middle (index 3)\n",
    "my_array = insert_element(my_array, 3, 25)\n",
    "print(\"After inserting 25 at index 3:\", my_array)\n",
    "\n",
    "# Insert an element at the end (index len(my_array))\n",
    "my_array = insert_element(my_array, len(my_array), 60)\n",
    "print(\"After inserting 60 at the end:\", my_array)\n"
   ]
  },
  {
   "cell_type": "code",
   "execution_count": 7,
   "metadata": {},
   "outputs": [
    {
     "name": "stdout",
     "output_type": "stream",
     "text": [
      "Original Array: array('i', [10, 20, 30, 40, 50])\n",
      "Traversing the array using a for loop:\n",
      "Element at index 0: 10\n",
      "Element at index 1: 20\n",
      "Element at index 2: 30\n",
      "Element at index 3: 40\n",
      "Element at index 4: 50\n",
      "\n",
      "Traversing the array using a while loop:\n",
      "Element at index 0: 10\n",
      "Element at index 1: 20\n",
      "Element at index 2: 30\n",
      "Element at index 3: 40\n",
      "Element at index 4: 50\n",
      "\n",
      "Traversing the array using list comprehension:\n",
      "Element at index 0: 10\n",
      "Element at index 1: 20\n",
      "Element at index 2: 30\n",
      "Element at index 3: 40\n",
      "Element at index 4: 50\n"
     ]
    }
   ],
   "source": [
    "import array\n",
    "\n",
    "def traverse_array(arr):\n",
    "    # Step 1: Traverse the array using a for loop\n",
    "    print(\"Traversing the array using a for loop:\")\n",
    "    for i in range(len(arr)):\n",
    "        print(f\"Element at index {i}: {arr[i]}\")\n",
    "\n",
    "    # Step 2: Traverse the array using a while loop\n",
    "    print(\"\\nTraversing the array using a while loop:\")\n",
    "    index = 0\n",
    "    while index < len(arr):\n",
    "        print(f\"Element at index {index}: {arr[index]}\")\n",
    "        index += 1\n",
    "\n",
    "    # Step 3: Traversing using list comprehension (optional)\n",
    "    print(\"\\nTraversing the array using list comprehension:\")\n",
    "    [print(f\"Element at index {i}: {arr[i]}\") for i in range(len(arr))]\n",
    "\n",
    "# Create a one-dimensional array\n",
    "my_array = array.array('i', [10, 20, 30, 40, 50])\n",
    "\n",
    "# Print the original array\n",
    "print(\"Original Array:\", my_array)\n",
    "\n",
    "# Call the traverse_array function to access each element\n",
    "traverse_array(my_array)\n"
   ]
  },
  {
   "cell_type": "code",
   "execution_count": 8,
   "metadata": {},
   "outputs": [
    {
     "name": "stdout",
     "output_type": "stream",
     "text": [
      "Linear Search: Element 30 found at index 2\n",
      "Binary Search: Element 30 found at index 2\n",
      "Linear Search: Element 35 not found\n",
      "Binary Search: Element 35 not found\n"
     ]
    }
   ],
   "source": [
    "# Step 1: Implement Linear Search\n",
    "def linear_search(arr, target):\n",
    "    for index in range(len(arr)):\n",
    "        if arr[index] == target:\n",
    "            return index\n",
    "    return -1\n",
    "\n",
    "# Step 2: Implement Binary Search\n",
    "def binary_search(arr, target):\n",
    "    # Ensure the array is sorted\n",
    "    arr = sorted(arr)\n",
    "    low = 0\n",
    "    high = len(arr) - 1\n",
    "\n",
    "    while low <= high:\n",
    "        mid = (low + high) // 2\n",
    "        if arr[mid] == target:\n",
    "            return mid\n",
    "        elif arr[mid] < target:\n",
    "            low = mid + 1\n",
    "        else:\n",
    "            high = mid - 1\n",
    "\n",
    "    return -1\n",
    "\n",
    "# Test the search functions\n",
    "my_array = array.array('i', [10, 20, 30, 40, 50])\n",
    "\n",
    "# Linear Search\n",
    "target = 30\n",
    "result = linear_search(my_array, target)\n",
    "print(f\"Linear Search: Element {target} found at index {result}\" if result != -1 else f\"Linear Search: Element {target} not found\")\n",
    "\n",
    "# Binary Search\n",
    "result = binary_search(my_array, target)\n",
    "print(f\"Binary Search: Element {target} found at index {result}\" if result != -1 else f\"Binary Search: Element {target} not found\")\n",
    "\n",
    "# Test with an element not in the array\n",
    "target = 35\n",
    "result = linear_search(my_array, target)\n",
    "print(f\"Linear Search: Element {target} found at index {result}\" if result != -1 else f\"Linear Search: Element {target} not found\")\n",
    "\n",
    "result = binary_search(my_array, target)\n",
    "print(f\"Binary Search: Element {target} found at index {result}\" if result != -1 else f\"Binary Search: Element {target} not found\")\n"
   ]
  },
  {
   "cell_type": "markdown",
   "metadata": {},
   "source": [
    "Deleting an Element from an Array\n",
    "Task:\n",
    "1.\tCreate a Program for Deletion:\n",
    "Write a Python program that deletes an element from a specified position in a one-dimensional array.\n",
    "The program should handle the following:\n",
    "Delete the element at the given index.\n",
    "Shift the subsequent elements to the left to fill the gap left by the deleted element.\n",
    "Ensure that the array size is reduced by one after the deletion\n"
   ]
  },
  {
   "cell_type": "code",
   "execution_count": 9,
   "metadata": {},
   "outputs": [],
   "source": [
    "def delete_element(arr, index):\n",
    "                        # Step 1: Check if the index is within bounds\n",
    "    if index < 0 or index >= len(arr):\n",
    "        print(\"Error: Index out of bounds\")\n",
    "        return arr\n",
    "\n",
    "    # Step 2: Delete the element at the specified index\n",
    "    for i in range(index, len(arr) - 1):\n",
    "        arr[i] = arr[i + 1]\n",
    "\n",
    "    # Step 3: Remove the last element (which is now duplicated)\n",
    "    arr.pop()\n",
    "    return arr"
   ]
  },
  {
   "cell_type": "code",
   "execution_count": 10,
   "metadata": {},
   "outputs": [
    {
     "name": "stdout",
     "output_type": "stream",
     "text": [
      "Original Array: array('i', [10, 20, 30, 40, 50])\n",
      "After deleting element at index 0: array('i', [20, 30, 40, 50])\n"
     ]
    }
   ],
   "source": [
    "# Test the function with different cases\n",
    "# Initial one-dimensional array\n",
    "my_array = array.array('i', [10, 20, 30, 40, 50])\n",
    "\n",
    "print(\"Original Array:\", my_array)\n",
    "\n",
    "# Delete an element from the beginning (index 0)\n",
    "my_array = delete_element(my_array, 0)\n",
    "print(\"After deleting element at index 0:\", my_array)"
   ]
  },
  {
   "cell_type": "code",
   "execution_count": 11,
   "metadata": {},
   "outputs": [
    {
     "name": "stdout",
     "output_type": "stream",
     "text": [
      "After deleting element at index 2: array('i', [20, 30, 50])\n",
      "After deleting the last element: array('i', [20, 30])\n"
     ]
    }
   ],
   "source": [
    "# Delete an element from the middle (index 2)\n",
    "my_array = delete_element(my_array, 2)\n",
    "print(\"After deleting element at index 2:\", my_array)\n",
    "\n",
    "# Delete an element from the end (index len(my_array)-1)\n",
    "my_array = delete_element(my_array, len(my_array) - 1)\n",
    "print(\"After deleting the last element:\", my_array)"
   ]
  },
  {
   "cell_type": "code",
   "execution_count": null,
   "metadata": {},
   "outputs": [],
   "source": []
  }
 ],
 "metadata": {
  "kernelspec": {
   "display_name": "Python 3",
   "language": "python",
   "name": "python3"
  },
  "language_info": {
   "codemirror_mode": {
    "name": "ipython",
    "version": 3
   },
   "file_extension": ".py",
   "mimetype": "text/x-python",
   "name": "python",
   "nbconvert_exporter": "python",
   "pygments_lexer": "ipython3",
   "version": "3.11.5"
  }
 },
 "nbformat": 4,
 "nbformat_minor": 2
}
