{
 "cells": [
  {
   "cell_type": "code",
   "execution_count": 2,
   "id": "5407d724",
   "metadata": {},
   "outputs": [
    {
     "name": "stdout",
     "output_type": "stream",
     "text": [
      "[1, 3, 5, 7, 9]\n"
     ]
    }
   ],
   "source": [
    "print(list(range(1,10,2)))"
   ]
  },
  {
   "cell_type": "code",
   "execution_count": 4,
   "id": "d2b88931",
   "metadata": {},
   "outputs": [
    {
     "name": "stdout",
     "output_type": "stream",
     "text": [
      "1\n",
      "11\n",
      "21\n",
      "31\n",
      "41\n",
      "51\n",
      "61\n",
      "71\n",
      "81\n",
      "91\n"
     ]
    }
   ],
   "source": [
    "for i in range(1,100,10):\n",
    "    print(i)"
   ]
  },
  {
   "cell_type": "code",
   "execution_count": 9,
   "id": "a7d89e66",
   "metadata": {},
   "outputs": [
    {
     "name": "stdout",
     "output_type": "stream",
     "text": [
      "[-10, -9, -8, -7, -6, -5, -4, -3, -2, -1]\n"
     ]
    }
   ],
   "source": [
    "print(list(range(-10,0,1)))"
   ]
  },
  {
   "cell_type": "code",
   "execution_count": 11,
   "id": "c04c79f7",
   "metadata": {},
   "outputs": [
    {
     "name": "stdout",
     "output_type": "stream",
     "text": [
      "erutcurtS ataD nohtyP\n"
     ]
    }
   ],
   "source": [
    "print('Python Data Structure'[::-1])"
   ]
  },
  {
   "cell_type": "code",
   "execution_count": 14,
   "id": "ea97e600",
   "metadata": {},
   "outputs": [
    {
     "data": {
      "text/plain": [
       "'s4'"
      ]
     },
     "execution_count": 14,
     "metadata": {},
     "output_type": "execute_result"
    }
   ],
   "source": [
    "cloud_data = [['vm1','vm2','vm3'],['s1','s2','s3',['s4','s5']],['n1','n2','n3']]\n",
    "\n",
    "cloud_data[1][3][0]"
   ]
  },
  {
   "cell_type": "code",
   "execution_count": 17,
   "id": "842095be",
   "metadata": {},
   "outputs": [
    {
     "name": "stdout",
     "output_type": "stream",
     "text": [
      "vm1\n",
      "vm2\n",
      "vm3\n",
      "s1\n",
      "s2\n",
      "s3\n",
      "['s4', 's5']\n",
      "n1\n",
      "n2\n",
      "n3\n"
     ]
    }
   ],
   "source": [
    "for item in cloud_data:\n",
    "   # print(item)\n",
    "    for i in item:\n",
    "        print(i)"
   ]
  },
  {
   "cell_type": "code",
   "execution_count": 19,
   "id": "b74c9d14",
   "metadata": {},
   "outputs": [
    {
     "data": {
      "text/plain": [
       "[['vm1', 'vm2', 'vm3'],\n",
       " ['s1', 's2', 's3', ['s4', 's5']],\n",
       " ['n1', 'n2', 'n3'],\n",
       " ['vm1', 'vm2', 'vm3'],\n",
       " ['s1', 's2', 's3', ['s4', 's5']],\n",
       " ['n1', 'n2', 'n3']]"
      ]
     },
     "execution_count": 19,
     "metadata": {},
     "output_type": "execute_result"
    }
   ],
   "source": [
    "cloud_data * 2"
   ]
  },
  {
   "cell_type": "code",
   "execution_count": 20,
   "id": "39db6520",
   "metadata": {},
   "outputs": [
    {
     "data": {
      "text/plain": [
       "[['vm1', 'vm2', 'vm3'],\n",
       " ['s1', 's2', 's3', ['s4', 's5']],\n",
       " ['n1', 'n2', 'n3'],\n",
       " ['vm1', 'vm2', 'vm3'],\n",
       " ['s1', 's2', 's3', ['s4', 's5']],\n",
       " ['n1', 'n2', 'n3']]"
      ]
     },
     "execution_count": 20,
     "metadata": {},
     "output_type": "execute_result"
    }
   ],
   "source": [
    "cloud_data + cloud_data"
   ]
  },
  {
   "cell_type": "code",
   "execution_count": 23,
   "id": "3c1afce9",
   "metadata": {},
   "outputs": [],
   "source": [
    "arr = [1, 2, 3, 4, 5, 8, 10]\n",
    "element = arr[2]  # O(1) operation"
   ]
  },
  {
   "cell_type": "code",
   "execution_count": 24,
   "id": "204ce1e3",
   "metadata": {},
   "outputs": [
    {
     "name": "stdout",
     "output_type": "stream",
     "text": [
      "3\n"
     ]
    }
   ],
   "source": [
    "print(element)"
   ]
  },
  {
   "cell_type": "raw",
   "id": "65ef2f40",
   "metadata": {},
   "source": [
    "O(1) - Constant Time: \n",
    "The algorithm's runtime does not change regardless of the input size.\n",
    "Example: Accessing a specific element in a list."
   ]
  },
  {
   "cell_type": "markdown",
   "id": "0dac43e0",
   "metadata": {},
   "source": [
    "# O(N) - Linear Time: \n",
    "    The algorithm's runtime grows linearly with the input size.\n",
    "    Example: Iterating through a list of cloud instances to calculate the total cost."
   ]
  },
  {
   "cell_type": "code",
   "execution_count": 26,
   "id": "86cc7944",
   "metadata": {},
   "outputs": [
    {
     "name": "stdout",
     "output_type": "stream",
     "text": [
      "0.11599999999999999\n"
     ]
    }
   ],
   "source": [
    "instances = [0.024, 0.020, 0.022, 0.024, 0.026]\n",
    "total_cost = sum(instances)  # O(N) operation\n",
    "print(total_cost)"
   ]
  },
  {
   "cell_type": "markdown",
   "id": "984e3814",
   "metadata": {},
   "source": [
    "# O(N^2) - Quadratic Time: \n",
    "    The algorithm's runtime grows quadratically with the input size.\n",
    "    Example: Comparing all pairs of cloud servers to find the most efficient pairing."
   ]
  },
  {
   "cell_type": "code",
   "execution_count": 29,
   "id": "7ada8d0b",
   "metadata": {},
   "outputs": [
    {
     "name": "stdout",
     "output_type": "stream",
     "text": [
      "first loop 0\n",
      "second loop 0\n",
      "1\n",
      "second loop 1\n",
      "2\n",
      "second loop 2\n",
      "3\n",
      "second loop 3\n",
      "4\n",
      "first loop 1\n",
      "second loop 0\n",
      "2\n",
      "second loop 1\n",
      "4\n",
      "second loop 2\n",
      "6\n",
      "second loop 3\n",
      "8\n",
      "first loop 2\n",
      "second loop 0\n",
      "3\n",
      "second loop 1\n",
      "6\n",
      "second loop 2\n",
      "9\n",
      "second loop 3\n",
      "12\n",
      "first loop 3\n",
      "second loop 0\n",
      "4\n",
      "second loop 1\n",
      "8\n",
      "second loop 2\n",
      "12\n",
      "second loop 3\n",
      "16\n"
     ]
    }
   ],
   "source": [
    "servers = [1, 2, 3, 4]\n",
    "for i in range(len(servers)):\n",
    "    print(\"first loop\",i)\n",
    "    for j in range(len(servers)):\n",
    "        print(\"second loop\",j)\n",
    "        efficiency = servers[i] * servers[j]  # O(N^2) operation\n",
    "        print(efficiency)"
   ]
  },
  {
   "cell_type": "markdown",
   "id": "caf018a7",
   "metadata": {},
   "source": [
    "# O(log N) - Logarithmic Time: \n",
    "    The algorithm's runtime grows logarithmically with the input size.\n",
    "    Example: Searching for a specific record in a sorted database hosted in the cloud."
   ]
  },
  {
   "cell_type": "code",
   "execution_count": 40,
   "id": "5611bf89",
   "metadata": {},
   "outputs": [
    {
     "name": "stdout",
     "output_type": "stream",
     "text": [
      "mid value is 4\n",
      "high value is  3\n",
      "mid value is 1\n",
      "low value is 2\n",
      "mid value is 2\n",
      "low value is 3\n",
      "mid value is 3\n",
      "Search Result 3\n"
     ]
    }
   ],
   "source": [
    "def binary_search(arr, x):\n",
    "    low, high = 0, len(arr) - 1 # parallel assignment\n",
    "    while low <= high:\n",
    "        mid = (low + high) // 2\n",
    "        print(\"mid value is\",mid)\n",
    "        if arr[mid] < x:\n",
    "            low = mid + 1\n",
    "            print(\"low value is\",low)\n",
    "        elif arr[mid] > x:\n",
    "            high = mid - 1\n",
    "            print(\"high value is \",high)\n",
    "        else:\n",
    "            return mid\n",
    "    return -1\n",
    "\n",
    "data = [10, 20, 30, 40, 50, 60, 70, 80, 90 ]\n",
    "\n",
    "result = binary_search(data, 40)  # O(log N) operation\n",
    "\n",
    "print(\"Search Result\", result)"
   ]
  },
  {
   "cell_type": "markdown",
   "id": "8cb06554",
   "metadata": {},
   "source": [
    "# O(N log N) - Linearithmic Time: \n",
    "    The algorithm's runtime grows faster than linear time but slower \n",
    "    than quadratic time.\n",
    "    Example: Sorting a list of cloud resource costs \n",
    "    to find the most affordable options."
   ]
  },
  {
   "cell_type": "code",
   "execution_count": 41,
   "id": "c3e24f07",
   "metadata": {},
   "outputs": [
    {
     "name": "stdout",
     "output_type": "stream",
     "text": [
      "[0.018, 0.02, 0.022, 0.024]\n"
     ]
    }
   ],
   "source": [
    "costs = [0.024, 0.020, 0.022, 0.018]\n",
    "sorted_costs = sorted(costs)  # O(N log N) operation\n",
    "print(sorted_costs)"
   ]
  },
  {
   "cell_type": "markdown",
   "id": "bd459ebb",
   "metadata": {},
   "source": [
    "# O(log N) Operation: \n",
    "    Searching for a VM with a specific cost in a sorted list."
   ]
  },
  {
   "cell_type": "code",
   "execution_count": 42,
   "id": "0e8a0dcf",
   "metadata": {},
   "outputs": [
    {
     "name": "stdout",
     "output_type": "stream",
     "text": [
      "mid value is 1\n",
      "low value is 2\n",
      "mid value is 2\n",
      "2\n"
     ]
    }
   ],
   "source": [
    "vm_costs = [0.018, 0.020, 0.022, 0.024]\n",
    "\n",
    "index = binary_search(vm_costs, 0.022)  # O(log N)\n",
    "\n",
    "print(index)"
   ]
  },
  {
   "cell_type": "markdown",
   "id": "2281fa44",
   "metadata": {},
   "source": [
    "# O(N log N) Operation: \n",
    "    Sorting the VMs by cost."
   ]
  },
  {
   "cell_type": "code",
   "execution_count": 43,
   "id": "7ee4fe34",
   "metadata": {},
   "outputs": [
    {
     "name": "stdout",
     "output_type": "stream",
     "text": [
      "[{'cost': 0.02}, {'cost': 0.022}, {'cost': 0.024}]\n"
     ]
    }
   ],
   "source": [
    "vms = [{\"cost\": 0.024}, {\"cost\": 0.020}, {\"cost\": 0.022}]\n",
    "\n",
    "sorted_vms = sorted(vms, key=lambda x: x[\"cost\"])  # O(N log N)\n",
    "\n",
    "print(sorted_vms)"
   ]
  },
  {
   "cell_type": "markdown",
   "id": "76544672",
   "metadata": {},
   "source": [
    "# Python Algorithm Examples Cloud domain"
   ]
  },
  {
   "cell_type": "markdown",
   "id": "5b7766d9",
   "metadata": {},
   "source": [
    "# Sorting Algorithms for Resource Optimization\n",
    "    Example: Use a sorting algorithm to order cloud instances by cost.\n",
    "    Use Case: Optimize cloud resource allocation by selecting the least expensive instances first."
   ]
  },
  {
   "cell_type": "code",
   "execution_count": 45,
   "id": "40ff4af8",
   "metadata": {},
   "outputs": [
    {
     "name": "stdout",
     "output_type": "stream",
     "text": [
      "Cloud Instances [{'id': 'i-001', 'cost': 0.024}, {'id': 'i-002', 'cost': 0.02}, {'id': 'i-003', 'cost': 0.022}]\n",
      "\n",
      "\n",
      "Sorted Cloud Instances [{'id': 'i-002', 'cost': 0.02}, {'id': 'i-003', 'cost': 0.022}, {'id': 'i-001', 'cost': 0.024}]\n"
     ]
    }
   ],
   "source": [
    "instances = [\n",
    "    {\"id\": \"i-001\", \"cost\": 0.024},\n",
    "    {\"id\": \"i-002\", \"cost\": 0.020},\n",
    "    {\"id\": \"i-003\", \"cost\": 0.022}\n",
    "]\n",
    "print(\"Cloud Instances\",instances)\n",
    "\n",
    "sorted_instances = sorted(instances, key=lambda x: x['cost'])\n",
    "\n",
    "print(\"\\n\")\n",
    "\n",
    "print(\"Sorted Cloud Instances\",sorted_instances)"
   ]
  },
  {
   "cell_type": "markdown",
   "id": "8277d54a",
   "metadata": {},
   "source": [
    "# Greedy Algorithm for Cost Management\n",
    "    Example: Implement a greedy algorithm to choose cloud storage options based on price and space.\n",
    "    Use Case: Efficiently allocate storage across different cloud services like S3, Azure Blob Storage."
   ]
  },
  {
   "cell_type": "code",
   "execution_count": 48,
   "id": "8f70deb8",
   "metadata": {},
   "outputs": [
    {
     "name": "stdout",
     "output_type": "stream",
     "text": [
      "\n",
      " Input Storage Options [{'service': 'S3', 'cost_per_gb': 0.023, 'available_gb': 500}, {'service': 'Azure Blob', 'cost_per_gb': 0.02, 'available_gb': 300}, {'service': 'Google Cloud Storage', 'cost_per_gb': 0.025, 'available_gb': 700}]\n",
      "\n",
      " Storage Options based on Space [{'service': 'Azure Blob', 'cost_per_gb': 0.02, 'available_gb': 300}, {'service': 'S3', 'cost_per_gb': 0.023, 'available_gb': 500}, {'service': 'Google Cloud Storage', 'cost_per_gb': 0.025, 'available_gb': 700}]\n",
      "\n",
      " Total cost for storage: $17.5\n"
     ]
    }
   ],
   "source": [
    "storage_options = [\n",
    "    {\"service\": \"S3\", \"cost_per_gb\": 0.023, \"available_gb\": 500},\n",
    "    {\"service\": \"Azure Blob\", \"cost_per_gb\": 0.020, \"available_gb\": 300},\n",
    "    {\"service\": \"Google Cloud Storage\", \"cost_per_gb\": 0.025, \"available_gb\": 700}\n",
    "]\n",
    "print(\"\\n Input Storage Options\",storage_options)\n",
    "\n",
    "storage_options.sort(key=lambda x: x['cost_per_gb'])\n",
    "\n",
    "print(\"\\n Storage Options based on Space\",storage_options)\n",
    "\n",
    "total_cost = 0\n",
    "required_space = 800\n",
    "for option in storage_options:\n",
    "    if required_space <= 0:\n",
    "        break\n",
    "    space_to_allocate = min(option['available_gb'], required_space)\n",
    "    total_cost += space_to_allocate * option['cost_per_gb']\n",
    "    required_space -= space_to_allocate\n",
    "    \n",
    "print(f\"\\n Total cost for storage: ${total_cost}\")"
   ]
  },
  {
   "cell_type": "markdown",
   "id": "27f2062d",
   "metadata": {},
   "source": [
    "# Dynamic Programming for Load Balancing\n",
    "    Example: Use dynamic programming to balance workloads across multiple servers.\n",
    "    Use Case: Efficiently distribute tasks in a cloud environment to minimize latency.\n"
   ]
  },
  {
   "cell_type": "code",
   "execution_count": 56,
   "id": "40360163",
   "metadata": {},
   "outputs": [
    {
     "name": "stdout",
     "output_type": "stream",
     "text": [
      "Task list [2, 4, 5, 7, 8, 9, 10, 12]\n",
      "\n",
      " Number of tasks\n",
      "\n",
      " Total load of task 57\n",
      "False\n",
      "\n",
      " Minimum difference between server loads: 1\n"
     ]
    }
   ],
   "source": [
    "def min_load_diff(tasks, n, total_load):\n",
    "    dp = [[False for _ in range(total_load + 1)] for _ in range(n + 1)]\n",
    "    print(dp[1][0])\n",
    "    for i in range(n + 1):\n",
    "        dp[i][0] = True\n",
    "    for i in range(1, n + 1):\n",
    "        for j in range(1, total_load + 1):\n",
    "            if tasks[i - 1] <= j:\n",
    "                dp[i][j] = dp[i - 1][j] or dp[i - 1][j - tasks[i - 1]]\n",
    "            else:\n",
    "                dp[i][j] = dp[i - 1][j]\n",
    "    diff = float('inf')\n",
    "    for j in range(total_load // 2, -1, -1):\n",
    "        if dp[n][j]:\n",
    "            diff = total_load - 2 * j\n",
    "            break\n",
    "    return diff\n",
    "\n",
    "tasks = [2, 4, 5, 7, 8, 9, 10, 12]\n",
    "print(\"Task list\", tasks)\n",
    "n = len(tasks)\n",
    "print(\"\\n Number of tasks\")\n",
    "\n",
    "total_load = sum(tasks)\n",
    "print(\"\\n Total load of task\", total_load)\n",
    "\n",
    "print(f\"\\n Minimum difference between server loads: {min_load_diff(tasks, n, total_load)}\")\n"
   ]
  },
  {
   "cell_type": "markdown",
   "id": "5c0f762c",
   "metadata": {},
   "source": [
    "# Graph Algorithms for Network Optimization\n",
    "    Example: Apply Dijkstra’s algorithm to find the shortest path in a cloud network.\n",
    "    Use Case: Optimize data flow between cloud services spread across different regions."
   ]
  },
  {
   "cell_type": "code",
   "execution_count": null,
   "id": "330079b2",
   "metadata": {},
   "outputs": [],
   "source": [
    "import heapq\n",
    "\n",
    "def dijkstra(graph, start):\n",
    "    distances = {node: float('inf') for node in graph}\n",
    "    distances[start] = 0\n",
    "    priority_queue = [(0, start)]\n",
    "    while priority_queue:\n",
    "        current_distance, current_node = heapq.heappop(priority_queue)\n",
    "        if current_distance > distances[current_node]:\n",
    "            continue\n",
    "        for neighbor, weight in graph[current_node].items():\n",
    "            distance = current_distance + weight\n",
    "            if distance < distances[neighbor]:\n",
    "                distances[neighbor] = distance\n",
    "                heapq.heappush(priority_queue, (distance, neighbor))\n",
    "    return distances\n",
    "\n",
    "cloud_network = {\n",
    "    'A': {'B': 1, 'C': 4},\n",
    "    'B': {'A': 1, 'C': 2, 'D': 5},\n",
    "    'C': {'A': 4, 'B': 2, 'D': 1},\n",
    "    'D': {'B': 5, 'C': 1}\n",
    "}\n",
    "start_node = 'A'\n",
    "print(dijkstra(cloud_network, start_node))\n"
   ]
  },
  {
   "cell_type": "markdown",
   "id": "0713a3c2",
   "metadata": {},
   "source": [
    "# Backtracking for Resource Allocation\n",
    "    Example: Implement a backtracking algorithm to allocate cloud resources while satisfying constraints.\n",
    "    Use Case: Allocate virtual machines with specific CPU and memory requirements to users in a cloud environment."
   ]
  },
  {
   "cell_type": "code",
   "execution_count": null,
   "id": "84b48d28",
   "metadata": {},
   "outputs": [],
   "source": [
    "def allocate_resources(servers, resources, i):\n",
    "    if i == len(resources):\n",
    "        return True\n",
    "    for j in range(len(servers)):\n",
    "        if servers[j] >= resources[i]:\n",
    "            servers[j] -= resources[i]\n",
    "            if allocate_resources(servers, resources, i + 1):\n",
    "                return True\n",
    "            servers[j] += resources[i]\n",
    "    return False\n",
    "\n",
    "servers = [16, 32, 64]  # Available CPU cores\n",
    "resources = [8, 16, 16, 32]  # Required CPU cores per task\n",
    "print(\"Resource allocation possible?\" , allocate_resources(servers, resources, 0))"
   ]
  },
  {
   "cell_type": "markdown",
   "id": "83ac89a6",
   "metadata": {},
   "source": [
    "# Search Algorithms for Data Retrieval\n",
    "    Example: Use binary search to quickly retrieve data from a sorted cloud database.\n",
    "    Use Case: Efficiently search through large datasets stored in cloud databases \n",
    "    like BigQuery or Redshift."
   ]
  },
  {
   "cell_type": "code",
   "execution_count": null,
   "id": "ac1f5456",
   "metadata": {},
   "outputs": [],
   "source": [
    "def binary_search(arr, x):\n",
    "    low = 0\n",
    "    high = len(arr) - 1\n",
    "    mid = 0\n",
    "    while low <= high:\n",
    "        mid = (high + low) // 2\n",
    "        if arr[mid] < x:\n",
    "            low = mid + 1\n",
    "        elif arr[mid] > x:\n",
    "            high = mid - 1\n",
    "        else:\n",
    "            return mid\n",
    "    return -1\n",
    "\n",
    "data = [10, 20, 30, 40, 50, 60]\n",
    "x = 30\n",
    "result = binary_search(data, x)\n",
    "print(f\"Element found at index: {result}\" if result != -1 else \"Element not found\")\n"
   ]
  },
  {
   "cell_type": "markdown",
   "id": "6e07f58b",
   "metadata": {},
   "source": [
    "# Brute Force Algorithm for Security Analysis\n",
    "    Example: Implement a brute force algorithm to test cloud application security (e.g., password cracking).\n",
    "    Use Case: Assess cloud-based applications for vulnerabilities."
   ]
  },
  {
   "cell_type": "code",
   "execution_count": null,
   "id": "761a8169",
   "metadata": {},
   "outputs": [],
   "source": [
    "import itertools\n",
    "\n",
    "def brute_force(password):\n",
    "    characters = 'abcdefghijklmnopqrstuvwxyz0123456789'\n",
    "    attempts = 0\n",
    "    for length in range(1, 6):\n",
    "        for guess in itertools.product(characters, repeat=length):\n",
    "            attempts += 1\n",
    "            guess = ''.join(guess)\n",
    "            if guess == password:\n",
    "                return attempts\n",
    "    return -1\n",
    "\n",
    "password = 'abc'\n",
    "print(f\"Password cracked in {brute_force(password)} attempts.\")\n"
   ]
  },
  {
   "cell_type": "markdown",
   "id": "00d43a09",
   "metadata": {},
   "source": [
    "# Assignment: Azure Blob Storage Simulation with Python Dictionary\n",
    "\n",
    "    Objective:\n",
    "\n",
    "    Create a Python dictionary that represents an Azure Blob Storage container.\n",
    "    Perform various dictionary operations such as adding, deleting, updating, \n",
    "    and accessing blobs."
   ]
  },
  {
   "cell_type": "markdown",
   "id": "2a17d351",
   "metadata": {},
   "source": [
    "# Write and use dictionary comprehensions for different operations on the blobs.\n",
    "\n",
    "    Part 1: Create a Blob Storage Dictionary\n",
    "\n",
    "    Initialize the Blob Storage Dictionary:\n",
    "\n",
    "    Create an empty dictionary to represent the Blob Storage container.\n",
    "\n",
    "    Each key in the dictionary should represent a blob name (string), and \n",
    "    the value should represent the blob content (string or binary data).\n",
    "\n",
    "    Add Blobs to the Storage:\n",
    "\n",
    "    Write a function add_blob(storage, blob_name, blob_content) that adds a new blob to the storage.\n",
    "\n",
    "    If the blob name already exists, it should update the content.\n",
    "\n",
    "    Retrieve Blob Content:\n",
    "\n",
    "    Write a function get_blob(storage, blob_name) that returns the content of the specified blob.\n",
    "    If the blob name does not exist, return a message indicating that the blob was not found.\n",
    "    Delete a Blob:\n",
    "\n",
    "    Write a function delete_blob(storage, blob_name) that deletes a blob from the storage.\n",
    "    If the blob name does not exist, return a message indicating that the blob was not found.\n",
    "\n",
    "    List All Blobs:\n",
    "\n",
    "    Write a function list_blobs(storage) that returns a list of all blob names in the storage.\n"
   ]
  },
  {
   "cell_type": "markdown",
   "id": "e053bf7b",
   "metadata": {},
   "source": [
    "# Part 2: Dictionary Comprehension\n",
    "\n",
    "    Blob Content Lengths:\n",
    "\n",
    "    Use a dictionary comprehension to create a new dictionary that maps each blob name to the length of its content.\n",
    "    Uppercase Blob Names:\n",
    "\n",
    "    Use a dictionary comprehension to create a new dictionary where all the blob names are converted to uppercase, but the content remains the same.\n",
    "    Filter Blobs by Content Length:\n",
    "\n",
    "    Write a dictionary comprehension to filter blobs that have content length greater than a specified threshold.\n",
    "    Update Blob Content:\n",
    "\n",
    "    Use a dictionary comprehension to append a suffix (e.g., _updated) to the content of each blob.\n"
   ]
  },
  {
   "cell_type": "markdown",
   "id": "718d8811",
   "metadata": {},
   "source": [
    "# Part 3: Application of Operations\n",
    "    Simulate Blob Storage Operations:\n",
    "\n",
    "    Initialize the blob storage with a few blobs.\n",
    "    Perform a series of operations (add, retrieve, delete) on the blob storage.\n",
    "    Use dictionary comprehensions to manipulate and retrieve specific data from the storage.\n",
    "    Document the Code:\n",
    "\n",
    "    Write comments explaining each function and comprehension.\n",
    "    Provide examples of how to use each function with sample inputs and outputs."
   ]
  },
  {
   "cell_type": "code",
   "execution_count": 57,
   "id": "422caafc",
   "metadata": {},
   "outputs": [
    {
     "name": "stdout",
     "output_type": "stream",
     "text": [
      "Hello, World!\n",
      "['file1.txt', 'image.png']\n",
      "{'file1.txt': 13, 'image.png': 8}\n"
     ]
    }
   ],
   "source": [
    "# Initialize the storage\n",
    "blob_storage = {}\n",
    "\n",
    "# Function to add or update a blob\n",
    "def add_blob(storage, blob_name, blob_content):\n",
    "    storage[blob_name] = blob_content\n",
    "\n",
    "# Function to retrieve blob content\n",
    "def get_blob(storage, blob_name):\n",
    "    return storage.get(blob_name, \"Blob not found\")\n",
    "\n",
    "# Function to delete a blob\n",
    "def delete_blob(storage, blob_name):\n",
    "    return storage.pop(blob_name, \"Blob not found\")\n",
    "\n",
    "# Function to list all blobs\n",
    "def list_blobs(storage):\n",
    "    return list(storage.keys())\n",
    "\n",
    "# Example usage\n",
    "add_blob(blob_storage, 'file1.txt', 'Hello, World!')\n",
    "\n",
    "add_blob(blob_storage, 'image.png', b'\\x89PNG\\r\\n\\x1a\\n')\n",
    "\n",
    "print(get_blob(blob_storage, 'file1.txt'))  # Output: Hello, World!\n",
    "\n",
    "print(list_blobs(blob_storage))             # Output: ['file1.txt', 'image.png']\n",
    "\n",
    "\n",
    "# Dictionary Comprehension Examples\n",
    "blob_lengths = {name: len(content) for name, content in blob_storage.items()}\n",
    "\n",
    "print(blob_lengths)"
   ]
  },
  {
   "cell_type": "code",
   "execution_count": null,
   "id": "ce7d2ee5",
   "metadata": {},
   "outputs": [],
   "source": []
  },
  {
   "cell_type": "code",
   "execution_count": null,
   "id": "d45cf6b4",
   "metadata": {},
   "outputs": [],
   "source": []
  },
  {
   "cell_type": "code",
   "execution_count": null,
   "id": "0bf9f307",
   "metadata": {},
   "outputs": [],
   "source": []
  },
  {
   "cell_type": "code",
   "execution_count": null,
   "id": "5e9962c6",
   "metadata": {},
   "outputs": [],
   "source": []
  }
 ],
 "metadata": {
  "kernelspec": {
   "display_name": "Python 3 (ipykernel)",
   "language": "python",
   "name": "python3"
  },
  "language_info": {
   "codemirror_mode": {
    "name": "ipython",
    "version": 3
   },
   "file_extension": ".py",
   "mimetype": "text/x-python",
   "name": "python",
   "nbconvert_exporter": "python",
   "pygments_lexer": "ipython3",
   "version": "3.9.13"
  }
 },
 "nbformat": 4,
 "nbformat_minor": 5
}
