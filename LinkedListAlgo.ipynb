{
 "cells": [
  {
   "cell_type": "markdown",
   "metadata": {},
   "source": [
    "Linked List \n",
    "\n",
    "A Linked List is a dynamic data structure consisting of a sequence of elements (nodes) \n",
    "where each node contains:\n",
    "1.\tData: The value stored in the node (e.g., book title, author, ISBN).\n",
    "\n",
    "2.\tPointer (Next): A reference (memory address) to the next node in the sequence.\n",
    "\n",
    "The key concept here is that each node is linked to the next via its pointer, and the last node points to None, indicating the end of the list.\n",
    "Structure of a Node in a Linked List\n",
    "\n",
    "+-------------+--------------+\n",
    "|    Data     |   Pointer    |\n",
    "+-------------+--------------+\n"
   ]
  },
  {
   "cell_type": "markdown",
   "metadata": {},
   "source": [
    "For example, if we have a linked list of books, it might look like this in memory:\n",
    "\n",
    "[Book1 | Addr2] -> [Book2 | Addr3] -> [Book3 | None]\n",
    "\n",
    "\n",
    "Here, Book1, Book2, and Book3 are the data in the nodes, and Addr2 is the memory address pointing to the next node.\n",
    "\n",
    "\n",
    "Example: Linked List in Memory\n",
    "\n",
    "Assume the following memory addresses for simplicity:\n",
    "•\tAddress 1000: Node containing \"Book1\"\n",
    "•\tAddress 2000: Node containing \"Book2\"\n",
    "•\tAddress 3000: Node containing \"Book3\"\n",
    "\n",
    "\n",
    "The linked list structure in memory might look like:\n",
    "\n",
    "Address 1000: [Book1 | 2000] -> Address 2000: [Book2 | 3000] -> \n",
    "Address 3000: [Book3 | None] "
   ]
  },
  {
   "cell_type": "markdown",
   "metadata": {},
   "source": [
    "Algorithm:\n",
    "1.\tCreate a new node with the given data and next pointing to None.\n",
    "2.\tTraverse the list to find the last node (where next is None).\n",
    "3.\tUpdate the next pointer of the last node to point to the new node.\n",
    "Memory:\n",
    "•\tSuppose we add \"Book4\". A new node is created at address 4000.\n",
    "•\tThe previous last node (at address 3000) is updated to point to address 4000."
   ]
  },
  {
   "cell_type": "markdown",
   "metadata": {},
   "source": [
    "Step 1: Define the Node Class\n",
    "Each node in the singly linked list contains data and a next pointer that points to the next node.\n"
   ]
  },
  {
   "cell_type": "code",
   "execution_count": 2,
   "metadata": {},
   "outputs": [
    {
     "name": "stdout",
     "output_type": "stream",
     "text": [
      "Node: Book1\n",
      "Book1 Address is  4408891664\n",
      "Node: Books2\n",
      "Book2 Address is  4408444752\n",
      "Node: Book3\n",
      "Book3 Address is  4408450576\n"
     ]
    }
   ],
   "source": [
    "class Node:\n",
    "    def __init__(self, data):\n",
    "        self.data = data\n",
    "        self.next = None\n",
    "       # print(\"Node:\",data)\n",
    "\n",
    "Node1 = Node(\"Book1\")\n",
    "print(\"Book1 Address is \",id(Node1))\n",
    "\n",
    "Node2 = Node(\"Books2\")\n",
    "print(\"Book2 Address is \",id(Node2))\n",
    "\n",
    "Node3 = Node(\"Book3\")\n",
    "print(\"Book3 Address is \",id(Node3))\n"
   ]
  },
  {
   "cell_type": "markdown",
   "metadata": {},
   "source": [
    "Step 2: Define the Singly Linked List Class\n",
    "\n",
    "    The Singly Linked List class will manage the nodes and provide methods for various operations like append, prepend, delete, etc.\n"
   ]
  },
  {
   "cell_type": "code",
   "execution_count": null,
   "metadata": {},
   "outputs": [],
   "source": [
    "class SinglyLinkedList:\n",
    "    def __init__(self):\n",
    "        self.head = None"
   ]
  },
  {
   "cell_type": "markdown",
   "metadata": {},
   "source": [
    "Step 3: Implement the Append Method\n",
    "\n",
    "    This method adds a node at the end of the singly linked list."
   ]
  },
  {
   "cell_type": "code",
   "execution_count": 10,
   "metadata": {},
   "outputs": [
    {
     "name": "stdout",
     "output_type": "stream",
     "text": [
      "Node: Book1\n",
      "Node: Book2\n",
      "Node: Book3\n"
     ]
    }
   ],
   "source": [
    "class SinglyLinkedList:\n",
    "    def __init__(self):\n",
    "        self.head = None\n",
    "\n",
    "    def append(self, data):\n",
    "        new_node = Node(data)  # Node Object\n",
    "        if not self.head:  #True\n",
    "            self.head = new_node # First Book1\n",
    "           # print(\"First Book\",self.head.data)\n",
    "        else:\n",
    "            temp = self.head\n",
    "            while temp.next:\n",
    "                temp = temp.next\n",
    "            temp.next = new_node\n",
    "           #print(\"Next Book is \",temp.next.data)\n",
    "\n",
    "B1 = SinglyLinkedList()\n",
    "B1.append(\"Book1\")\n",
    "B1.append(\"Book2\")\n",
    "B1.append(\"Book3\")"
   ]
  },
  {
   "cell_type": "markdown",
   "metadata": {},
   "source": [
    "Time Complexity:\n",
    "\n",
    "    Worst Case: O(n) because you may need to traverse the entire list to find the last node.\n",
    "\n",
    "    Best Case: O(1) if the list is empty and we directly add the first node.\n",
    "    \n",
    "    Space Complexity: O(1) for the append operation as it involves creating just one new node."
   ]
  },
  {
   "cell_type": "markdown",
   "metadata": {},
   "source": [
    "# Display Node "
   ]
  },
  {
   "cell_type": "code",
   "execution_count": 19,
   "metadata": {},
   "outputs": [
    {
     "name": "stdout",
     "output_type": "stream",
     "text": [
      "Book1->Book2->"
     ]
    }
   ],
   "source": [
    "class Node:\n",
    "    def __init__(self, data):\n",
    "        self.data = data\n",
    "        self.next = None\n",
    "\n",
    "class SinglyLinkedList:\n",
    "    def __init__(self):\n",
    "        self.head = None\n",
    "\n",
    "    def append(self, data):\n",
    "        new_node = Node(data)  # Node Object\n",
    "        if not self.head:  #True\n",
    "            self.head = new_node # First Book1\n",
    "           #print(\"First Book\",self.head.data)\n",
    "        else:\n",
    "            temp = self.head\n",
    "            while temp.next:\n",
    "                temp = temp.next\n",
    "            temp.next = new_node\n",
    "            #print(\"Next Book is \",temp.next.data)\n",
    "\n",
    "    def display(self):\n",
    "        '''Display Linked List of node'''\n",
    "        temp = self.head\n",
    "        while temp:\n",
    "            print(temp.data, end= \"->\")\n",
    "            temp = temp.next\n",
    "\n",
    "\n",
    "B1 = SinglyLinkedList()\n",
    "B1.append(\"Book1\")\n",
    "B1.append(\"Book2\")\n",
    "B1.display()"
   ]
  },
  {
   "cell_type": "markdown",
   "metadata": {},
   "source": [
    "Step 4: Implement the Prepend Method\n",
    "This method adds a node at the beginning of the singly linked list."
   ]
  },
  {
   "cell_type": "code",
   "execution_count": 25,
   "metadata": {},
   "outputs": [
    {
     "name": "stdout",
     "output_type": "stream",
     "text": [
      "First Book->Book1->Book2->Book4->None\n"
     ]
    }
   ],
   "source": [
    "class SinglyLinkedList:\n",
    "    def __init__(self):\n",
    "        self.head = None\n",
    "\n",
    "    def append(self, data):\n",
    "        new_node = Node(data)  # Node Object\n",
    "        if not self.head:  #True\n",
    "            self.head = new_node # First Book1\n",
    "           #print(\"First Book\",self.head.data)\n",
    "        else:\n",
    "            temp = self.head\n",
    "            while temp.next:\n",
    "                temp = temp.next\n",
    "            temp.next = new_node\n",
    "            #print(\"Next Book is \",temp.next.data)\n",
    "\n",
    "    def prepend(self, data):\n",
    "        new_node = Node(data)\n",
    "        new_node.next = self.head\n",
    "        self.head = new_node\n",
    "\n",
    "    def display(self):\n",
    "        '''Display Linked List of node'''\n",
    "        temp = self.head\n",
    "        while temp:\n",
    "            print(temp.data, end= \"->\")\n",
    "            temp = temp.next\n",
    "        print(\"None\")\n",
    "\n",
    "    def delete(self, key):\n",
    "        temp = self.head\n",
    "        if temp and temp.data == key:  # Remove Head Node\n",
    "            self.head = temp.next\n",
    "            temp = None\n",
    "            return\n",
    "\n",
    "        prev = None\n",
    "        while temp and temp.data != key:  # if Key not found\n",
    "            prev = temp\n",
    "            temp = temp.next\n",
    "\n",
    "        if not temp:                    # if key not in temp variable\n",
    "            print(f\"Node with data {key} not found.\")\n",
    "            return\n",
    "\n",
    "        prev.next = temp.next  # Check next node\n",
    "        temp = None # Initialise temp by None\n",
    "\n",
    "\n",
    "B1 = SinglyLinkedList()\n",
    "B1.append(\"Book1\")\n",
    "B1.append(\"Book2\")\n",
    "B1.prepend(\"First Book\")\n",
    "B1.append(\"Book3\")\n",
    "B1.append(\"Book4\")\n",
    "B1.delete(\"Book3\")\n",
    "B1.display()\n"
   ]
  },
  {
   "cell_type": "markdown",
   "metadata": {},
   "source": [
    "Step 5: Implement the Traverse Method\n",
    "This method will traverse the entire singly linked list and print each node's data."
   ]
  },
  {
   "cell_type": "code",
   "execution_count": null,
   "metadata": {},
   "outputs": [],
   "source": [
    "def traverse(self):\n",
    "    temp = self.head\n",
    "    while temp:\n",
    "        print(temp.data, end=\" -> \")\n",
    "        temp = temp.next\n",
    "    print(\"None\")"
   ]
  },
  {
   "cell_type": "markdown",
   "metadata": {},
   "source": [
    "Step 6: Implement the Search Method\n",
    "This method searches for a node with the given data."
   ]
  },
  {
   "cell_type": "code",
   "execution_count": null,
   "metadata": {},
   "outputs": [],
   "source": [
    "def search(self, key):\n",
    "    temp = self.head\n",
    "    while temp:\n",
    "        if temp.data == key:\n",
    "            return True\n",
    "        temp = temp.next\n",
    "    return False"
   ]
  },
  {
   "cell_type": "markdown",
   "metadata": {},
   "source": [
    "Step 7: Implement the Delete Method\n",
    "This method deletes the first node with the given data."
   ]
  },
  {
   "cell_type": "code",
   "execution_count": null,
   "metadata": {},
   "outputs": [],
   "source": [
    "def delete(self, key):\n",
    "    temp = self.head\n",
    "    if temp and temp.data == key:\n",
    "        self.head = temp.next\n",
    "        temp = None\n",
    "        return\n",
    "\n",
    "    prev = None\n",
    "    while temp and temp.data != key:\n",
    "        prev = temp\n",
    "        temp = temp.next\n",
    "\n",
    "    if not temp:\n",
    "        print(f\"Node with data {key} not found.\")\n",
    "        return\n",
    "\n",
    "    prev.next = temp.next\n",
    "    temp = None"
   ]
  },
  {
   "cell_type": "markdown",
   "metadata": {},
   "source": [
    "Step 8: Implement the str Method\n",
    "This method will represent the linked list as a string for easy viewing."
   ]
  },
  {
   "cell_type": "code",
   "execution_count": null,
   "metadata": {},
   "outputs": [],
   "source": [
    "def __str__(self):\n",
    "    result = []\n",
    "    temp = self.head\n",
    "    while temp:\n",
    "        result.append(str(temp.data))\n",
    "        temp = temp.next\n",
    "    return \" -> \".join(result) + \" -> None\""
   ]
  },
  {
   "cell_type": "markdown",
   "metadata": {},
   "source": [
    "Step 9: Implement the Singly Linked List Class with All Methods"
   ]
  },
  {
   "cell_type": "code",
   "execution_count": null,
   "metadata": {},
   "outputs": [],
   "source": [
    "class SinglyLinkedList:\n",
    "    def __init__(self):\n",
    "        self.head = None\n",
    "\n",
    "    def append(self, data):\n",
    "        new_node = Node(data)\n",
    "        if not self.head:\n",
    "            self.head = new_node\n",
    "        else:\n",
    "            temp = self.head\n",
    "            while temp.next:\n",
    "                temp = temp.next\n",
    "            temp.next = new_node\n",
    "\n",
    "    def prepend(self, data):\n",
    "        new_node = Node(data)\n",
    "        new_node.next = self.head\n",
    "        self.head = new_node\n",
    "\n",
    "    def traverse(self):\n",
    "        temp = self.head\n",
    "        while temp:\n",
    "            print(temp.data, end=\" -> \")\n",
    "            temp = temp.next\n",
    "        print(\"None\")\n",
    "\n",
    "    def search(self, key):\n",
    "        temp = self.head\n",
    "        while temp:\n",
    "            if temp.data == key:\n",
    "                return True\n",
    "            temp = temp.next\n",
    "        return False\n",
    "\n",
    "    def delete(self, key):\n",
    "        temp = self.head\n",
    "        if temp and temp.data == key:\n",
    "            self.head = temp.next\n",
    "            temp = None\n",
    "            return\n",
    "\n",
    "        prev = None\n",
    "        while temp and temp.data != key:\n",
    "            prev = temp\n",
    "            temp = temp.next\n",
    "\n",
    "        if not temp:\n",
    "            print(f\"Node with data {key} not found.\")\n",
    "            return\n",
    "\n",
    "        prev.next = temp.next\n",
    "        temp = None\n",
    "\n",
    "    def __str__(self):\n",
    "        result = []   # Create list for all nodes\n",
    "        temp = self.head # Store first node address in temp variable\n",
    "        while temp:   # If True\n",
    "            result.append(str(temp.data)) # Add data node in result list\n",
    "            temp = temp.next # Next element\n",
    "        return \" -> \".join(result) + \" -> None\"  # Convert Result List into string of Nodes and\n",
    "                                                # add None to last node"
   ]
  },
  {
   "cell_type": "markdown",
   "metadata": {},
   "source": [
    "Explanation of Time and Space Complexity for Each Operation:\n",
    "•\tAppend:\n",
    "o\tTime Complexity: O(n) - because we have to traverse to the end of the list.\n",
    "o\tSpace Complexity: O(1) - only a new node is added.\n",
    "\n",
    "•\tPrepend:\n",
    "o\tTime Complexity: O(1) - we directly add the node at the beginning.\n",
    "o\tSpace Complexity: O(1) - only a new node is added.\n",
    "\n",
    "•\tTraverse:\n",
    "o\tTime Complexity: O(n) - we visit each node once.\n",
    "o\tSpace Complexity: O(1) - no additional space required.\n",
    "\n",
    "•\tSearch:\n",
    "o\tTime Complexity: O(n) - we may need to search through all nodes.\n",
    "o\tSpace Complexity: O(1) - no additional space required.\n",
    "\n",
    "•\tDelete:\n",
    "o\tTime Complexity: O(n) - in the worst case, we might need to search through all nodes.\n",
    "\n",
    "o\tSpace Complexity: O(1) - no additional space required.\n",
    "\n",
    "This program defines a singly linked list and implements various operations, with clear time and space complexity considerations."
   ]
  }
 ],
 "metadata": {
  "kernelspec": {
   "display_name": "Python 3",
   "language": "python",
   "name": "python3"
  },
  "language_info": {
   "codemirror_mode": {
    "name": "ipython",
    "version": 3
   },
   "file_extension": ".py",
   "mimetype": "text/x-python",
   "name": "python",
   "nbconvert_exporter": "python",
   "pygments_lexer": "ipython3",
   "version": "3.11.5"
  }
 },
 "nbformat": 4,
 "nbformat_minor": 2
}
