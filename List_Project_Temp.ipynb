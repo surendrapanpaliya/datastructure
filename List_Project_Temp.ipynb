{
 "cells": [
  {
   "cell_type": "code",
   "execution_count": 1,
   "metadata": {},
   "outputs": [
    {
     "name": "stdout",
     "output_type": "stream",
     "text": [
      "Average Temperature: 22.00°C\n"
     ]
    }
   ],
   "source": [
    "# Calculate Average Temperature\n",
    "# List of daily temperatures\n",
    "temperatures = [22, 24, 19, 21, 25, 20, 23]\n",
    "\n",
    "# Calculate average temperature\n",
    "average_temp = sum(temperatures) / len(temperatures)\n",
    "print(f\"Average Temperature: {average_temp:.2f}°C\")"
   ]
  },
  {
   "cell_type": "code",
   "execution_count": 4,
   "metadata": {},
   "outputs": [
    {
     "name": "stdout",
     "output_type": "stream",
     "text": [
      "Days with Above Average Temperature: [24, 25, 23]\n",
      "Tuesday: 24°C\n",
      "Friday: 25°C\n",
      "Sunday: 23°C\n",
      "Number of Days with Above Average Temperature: 3\n"
     ]
    }
   ],
   "source": [
    "\n",
    "# Find the Days Above Average Temperature\n",
    "\n",
    "# List of daily temperatures\n",
    "temperatures = [22, 24, 19, 21, 25, 20, 23]\n",
    "\n",
    "# Calculate average temperature\n",
    "average_temp = sum(temperatures) / len(temperatures)\n",
    "\n",
    "# Find days with temperatures above average\n",
    "above_average_days = [temp for temp in temperatures if temp > average_temp]\n",
    "\n",
    "print(f\"Days with Above Average Temperature: {above_average_days}\")\n",
    "\n",
    "week_days = ['Monday', 'Tuesday', 'Wednesday', 'Thursday', 'Friday', 'Saturday', 'Sunday']\n",
    "\n",
    "# Print the days with above average temperature\n",
    "for day, temp in zip(week_days, temperatures):\n",
    "    if temp > average_temp:\n",
    "        print(f\"{day}: {temp}°C\")\n",
    "\n",
    "# Calculate the number of days with above average temperature\n",
    "num_days = len(above_average_days)\n",
    "print(f\"Number of Days with Above Average Temperature: {num_days}\")\n"
   ]
  }
 ],
 "metadata": {
  "kernelspec": {
   "display_name": "Python 3",
   "language": "python",
   "name": "python3"
  },
  "language_info": {
   "codemirror_mode": {
    "name": "ipython",
    "version": 3
   },
   "file_extension": ".py",
   "mimetype": "text/x-python",
   "name": "python",
   "nbconvert_exporter": "python",
   "pygments_lexer": "ipython3",
   "version": "3.11.5"
  }
 },
 "nbformat": 4,
 "nbformat_minor": 2
}
