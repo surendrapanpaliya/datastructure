{
 "cells": [
  {
   "cell_type": "markdown",
   "metadata": {},
   "source": [
    "Circular Linked List (CLL)\n",
    "\n",
    "    A Circular Linked List (CLL) is a variation of the linked list where the last node points back to the first node instead of None, forming a circle. \n",
    "\n",
    "    This ensures that the list can be traversed continuously without hitting a None pointer.\n",
    "\n",
    "Circular Linked List Algorithm\n",
    "\n",
    "    Address 1000: [Book1 | 2000] -> Address 2000: [Book2 | 3000] -> Address 3000: [Book3 | 1000]\n"
   ]
  },
  {
   "cell_type": "markdown",
   "metadata": {},
   "source": [
    "Step 1: Define the Node Class\n",
    "\n",
    "Each node in the circular linked list contains data and a next pointer that points to the next node."
   ]
  },
  {
   "cell_type": "code",
   "execution_count": 1,
   "metadata": {},
   "outputs": [],
   "source": [
    "class Node:\n",
    "    def __init__(self, data):\n",
    "        self.data = data\n",
    "        self.next = None"
   ]
  },
  {
   "cell_type": "markdown",
   "metadata": {},
   "source": [
    "Step 2: Define the Circular Linked List Class\n",
    "The Circular Linked List class will manage the nodes and provide methods for various operations."
   ]
  },
  {
   "cell_type": "code",
   "execution_count": null,
   "metadata": {},
   "outputs": [],
   "source": [
    "class Node:\n",
    "    def __init__(self, data):\n",
    "        self.data = data\n",
    "        self.next = None\n",
    "\n",
    "class CircularLinkedList:\n",
    "    def __init__(self):\n",
    "        self.head = None"
   ]
  },
  {
   "cell_type": "markdown",
   "metadata": {},
   "source": [
    "1. Append Operation\n",
    "\n",
    "Algorithm:\n",
    "1.\tCreate a new node with the given data and next pointing to the head.\n",
    "2.\tTraverse the list to find the last node (where next points to the head).\n",
    "3.\tUpdate the next pointer of the last node to point to the new node.\n"
   ]
  },
  {
   "cell_type": "code",
   "execution_count": 2,
   "metadata": {},
   "outputs": [
    {
     "name": "stdout",
     "output_type": "stream",
     "text": [
      "Circular Linked List:\n",
      "Book1 -> Book2 -> Book3 -> \n"
     ]
    }
   ],
   "source": [
    "class Node:\n",
    "    def __init__(self, data):\n",
    "        self.data = data\n",
    "        self.next = None\n",
    "\n",
    "class CircularLinkedList:\n",
    "    def __init__(self):\n",
    "        self.head = None\n",
    "\n",
    "    def append(self, data):\n",
    "        new_node = Node(data)\n",
    "        if not self.head:\n",
    "            self.head = new_node\n",
    "            new_node.next = self.head\n",
    "        else:\n",
    "            temp = self.head\n",
    "            while temp.next != self.head:\n",
    "                temp = temp.next\n",
    "            temp.next = new_node\n",
    "            new_node.next = self.head\n",
    "\n",
    "    def traverse(self):\n",
    "        if not self.head:\n",
    "            print(\"List is empty.\")\n",
    "            return\n",
    "        temp = self.head\n",
    "        while True:\n",
    "            print(temp.data, end=\" -> \")\n",
    "            temp = temp.next\n",
    "            if temp == self.head:\n",
    "                break\n",
    "        print()\n",
    "\n",
    "cll = CircularLinkedList()\n",
    "# Append nodes\n",
    "cll.append(\"Book1\")\n",
    "cll.append(\"Book2\")\n",
    "cll.append(\"Book3\")\n",
    "\n",
    "# Traverse the list\n",
    "print(\"Circular Linked List:\")\n",
    "cll.traverse()"
   ]
  },
  {
   "cell_type": "markdown",
   "metadata": {},
   "source": [
    "Memory:\n",
    "•\tSuppose we add \"Book4\". A new node is created at address 4000.\n",
    "•\tThe last node (previously at address 3000) is updated to point to address 4000, and the new node's next points back to the head (address 1000).\n",
    "\n",
    "\n",
    "Time Complexity:\n",
    "•\tWorst Case: O(n) because you may need to traverse the entire list to find the last node.\n",
    "•\tBest Case: O(1) if the list is empty and we directly add the first node.\n",
    "•\tSpace Complexity: O(1) for the append operation as it involves creating just one new node."
   ]
  },
  {
   "cell_type": "markdown",
   "metadata": {},
   "source": [
    "2. Traversal Operation\n",
    "Algorithm:\n",
    "1.\tStart at the head node.\n",
    "2.\tVisit each node, accessing its data, and move to the next node using the pointer.\n",
    "3.\tStop when you return to the head node."
   ]
  },
  {
   "cell_type": "code",
   "execution_count": null,
   "metadata": {},
   "outputs": [],
   "source": [
    "def traverse(self):\n",
    "    if not self.head:\n",
    "        print(\"List is empty.\")\n",
    "        return\n",
    "    temp = self.head\n",
    "    while True:\n",
    "        print(temp.data, end=\" -> \")\n",
    "        temp = temp.next\n",
    "        if temp == self.head:\n",
    "            break\n",
    "    print()"
   ]
  },
  {
   "cell_type": "markdown",
   "metadata": {},
   "source": [
    "Memory:\n",
    "•\tNo new memory is allocated, just accessing each node's memory.\n",
    "Time Complexity:\n",
    "•\tWorst Case: O(n) as you need to visit each node.\n",
    "•\tBest Case: O(1) if there is only one node.\n",
    "•\tSpace Complexity: O(1) since traversal doesn't use any extra space."
   ]
  },
  {
   "cell_type": "markdown",
   "metadata": {},
   "source": [
    "3. Search Operation\n",
    "\n",
    "Algorithm:\n",
    "1.\tStart at the head node.\n",
    "2.\tCompare each node’s data with the target value.\n",
    "3.\tIf found, return the node; if you loop back to the head, return None.\n",
    "Memory:\n",
    "•\tNo new memory is allocated, just accessing each node's memory.\n",
    "Time Complexity:\n",
    "•\tWorst Case: O(n) if the element is at the end or not present.\n",
    "•\tBest Case: O(1) if the element is the first node.\n",
    "•\tSpace Complexity: O(1) since no extra space is used.\n"
   ]
  },
  {
   "cell_type": "code",
   "execution_count": null,
   "metadata": {},
   "outputs": [],
   "source": [
    "def search(self, key):\n",
    "    if not self.head:\n",
    "        return False\n",
    "    temp = self.head\n",
    "    while True:\n",
    "        if temp.data == key:\n",
    "            return True\n",
    "        temp = temp.next\n",
    "        if temp == self.head:\n",
    "            break\n",
    "    return False"
   ]
  },
  {
   "cell_type": "markdown",
   "metadata": {},
   "source": [
    "4. Insertion Operation\n",
    "\n",
    "•\tAt the Beginning:\n",
    "o\tAlgorithm:\n",
    "1.\tCreate a new node.\n",
    "2.\tSet its next to the current head.\n",
    "3.\tTraverse to the last node and update its next to point to the new node.\n",
    "4.\tUpdate the head to this new node.\n",
    "\n"
   ]
  },
  {
   "cell_type": "code",
   "execution_count": null,
   "metadata": {},
   "outputs": [],
   "source": [
    "  def prepend(self, data):\n",
    "        new_node = Node(data)\n",
    "        if not self.head:\n",
    "            self.head = new_node\n",
    "            self.head.next = self.head\n",
    "        else:\n",
    "            new_node.next = self.head\n",
    "            current = self.head\n",
    "            while current.next != self.head:\n",
    "                current = current.next\n",
    "            current.next = new_node\n",
    "            self.head = new_node"
   ]
  },
  {
   "cell_type": "code",
   "execution_count": null,
   "metadata": {},
   "outputs": [],
   "source": [
    "def insert_after(self, prev_data, data):\n",
    "    if not self.head:\n",
    "        print(\"List is empty.\")\n",
    "        return\n",
    "    temp = self.head\n",
    "    while True:\n",
    "        if temp.data == prev_data:\n",
    "            new_node = Node(data)\n",
    "            new_node.next = temp.next\n",
    "            temp.next = new_node\n",
    "            return\n",
    "        temp = temp.next\n",
    "        if temp == self.head:\n",
    "            break\n",
    "    print(f\"Node with data {prev_data} not found.\")"
   ]
  },
  {
   "cell_type": "markdown",
   "metadata": {},
   "source": [
    "4. Insertion Operation\n",
    "\n",
    "Time Complexity: O(n) because of the need to update the last node's next pointer.\n",
    "Space Complexity: O(1) as only one new node is created.\n",
    "•\tAt the End:\n",
    "o\tSame as append; Time Complexity is O(n) in the worst case."
   ]
  },
  {
   "cell_type": "markdown",
   "metadata": {},
   "source": [
    "4. Insertion Operation\n",
    "\n",
    "•\tAt a Specific Position:\n",
    "\n",
    "o\tAlgorithm:\n",
    "1.\tTraverse the list to the desired position.\n",
    "2.\tInsert the new node by adjusting the next pointers.\n",
    "o\tTime Complexity: O(n) in the worst case.\n",
    "o\tSpace Complexity: O(1).\n"
   ]
  },
  {
   "cell_type": "markdown",
   "metadata": {},
   "source": [
    "5. Deletion Operation\n",
    "•\tFrom the Beginning:\n",
    "o\tAlgorithm:\n",
    "1.\tTraverse to the last node.\n",
    "2.\tUpdate the head to the next node.\n",
    "3.\tSet the last node’s next to the new head.\n",
    "o\tTime Complexity: O(n) due to the traversal to the last node.\n",
    "o\tSpace Complexity: O(1)."
   ]
  },
  {
   "cell_type": "code",
   "execution_count": null,
   "metadata": {},
   "outputs": [],
   "source": [
    "def delete_first(self):\n",
    "    if not self.head:\n",
    "        print(\"List is empty.\")\n",
    "        return\n",
    "    if self.head.next == self.head:\n",
    "        self.head = None\n",
    "        return\n",
    "    temp = self.head\n",
    "    while temp.next != self.head:\n",
    "        temp = temp.next\n",
    "    temp.next = self.head.next\n",
    "    self.head = self.head.next"
   ]
  },
  {
   "cell_type": "markdown",
   "metadata": {},
   "source": [
    "•\tFrom the End:\n",
    "o\tAlgorithm:\n",
    "1.\tTraverse to the second-to-last node.\n",
    "2.\tUpdate its next to point to the head.\n",
    "3.\tDeallocate the last node.\n",
    "o\tTime Complexity: O(n) in the worst case.\n",
    "o\tSpace Complexity: O(1).\n"
   ]
  },
  {
   "cell_type": "code",
   "execution_count": null,
   "metadata": {},
   "outputs": [],
   "source": [
    "def delete_last(self):\n",
    "    if not self.head:\n",
    "        print(\"List is empty.\")\n",
    "        return\n",
    "    if self.head.next == self.head:\n",
    "        self.head = None\n",
    "        return\n",
    "    temp = self.head\n",
    "    while temp.next.next != self.head:\n",
    "        temp = temp.next\n",
    "    temp.next = self.head"
   ]
  },
  {
   "cell_type": "markdown",
   "metadata": {},
   "source": [
    "•\tFrom a Specific Position:\n",
    "o\tSimilar to the above but requires a traversal to the specific position.\n",
    "o\tTime Complexity: O(n).\n",
    "o\tSpace Complexity: O(1)."
   ]
  },
  {
   "cell_type": "code",
   "execution_count": null,
   "metadata": {},
   "outputs": [],
   "source": [
    "def delete_node(self, key):\n",
    "    if not self.head:\n",
    "        print(\"List is empty.\")\n",
    "        return\n",
    "    if self.head.data == key:\n",
    "        self.delete_first()\n",
    "        return\n",
    "    temp = self.head\n",
    "    while temp.next != self.head:\n",
    "        if temp.next.data == key:\n",
    "            temp.next = temp.next.next\n",
    "            return\n",
    "        temp = temp.next\n",
    "    print(f\"Node with data {key} not found.\")"
   ]
  },
  {
   "cell_type": "code",
   "execution_count": null,
   "metadata": {},
   "outputs": [],
   "source": [
    "class CircularLinkedList:\n",
    "    def __init__(self):\n",
    "        self.head = None\n",
    "\n",
    "    def append(self, data):\n",
    "        new_node = Node(data)\n",
    "        if not self.head:\n",
    "            self.head = new_node\n",
    "            new_node.next = self.head\n",
    "        else:\n",
    "            temp = self.head\n",
    "            while temp.next != self.head:\n",
    "                temp = temp.next\n",
    "            temp.next = new_node\n",
    "            new_node.next = self.head\n",
    "\n",
    "    def traverse(self):\n",
    "        if not self.head:\n",
    "            print(\"List is empty.\")\n",
    "            return\n",
    "        temp = self.head\n",
    "        while True:\n",
    "            print(temp.data, end=\" -> \")\n",
    "            temp = temp.next\n",
    "            if temp == self.head:\n",
    "                break\n",
    "        print()\n",
    "\n",
    "    def search(self, key):\n",
    "        if not self.head:\n",
    "            return False\n",
    "        temp = self.head\n",
    "        while True:\n",
    "            if temp.data == key:\n",
    "                return True\n",
    "            temp = temp.next\n",
    "            if temp == self.head:\n",
    "                break\n",
    "        return False\n",
    "\n",
    "    def insert_after(self, prev_data, data):\n",
    "        if not self.head:\n",
    "            print(\"List is empty.\")\n",
    "            return\n",
    "        temp = self.head\n",
    "        while True:\n",
    "            if temp.data == prev_data:\n",
    "                new_node = Node(data)\n",
    "                new_node.next = temp.next\n",
    "                temp.next = new_node\n",
    "                return\n",
    "            temp = temp.next\n",
    "            if temp == self.head:\n",
    "                break\n",
    "        print(f\"Node with data {prev_data} not found.\")\n",
    "\n",
    "    def delete_first(self):\n",
    "        if not self.head:\n",
    "            print(\"List is empty.\")\n",
    "            return\n",
    "        if self.head.next == self.head:\n",
    "            self.head = None\n",
    "            return\n",
    "        temp = self.head\n",
    "        while temp.next != self.head:\n",
    "            temp = temp.next\n",
    "        temp.next = self.head.next\n",
    "        self.head = self.head.next\n",
    "\n",
    "    def delete_last(self):\n",
    "        if not self.head:\n",
    "            print(\"List is empty.\")\n",
    "            return\n",
    "        if self.head.next == self.head:\n",
    "            self.head = None\n",
    "            return\n",
    "        temp = self.head\n",
    "        while temp.next.next != self.head:\n",
    "            temp = temp.next\n",
    "        temp.next = self.head\n",
    "\n",
    "    def delete_node(self, key):\n",
    "        if not self.head:\n",
    "            print(\"List is empty.\")\n",
    "            return\n",
    "        if self.head.data == key:\n",
    "            self.delete_first()\n",
    "            return\n",
    "        temp = self.head\n",
    "        while temp.next != self.head:\n",
    "            if temp.next.data == key:\n",
    "                temp.next = temp.next.next\n",
    "                return\n",
    "            temp = temp.next\n",
    "        print(f\"Node with data {key} not found.\")"
   ]
  },
  {
   "cell_type": "code",
   "execution_count": null,
   "metadata": {},
   "outputs": [],
   "source": [
    "if __name__ == \"__main__\":\n",
    "    cll = CircularLinkedList()\n",
    "\n",
    "    # Append nodes\n",
    "    cll.append(\"Book1\")\n",
    "    cll.append(\"Book2\")\n",
    "    cll.append(\"Book3\")\n",
    "\n",
    "    # Traverse the list\n",
    "    print(\"Circular Linked List:\")\n",
    "    cll.traverse()\n",
    "\n",
    "    # Insert after a specific node\n",
    "    cll.insert_after(\"Book2\", \"Book2.5\")\n",
    "    print(\"After inserting Book2.5 after Book2:\")\n",
    "    cll.traverse()\n",
    "\n",
    "    # Search for a node\n",
    "    print(\"Searching for Book2:\")\n",
    "    print(cll.search(\"Book2\"))\n",
    "\n",
    "    # Delete first node\n",
    "    cll.delete_first()\n",
    "    print(\"After deleting the first node:\")\n",
    "    cll.traverse()\n",
    "\n",
    "    # Delete last node\n",
    "    cll.delete_last()\n",
    "    print(\"After deleting the last node:\")\n",
    "    cll.traverse()\n",
    "\n",
    "    # Delete a specific node\n",
    "    cll.delete_node(\"Book2.5\")\n",
    "    print(\"After deleting Book2.5:\")\n",
    "    cll.traverse()"
   ]
  },
  {
   "cell_type": "markdown",
   "metadata": {},
   "source": [
    "Explanation of Time and Space Complexity for Each Operation:\n",
    "•\tAppend: O(n) time, O(1) space.\n",
    "•\tTraverse: O(n) time, O(1) space.\n",
    "•\tSearch: O(n) time, O(1) space.\n",
    "•\tInsert After: O(n) time, O(1) space.\n",
    "•\tDelete First: O(n) time, O(1) space.\n",
    "•\tDelete Last: O(n) time, O(1) space.\n",
    "•\tDelete Node: O(n) time, O(1) space."
   ]
  }
 ],
 "metadata": {
  "kernelspec": {
   "display_name": "Python 3",
   "language": "python",
   "name": "python3"
  },
  "language_info": {
   "codemirror_mode": {
    "name": "ipython",
    "version": 3
   },
   "file_extension": ".py",
   "mimetype": "text/x-python",
   "name": "python",
   "nbconvert_exporter": "python",
   "pygments_lexer": "ipython3",
   "version": "3.11.5"
  }
 },
 "nbformat": 4,
 "nbformat_minor": 2
}
