{
 "cells": [
  {
   "cell_type": "code",
   "execution_count": 6,
   "metadata": {},
   "outputs": [
    {
     "name": "stdout",
     "output_type": "stream",
     "text": [
      "[1, 2, 3, 4, 5]\n",
      "[6, 7, 8, 9, 10]\n",
      "[1, 2, 3, 4, 5, 6, 7, 8, 9, 10]\n",
      "[1 2 3 4 5]\n",
      "[ 6  7  8  9 10]\n",
      "[ 7  9 11 13 15]\n",
      "3\n",
      "[7, 9, 11, 13, 15]\n"
     ]
    }
   ],
   "source": [
    "import numpy as np\n",
    "from numpy import array, matrix\n",
    "\n",
    "List1 = [1, 2, 3, 4, 5]\n",
    "\n",
    "print(List1)\n",
    "\n",
    "List2 = [6, 7, 8, 9, 10]\n",
    "\n",
    "print(List2)\n",
    "\n",
    "print(List1 + List2)\n",
    "\n",
    "array1 = array(List1)\n",
    "\n",
    "print(array1) # [1 2 3 4 5]\n",
    "\n",
    "array2 = array(List2)\n",
    "\n",
    "print(array2) # [ 6  7  8  9 10]\n",
    "\n",
    "array3 = array1 + array2\n",
    "\n",
    "print(array3) # [ 7  9 11 13 15]\n",
    "\n",
    "add = lambda var1, var2: var1 + var2\n",
    "\n",
    "print(add(1, 2)) # 3\n",
    "\n",
    "result = list(map(add, List1, List2))\n",
    "print(result)"
   ]
  },
  {
   "cell_type": "code",
   "execution_count": 13,
   "metadata": {},
   "outputs": [
    {
     "name": "stdout",
     "output_type": "stream",
     "text": [
      "[[1, 216], [8, 343], [27, 512], [64, 729], [125, 1000]]\n",
      "['PYTHON', 'JYTHON', 'SCALA', 'DOTNET', 'JAVA']\n"
     ]
    }
   ],
   "source": [
    "print(list(map(lambda var1, var2 : [var1**3, var2**3 ], List1, List2)))\n",
    "\n",
    "books = [ 'python','jython','scala','dotnet','java']\n",
    "\n",
    "print(list(map(lambda var1 : var1.upper(), books)))"
   ]
  },
  {
   "cell_type": "code",
   "execution_count": 20,
   "metadata": {},
   "outputs": [
    {
     "name": "stdout",
     "output_type": "stream",
     "text": [
      "[False, True, False, True, False, True, False, True, False, True]\n",
      "[2, 4, 6, 8, 10]\n",
      "[2, 4, 6, 8, 10]\n"
     ]
    }
   ],
   "source": [
    "def even_odd(var1):\n",
    "                    ''' Even or Odd number'''\n",
    "                    if var1 % 2 == 0:\n",
    "                                        return True\n",
    "                    else:\n",
    "                                        return False\n",
    "\n",
    "print(list(map(even_odd, [1, 2, 3, 4, 5, 6, 7, 8, 9, 10])))\n",
    "\n",
    "print(list(filter(even_odd, [1, 2, 3, 4, 5, 6, 7, 8, 9, 10])))\n",
    "print(list(filter(lambda var1 : var1 % 2 == 0, [1, 2, 3, 4, 5, 6, 7, 8, 9, 10])))"
   ]
  },
  {
   "cell_type": "code",
   "execution_count": 24,
   "metadata": {},
   "outputs": [
    {
     "name": "stdout",
     "output_type": "stream",
     "text": [
      "[3, 6, 9]\n",
      "[1, 5, 7, 11, 13, 17, 19, 23]\n"
     ]
    }
   ],
   "source": [
    "print(list(filter(lambda var1 : var1 % 3 == 0, [1, 2, 3, 4, 5, 6, 7, 8, 9, 10])))\n",
    "\n",
    "print(list(filter(lambda var: var % 2 !=0 and var % 3 != 0, range(1,25))))"
   ]
  },
  {
   "cell_type": "code",
   "execution_count": 1,
   "metadata": {},
   "outputs": [
    {
     "name": "stdout",
     "output_type": "stream",
     "text": [
      "[(1, 4), (2, 5), (3, 6)]\n"
     ]
    }
   ],
   "source": [
    "list3 = list(zip([1, 2, 3], [4, 5, 6]))\n",
    "print(list3)"
   ]
  },
  {
   "cell_type": "code",
   "execution_count": 44,
   "metadata": {},
   "outputs": [
    {
     "name": "stdout",
     "output_type": "stream",
     "text": [
      "[('name', 'Suresh'), ('age', 25), ('city', 'Hyderabad'), ('state', 'Telangana'), ('country', 'India')]\n",
      "What is your name? It is Suresh.\n",
      "What is your age? It is 25.\n",
      "What is your city? It is Hyderabad.\n",
      "What is your state? It is Telangana.\n",
      "What is your country? It is India.\n",
      "{'name': 'Suresh', 'age': 25, 'city': 'Hyderabad', 'state': 'Telangana', 'country': 'India'}\n"
     ]
    }
   ],
   "source": [
    "Que = ['name','age','city','state','country']\n",
    "Ans = ['Suresh', 25, 'Hyderabad', 'Telangana', 'India']\n",
    "\n",
    "print(list(zip(Que, Ans)))\n",
    "\n",
    "for q, a in zip(Que, Ans):\n",
    "                    print('What is your {0}? It is {1}.'.format(q, a))\n",
    "\n"
   ]
  },
  {
   "cell_type": "code",
   "execution_count": 48,
   "metadata": {},
   "outputs": [
    {
     "name": "stdout",
     "output_type": "stream",
     "text": [
      "{'name': 'Suresh', 'age': 25, 'city': 'Hyderabad', 'state': 'Telangana', 'country': 'India'}\n",
      "{'CITY': 'Hyderabad', 'STATE': 'Telangana', 'COUNTRY': 'India'}\n"
     ]
    }
   ],
   "source": [
    "QA = dict(zip(Que, Ans))\n",
    "print(QA)\n",
    "\n",
    "dict1 = { key.upper() : value for key, value in QA.items() if key != 'name' and key != 'age'}\n",
    "\n",
    "print(dict1)"
   ]
  },
  {
   "cell_type": "code",
   "execution_count": 15,
   "metadata": {},
   "outputs": [
    {
     "name": "stdout",
     "output_type": "stream",
     "text": [
      "{'name': ('Suresh', 'Surbhi'), 'age': (25, 26), 'city': ('Hyderabad', 'Bangalore'), 'state': ('Telangana', 'Karanataka'), 'country': ('India', 'India')}\n",
      "dict_items([('name', ('Suresh', 'Surbhi')), ('age', (25, 26)), ('city', ('Hyderabad', 'Bangalore')), ('state', ('Telangana', 'Karanataka')), ('country', ('India', 'India'))])\n",
      "What is your name? It is ('Suresh', 'Surbhi').\n",
      "What is your age? It is (25, 26).\n",
      "What is your city? It is ('Hyderabad', 'Bangalore').\n",
      "What is your state? It is ('Telangana', 'Karanataka').\n",
      "What is your country? It is ('India', 'India').\n"
     ]
    }
   ],
   "source": [
    "Que = ['name','age','city','state','country']\n",
    "Ans = ['Suresh', 25, 'Hyderabad', 'Telangana', 'India']\n",
    "Ans1 = ['Surbhi', 26, 'Bangalore', 'Karanataka', 'India']\n",
    "\n",
    "answers = list(zip(Ans, Ans1))\n",
    "\n",
    "QA = dict(zip(Que, answers))\n",
    "\n",
    "print(QA)\n",
    "\n",
    "print(QA.items())\n",
    "\n",
    "for q, a in QA.items():\n",
    "                    print('What is your {0}? It is {1}.'.format(q, a))"
   ]
  },
  {
   "cell_type": "code",
   "execution_count": 25,
   "metadata": {},
   "outputs": [
    {
     "name": "stdout",
     "output_type": "stream",
     "text": [
      "     name  age       city       state country\n",
      "0  Suresh   25  Hyderabad   Telangana   India\n",
      "1  Surbhi   26  Bangalore  Karanataka   India\n",
      "0    Suresh\n",
      "1    Surbhi\n",
      "Name: name, dtype: object\n",
      "0    25\n",
      "1    26\n",
      "Name: age, dtype: int64\n",
      "(2, 5)\n",
      "     name  age       city       state country\n",
      "1  Surbhi   26  Bangalore  Karanataka   India\n"
     ]
    },
    {
     "data": {
      "text/html": [
       "<div>\n",
       "<style scoped>\n",
       "    .dataframe tbody tr th:only-of-type {\n",
       "        vertical-align: middle;\n",
       "    }\n",
       "\n",
       "    .dataframe tbody tr th {\n",
       "        vertical-align: top;\n",
       "    }\n",
       "\n",
       "    .dataframe thead th {\n",
       "        text-align: right;\n",
       "    }\n",
       "</style>\n",
       "<table border=\"1\" class=\"dataframe\">\n",
       "  <thead>\n",
       "    <tr style=\"text-align: right;\">\n",
       "      <th></th>\n",
       "      <th>age</th>\n",
       "    </tr>\n",
       "  </thead>\n",
       "  <tbody>\n",
       "    <tr>\n",
       "      <th>count</th>\n",
       "      <td>2.000000</td>\n",
       "    </tr>\n",
       "    <tr>\n",
       "      <th>mean</th>\n",
       "      <td>25.500000</td>\n",
       "    </tr>\n",
       "    <tr>\n",
       "      <th>std</th>\n",
       "      <td>0.707107</td>\n",
       "    </tr>\n",
       "    <tr>\n",
       "      <th>min</th>\n",
       "      <td>25.000000</td>\n",
       "    </tr>\n",
       "    <tr>\n",
       "      <th>25%</th>\n",
       "      <td>25.250000</td>\n",
       "    </tr>\n",
       "    <tr>\n",
       "      <th>50%</th>\n",
       "      <td>25.500000</td>\n",
       "    </tr>\n",
       "    <tr>\n",
       "      <th>75%</th>\n",
       "      <td>25.750000</td>\n",
       "    </tr>\n",
       "    <tr>\n",
       "      <th>max</th>\n",
       "      <td>26.000000</td>\n",
       "    </tr>\n",
       "  </tbody>\n",
       "</table>\n",
       "</div>"
      ],
      "text/plain": [
       "             age\n",
       "count   2.000000\n",
       "mean   25.500000\n",
       "std     0.707107\n",
       "min    25.000000\n",
       "25%    25.250000\n",
       "50%    25.500000\n",
       "75%    25.750000\n",
       "max    26.000000"
      ]
     },
     "execution_count": 25,
     "metadata": {},
     "output_type": "execute_result"
    }
   ],
   "source": [
    "import pandas as pd\n",
    "\n",
    "df = pd.DataFrame(QA)\n",
    "print(df)\n",
    "print(df['name'])\n",
    "print(df['age'])\n",
    "print(df.shape)\n",
    "print(df[1:2])\n",
    "\n",
    "df.describe()"
   ]
  },
  {
   "cell_type": "code",
   "execution_count": 27,
   "metadata": {},
   "outputs": [
    {
     "name": "stdout",
     "output_type": "stream",
     "text": [
      "['Insertion Operation:', 'Time Complexity:', 'Best Case (O(1)): Inserting at the end of the array (no shifting required).', 'Worst Case (O(n)): Inserting at the beginning of the array (shifting all elements).', 'Average Case (O(n/2) ≈ O(n)): Inserting in the middle, which requires shifting half of the elements.', 'Space Complexity:', 'O(1): Only a constant amount of additional space is needed to store the new element temporarily.', 'Deletion Operation:', 'Time Complexity:', 'Best Case (O(1)): Deleting the last element (no shifting required).', 'Worst Case (O(n)): Deleting the first element (shifting all elements).', 'Average Case (O(n/2) ≈ O(n)): Deleting from the middle, which requires shifting half of the elements.', 'Space Complexity:', 'O(1): Only a constant amount of additional space is required to manage the deletion process.']\n"
     ]
    }
   ],
   "source": [
    "data = '''Insertion Operation:\n",
    "Time Complexity:\n",
    "Best Case (O(1)): Inserting at the end of the array (no shifting required).\n",
    "Worst Case (O(n)): Inserting at the beginning of the array (shifting all elements).\n",
    "Average Case (O(n/2) ≈ O(n)): Inserting in the middle, which requires shifting half of the elements.\n",
    "Space Complexity:\n",
    "O(1): Only a constant amount of additional space is needed to store the new element temporarily.\n",
    "Deletion Operation:\n",
    "Time Complexity:\n",
    "Best Case (O(1)): Deleting the last element (no shifting required).\n",
    "Worst Case (O(n)): Deleting the first element (shifting all elements).\n",
    "Average Case (O(n/2) ≈ O(n)): Deleting from the middle, which requires shifting half of the elements.\n",
    "Space Complexity:\n",
    "O(1): Only a constant amount of additional space is required to manage the deletion process.'''\n",
    "\n",
    "# print(data)\n",
    "\n",
    "split_data = data.split('\\n')\n",
    "print(split_data)"
   ]
  },
  {
   "cell_type": "code",
   "execution_count": 31,
   "metadata": {},
   "outputs": [
    {
     "name": "stdout",
     "output_type": "stream",
     "text": [
      "[(1, 'Insertion Operation:'), (2, 'Time Complexity:'), (3, 'Best Case (O(1)): Inserting at the end of the array (no shifting required).'), (4, 'Worst Case (O(n)): Inserting at the beginning of the array (shifting all elements).'), (5, 'Average Case (O(n/2) ≈ O(n)): Inserting in the middle, which requires shifting half of the elements.'), (6, 'Space Complexity:'), (7, 'O(1): Only a constant amount of additional space is needed to store the new element temporarily.'), (8, 'Deletion Operation:'), (9, 'Time Complexity:'), (10, 'Best Case (O(1)): Deleting the last element (no shifting required).'), (11, 'Worst Case (O(n)): Deleting the first element (shifting all elements).'), (12, 'Average Case (O(n/2) ≈ O(n)): Deleting from the middle, which requires shifting half of the elements.'), (13, 'Space Complexity:'), (14, 'O(1): Only a constant amount of additional space is required to manage the deletion process.')]\n"
     ]
    }
   ],
   "source": [
    "enumerate_data = list(enumerate(split_data, 1))\n",
    "print(enumerate_data)"
   ]
  },
  {
   "cell_type": "code",
   "execution_count": 32,
   "metadata": {},
   "outputs": [
    {
     "name": "stdout",
     "output_type": "stream",
     "text": [
      "(1, 'Insertion Operation:')\n",
      "(2, 'Time Complexity:')\n",
      "(3, 'Best Case (O(1)): Inserting at the end of the array (no shifting required).')\n",
      "(4, 'Worst Case (O(n)): Inserting at the beginning of the array (shifting all elements).')\n",
      "(5, 'Average Case (O(n/2) ≈ O(n)): Inserting in the middle, which requires shifting half of the elements.')\n",
      "(6, 'Space Complexity:')\n",
      "(7, 'O(1): Only a constant amount of additional space is needed to store the new element temporarily.')\n",
      "(8, 'Deletion Operation:')\n",
      "(9, 'Time Complexity:')\n",
      "(10, 'Best Case (O(1)): Deleting the last element (no shifting required).')\n",
      "(11, 'Worst Case (O(n)): Deleting the first element (shifting all elements).')\n",
      "(12, 'Average Case (O(n/2) ≈ O(n)): Deleting from the middle, which requires shifting half of the elements.')\n",
      "(13, 'Space Complexity:')\n",
      "(14, 'O(1): Only a constant amount of additional space is required to manage the deletion process.')\n"
     ]
    }
   ],
   "source": [
    "for line in enumerate(split_data, 1):\n",
    "    print(line)"
   ]
  },
  {
   "cell_type": "code",
   "execution_count": 42,
   "metadata": {},
   "outputs": [
    {
     "name": "stdout",
     "output_type": "stream",
     "text": [
      "['python', 'jython', 'scala', 'dotnet', 'java', 'python', 'java', 'jython']\n",
      "['python1', 'jython1', 'scala', 'dotnet', 'java1', 'python', 'java', 'jython']\n",
      "{'dotnet', 'java', 'python', 'scala', 'jython'}\n",
      "True\n",
      "['dotnet', 'java', 'jython', 'python', 'scala']\n",
      "{'dotnet', 'java', 'python', 'scala', 'jython', 'python1', 'jython1', 'java1'}\n",
      "{'dotnet', 'java', 'python', 'scala', 'jython'}\n",
      "set()\n"
     ]
    }
   ],
   "source": [
    "books = ['python','jython','scala','dotnet','java','python','java','jython']\n",
    "print(books)\n",
    "book1 = ['python1','jython1','scala','dotnet','java1','python','java','jython']\n",
    "print(book1)\n",
    "\n",
    "books_set = set(books)\n",
    "\n",
    "print(books_set)\n",
    "\n",
    "books_set1 = set(book1)\n",
    "\n",
    "print('python' in books_set)\n",
    "\n",
    "sorted_books = sorted(books_set)\n",
    "\n",
    "print(sorted_books)\n",
    "\n",
    "union_books = books_set.union(books_set1)\n",
    "\n",
    "print(union_books)\n",
    "\n",
    "intersection_books = books_set.intersection(books_set1)\n",
    "\n",
    "print(intersection_books)\n",
    "\n",
    "difference_books = books_set.difference(books_set1)\n",
    "\n",
    "print(difference_books)\n",
    "\n"
   ]
  },
  {
   "cell_type": "code",
   "execution_count": 43,
   "metadata": {},
   "outputs": [
    {
     "name": "stdout",
     "output_type": "stream",
     "text": [
      "{'dotnet', 'java', 'python', 'scala', 'jython', 'python1', 'jython1', 'java1'}\n",
      "{'dotnet', 'java', 'python', 'scala', 'jython'}\n",
      "set()\n",
      "{'python1', 'jython1', 'java1'}\n"
     ]
    }
   ],
   "source": [
    "# bitwise operations on set\n",
    "print(books_set | books_set1)\n",
    "print(books_set & books_set1)\n",
    "print(books_set - books_set1)\n",
    "print(books_set ^ books_set1)"
   ]
  },
  {
   "cell_type": "markdown",
   "metadata": {},
   "source": [
    "add',\n",
    " 'clear',\n",
    " 'copy',\n",
    " 'difference',\n",
    " 'difference_update',\n",
    " 'discard',\n",
    " 'intersection',\n",
    " 'intersection_update',\n",
    " 'isdisjoint',\n",
    " 'issubset',\n",
    " 'issuperset',\n",
    " 'pop',\n",
    " 'remove',\n",
    " 'symmetric_difference',\n",
    " 'symmetric_difference_update',\n",
    " 'union',\n",
    " 'update'"
   ]
  },
  {
   "cell_type": "code",
   "execution_count": 53,
   "metadata": {},
   "outputs": [
    {
     "name": "stdout",
     "output_type": "stream",
     "text": [
      "['jython', 'java', 'python', 'java', 'dotnet', 'scala', 'jython', 'python']\n",
      "['A', 'R', 'D', 'N', 'E', 'R', 'U', 'S']\n",
      "[9, 8, 7, 6, 5, 4, 3, 2, 1]\n",
      "(1, 2, 3, 4, 5)\n",
      "(5, 4, 3, 2, 1)\n"
     ]
    }
   ],
   "source": [
    "print(list(reversed(books)))\n",
    "\n",
    "print(list(reversed('SURENDRA')))\n",
    "\n",
    "print(list(reversed(range(1, 10))))\n",
    "\n",
    "tuple1 = (1, 2, 3, 4, 5)\n",
    "print(tuple1)\n",
    "\n",
    "print(tuple(reversed(tuple1)))"
   ]
  }
 ],
 "metadata": {
  "kernelspec": {
   "display_name": "Python 3",
   "language": "python",
   "name": "python3"
  },
  "language_info": {
   "codemirror_mode": {
    "name": "ipython",
    "version": 3
   },
   "file_extension": ".py",
   "mimetype": "text/x-python",
   "name": "python",
   "nbconvert_exporter": "python",
   "pygments_lexer": "ipython3",
   "version": "3.11.5"
  }
 },
 "nbformat": 4,
 "nbformat_minor": 2
}
