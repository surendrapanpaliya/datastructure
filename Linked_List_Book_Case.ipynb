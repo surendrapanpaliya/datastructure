{
 "cells": [
  {
   "cell_type": "markdown",
   "metadata": {},
   "source": [
    "1. Linked List Structure\n",
    "\n",
    "A linked list is a data structure where each element (node) contains:\n",
    "\n",
    "Data: Information (in this case, details about the book).\n",
    "\n",
    "Pointer (next): A reference to the next node in the list.\n",
    "\n",
    "For this application, let's assume that each node in the linked list stores the following data about a book:\n",
    "\n",
    "Title\n",
    "Author\n",
    "ISBN"
   ]
  },
  {
   "cell_type": "code",
   "execution_count": 13,
   "metadata": {},
   "outputs": [
    {
     "name": "stdout",
     "output_type": "stream",
     "text": [
      "title,author,isbn Data Structure Satish 1234\n",
      "Title: Data Structure, Author: Satish, ISBN: 1234\n",
      "-->\n",
      "title,author,isbn Data Algo Harish 1200\n",
      "Title: Data Structure, Author: Satish, ISBN: 1234\n",
      "-->\n",
      "Title: Data Algo, Author: Harish, ISBN: 1200\n",
      "-->\n"
     ]
    }
   ],
   "source": [
    "class Book:\n",
    "    def __init__(self, title, author, isbn):\n",
    "        self.title = title\n",
    "        self.author = author\n",
    "        self.isbn = isbn\n",
    "        self.next = None\n",
    "        print(\"title,author,isbn\",title,author,isbn)\n",
    "\n",
    "class LibraryManagement:\n",
    "    def __init__(self):\n",
    "        self.head = None\n",
    "\n",
    "    # Append a new book to the end of the list\n",
    "    def append(self, title, author, isbn):\n",
    "        new_node = Node(title, author, isbn)\n",
    "        if self.head is None:\n",
    "            self.head = new_node\n",
    "        else:\n",
    "            last = self.head\n",
    "            while last.next:\n",
    "                last = last.next\n",
    "            last.next = new_node\n",
    "\n",
    "    # Traverse and print all books in the list\n",
    "    def traverse(self):\n",
    "        current = self.head\n",
    "        while current:\n",
    "            print(f\"Title: {current.title}, Author: {current.author}, ISBN: {current.isbn}\")\n",
    "            print(\"-->\")\n",
    "            current = current.next\n",
    "\n",
    "    # Search for a book by title\n",
    "    def search(self, title):\n",
    "        current = self.head\n",
    "        while current:\n",
    "            if current.title == title:\n",
    "                return current\n",
    "            current = current.next\n",
    "        return None\n",
    "\n",
    "    # Delete a book by title\n",
    "    def delete(self, title):\n",
    "        current = self.head\n",
    "        prev = None\n",
    "\n",
    "        if current is not None:\n",
    "            if current.title == title:\n",
    "                self.head = current.next\n",
    "                current = None\n",
    "                return\n",
    "\n",
    "        while current:\n",
    "            if current.title == title:\n",
    "                break\n",
    "            prev = current\n",
    "            current = current.next\n",
    "\n",
    "        if current is None:\n",
    "            return\n",
    "\n",
    "        prev.next = current.next\n",
    "        current = None\n",
    "\n",
    "LinkList1 = LinkedList()\n",
    "LinkList1.append(\"Data Structure\",\"Satish\",\"1234\")\n",
    "LinkList1.traverse()\n",
    "LinkList1.append(\"Data Algo\",\"Harish\",\"1200\")\n",
    "LinkList1.traverse()"
   ]
  },
  {
   "cell_type": "code",
   "execution_count": 5,
   "metadata": {},
   "outputs": [
    {
     "name": "stdout",
     "output_type": "stream",
     "text": [
      "a Apple\n",
      "B Banana\n",
      "O Orange\n",
      "a1 Apple1\n",
      "B1 Banana1\n",
      "O1 Orange1\n",
      "a2 Apple1\n",
      "B1 Banana2\n",
      "O2 Orange2\n",
      "{'a': 'Apple', 'B': 'Banana', 'O': 'Orange', 'a1': 'Apple1', 'B1': 'Banana2', 'O1': 'Orange1', 'a2': 'Apple1', 'O2': 'Orange2'}\n"
     ]
    }
   ],
   "source": [
    "Words = {'a':'Apple','B':'Banana','O':'Orange'}\n",
    "Words1 = {'a1':'Apple1','B1':'Banana1','O1':'Orange1'}\n",
    "Words2 = {'a2':'Apple1','B1':'Banana2','O2':'Orange2'}\n",
    "\n",
    "Books_Words = {\"BW\":Words,\"BW1\":Words1,\"BW2\":Words2}\n",
    "\n",
    "for key,value in Books_Words.items():\n",
    "   # print(key,value)\n",
    "    for k, v in value.items():\n",
    "        print(k,v)\n",
    "\n",
    "\n",
    "print({ k:v for key,value in Books_Words.items() for k, v in value.items() })"
   ]
  },
  {
   "cell_type": "code",
   "execution_count": 7,
   "metadata": {},
   "outputs": [
    {
     "name": "stdout",
     "output_type": "stream",
     "text": [
      "{'B': 'Banana', 'O': 'Orange', 'a1': 'Apple1', 'B1': 'Banana2', 'O1': 'Orange1', 'a2': 'Apple1', 'O2': 'Orange2'}\n"
     ]
    }
   ],
   "source": [
    "print({ k:v for key,value in Books_Words.items() for k, v in value.items() if k !='a' })"
   ]
  },
  {
   "cell_type": "code",
   "execution_count": 9,
   "metadata": {},
   "outputs": [
    {
     "name": "stdout",
     "output_type": "stream",
     "text": [
      "Help on module Arrayex:\n",
      "\n",
      "NAME\n",
      "    Arrayex - #Example: Storing VM Configuration Parameters in Azure\n",
      "\n",
      "DATA\n",
      "    config = array(['vm3', '8', '16'], dtype='<U21')\n",
      "    cpu_cores = '8'\n",
      "    memory_gb = '16'\n",
      "    vm_configs = array([['vm1', '2', '4'],\n",
      "           ['vm2', '4', '8'],\n",
      "         ...\n",
      "    vm_name = 'vm3'\n",
      "\n",
      "FILE\n",
      "    /Users/surendra/g7cr/Arrayex.py\n",
      "\n",
      "\n"
     ]
    }
   ],
   "source": [
    "import Arrayex\n",
    "\n",
    "help(Arrayex)"
   ]
  }
 ],
 "metadata": {
  "kernelspec": {
   "display_name": "Python 3",
   "language": "python",
   "name": "python3"
  },
  "language_info": {
   "codemirror_mode": {
    "name": "ipython",
    "version": 3
   },
   "file_extension": ".py",
   "mimetype": "text/x-python",
   "name": "python",
   "nbconvert_exporter": "python",
   "pygments_lexer": "ipython3",
   "version": "3.11.5"
  }
 },
 "nbformat": 4,
 "nbformat_minor": 2
}
