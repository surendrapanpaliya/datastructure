{
 "cells": [
  {
   "cell_type": "code",
   "execution_count": 2,
   "metadata": {},
   "outputs": [
    {
     "name": "stdout",
     "output_type": "stream",
     "text": [
      "30\n"
     ]
    },
    {
     "data": {
      "text/plain": [
       "['__annotations__',\n",
       " '__builtins__',\n",
       " '__call__',\n",
       " '__class__',\n",
       " '__closure__',\n",
       " '__code__',\n",
       " '__defaults__',\n",
       " '__delattr__',\n",
       " '__dict__',\n",
       " '__dir__',\n",
       " '__doc__',\n",
       " '__eq__',\n",
       " '__format__',\n",
       " '__ge__',\n",
       " '__get__',\n",
       " '__getattribute__',\n",
       " '__getstate__',\n",
       " '__globals__',\n",
       " '__gt__',\n",
       " '__hash__',\n",
       " '__init__',\n",
       " '__init_subclass__',\n",
       " '__kwdefaults__',\n",
       " '__le__',\n",
       " '__lt__',\n",
       " '__module__',\n",
       " '__name__',\n",
       " '__ne__',\n",
       " '__new__',\n",
       " '__qualname__',\n",
       " '__reduce__',\n",
       " '__reduce_ex__',\n",
       " '__repr__',\n",
       " '__setattr__',\n",
       " '__sizeof__',\n",
       " '__str__',\n",
       " '__subclasshook__']"
      ]
     },
     "execution_count": 2,
     "metadata": {},
     "output_type": "execute_result"
    }
   ],
   "source": [
    "# function examples\n",
    "def func_name(arg1,arg2=10):\n",
    "    '''This is a function that takes two arguments and returns the sum of them'''\n",
    "    print(arg1+arg2)\n",
    "\n",
    "f = func_name # assign the function to a variable\n",
    "f(10,20) # call the function using the variable\n",
    "dir(f) # list all the attributes of the function"
   ]
  },
  {
   "cell_type": "code",
   "execution_count": 3,
   "metadata": {},
   "outputs": [
    {
     "name": "stdout",
     "output_type": "stream",
     "text": [
      "Help on function func_name in module __main__:\n",
      "\n",
      "func_name(arg1, arg2)\n",
      "    This is a function that takes two arguments and returns the sum of them\n",
      "\n"
     ]
    }
   ],
   "source": [
    "help(f)"
   ]
  },
  {
   "cell_type": "code",
   "execution_count": 8,
   "metadata": {},
   "outputs": [
    {
     "name": "stdout",
     "output_type": "stream",
     "text": [
      "This is a function that takes two arguments and returns the sum of them\n",
      "func_name\n",
      "<code object func_name at 0x1099c1980, file \"/var/folders/j9/t7f_l7rd20101rcpcynrvqyh0000gn/T/ipykernel_10583/53798594.py\", line 2>\n",
      "None\n"
     ]
    }
   ],
   "source": [
    "print(f.__doc__)# print the docstring of the function\n",
    "print(f.__name__)# print the name of the function\n",
    "print(f.__code__)# print the code object of the function\n",
    "print(f.__defaults__)# print the default values of the function"
   ]
  },
  {
   "cell_type": "code",
   "execution_count": 11,
   "metadata": {},
   "outputs": [
    {
     "name": "stdout",
     "output_type": "stream",
     "text": [
      "Arguments are (10, 20, 30, 40, 50)\n",
      "150\n",
      "Arguments are ()\n",
      "0\n"
     ]
    }
   ],
   "source": [
    "# functions with variable number of arguments\n",
    "def func_name2(*args):\n",
    "    '''This is a function that takes any number of arguments and returns the sum of them'''\n",
    "    print(\"Arguments are\",args)\n",
    "    print(sum(args))\n",
    "\n",
    "func_name2(10,20,30,40,50)\n",
    "func_name2()"
   ]
  },
  {
   "cell_type": "code",
   "execution_count": 13,
   "metadata": {},
   "outputs": [
    {
     "name": "stdout",
     "output_type": "stream",
     "text": [
      "(10, 23, 45, 67, 89)\n"
     ]
    }
   ],
   "source": [
    "tup = 10,23,45,67,89\n",
    "type(tup)\n",
    "print(tup)"
   ]
  },
  {
   "cell_type": "code",
   "execution_count": 14,
   "metadata": {},
   "outputs": [
    {
     "name": "stdout",
     "output_type": "stream",
     "text": [
      "Arguments are (10, 20, 30, 40, 50)\n",
      "12000000\n"
     ]
    }
   ],
   "source": [
    "# Create multiplier function which can take any number of arguments and return multiplication of them\n",
    "\n",
    "def multiplier(*args):\n",
    "    '''This is a function that takes any number of arguments and returns the multiplication of them'''\n",
    "    print(\"Arguments are\",args)\n",
    "    result = 1\n",
    "    for arg in args:\n",
    "        result = result*arg\n",
    "    print(result)\n",
    "\n",
    "multiplier(10,20,30,40,50)"
   ]
  },
  {
   "cell_type": "code",
   "execution_count": 27,
   "metadata": {},
   "outputs": [
    {
     "name": "stdout",
     "output_type": "stream",
     "text": [
      "{'a': 10, 'b': 20, 'c': 30}\n"
     ]
    }
   ],
   "source": [
    "# Create a function that takes a dictionary as an argument and prints the key value pairs\n",
    "def print_dict(**kwargs):\n",
    "    '''This is a function that takes a dictionary as an argument and prints the key value pairs'''\n",
    "    return kwargs\n",
    "\n",
    "dict_1 = print_dict(a=10,b=20,c=30)\n",
    "print(dict_1)"
   ]
  },
  {
   "cell_type": "code",
   "execution_count": 53,
   "metadata": {},
   "outputs": [
    {
     "name": "stdout",
     "output_type": "stream",
     "text": [
      "Mandatory argument is 100\n",
      "Default argument is 300\n",
      "Mandatory argument is 400\n",
      "Variable arguments are (500, 600)\n",
      "Keyword arguments are {'a': 10, 'b': 20, 'c': 30}\n"
     ]
    }
   ],
   "source": [
    "# create a function that take mandatory arguments, default arguments, variable arguments and keyword arguments and prints them\n",
    "def all_args(arg1,arg2=10,arg3=90,*args,**kwargs):\n",
    "    '''This is a function that takes mandatory arguments, default arguments, variable arguments and keyword arguments and prints them'''\n",
    "    print(\"Mandatory argument is\",arg1)\n",
    "    print(\"Default argument is\",arg2)\n",
    "    print(\"Mandatory argument is\",arg3)\n",
    "    print(\"Variable arguments are\",args)\n",
    "    print(\"Keyword arguments are\",kwargs)\n",
    "\n",
    "all_args(100,300,400,500,600,a=10,b=20,c=30)\n"
   ]
  },
  {
   "cell_type": "code",
   "execution_count": null,
   "metadata": {},
   "outputs": [],
   "source": [
    "# create a function that take mandatory arguments, default arguments, variable arguments and keyword arguments and prints them\n",
    "def all_args(arg1,**kwargs):\n",
    "    '''This is a function that takes mandatory arguments, default arguments, variable arguments and keyword arguments and prints them'''\n",
    "    print(\"Mandatory argument is\",arg1)\n",
    "    print(\"Keyword arguments are\",kwargs)"
   ]
  },
  {
   "cell_type": "code",
   "execution_count": 67,
   "metadata": {},
   "outputs": [
    {
     "name": "stdout",
     "output_type": "stream",
     "text": [
      "100\n",
      "100\n"
     ]
    }
   ],
   "source": [
    "global_var = 100\n",
    "\n",
    "def global_var_demo():\n",
    "    global global_var   # declare the variable as global\n",
    "    global_var = \"Global variable\"\n",
    "    name = \"Local name\"\n",
    "    print(\"Local variable is\",name) # prints the local variable\n",
    "    print(global_var) # prints the global variable\n",
    "\n",
    "\n",
    "print(global_var) # prints the global variable\n",
    "global_var_demo()\n",
    "print(global_var) # prints the global variable"
   ]
  },
  {
   "cell_type": "code",
   "execution_count": 60,
   "metadata": {},
   "outputs": [
    {
     "name": "stdout",
     "output_type": "stream",
     "text": [
      "Global variable\n"
     ]
    }
   ],
   "source": [
    "print(global_var) # prints the global variable"
   ]
  }
 ],
 "metadata": {
  "kernelspec": {
   "display_name": "Python 3",
   "language": "python",
   "name": "python3"
  },
  "language_info": {
   "codemirror_mode": {
    "name": "ipython",
    "version": 3
   },
   "file_extension": ".py",
   "mimetype": "text/x-python",
   "name": "python",
   "nbconvert_exporter": "python",
   "pygments_lexer": "ipython3",
   "version": "3.11.5"
  }
 },
 "nbformat": 4,
 "nbformat_minor": 2
}
