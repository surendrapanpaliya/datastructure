{
 "cells": [
  {
   "cell_type": "code",
   "execution_count": 1,
   "metadata": {},
   "outputs": [
    {
     "name": "stdout",
     "output_type": "stream",
     "text": [
      "Memory usage of the dictionary (in bytes): 184\n"
     ]
    }
   ],
   "source": [
    "import sys\n",
    "\n",
    "# Example: Memory usage of a dictionary\n",
    "# storing feature counts\n",
    "\n",
    "features = ['age', 'height', 'weight', 'gender']\n",
    "\n",
    "feature_count = {feature: 0 for feature in features}\n",
    "\n",
    "# Checking memory usage\n",
    "print(\"Memory usage of the dictionary (in bytes):\", sys.getsizeof(feature_count))"
   ]
  },
  {
   "cell_type": "code",
   "execution_count": 2,
   "metadata": {},
   "outputs": [
    {
     "name": "stdout",
     "output_type": "stream",
     "text": [
      "'max_depth' found in model_params with value 10\n"
     ]
    }
   ],
   "source": [
    "# Example dictionary with model hyperparameters\n",
    "model_params = {\n",
    "    'learning_rate': 0.01,\n",
    "    'n_estimators': 100,\n",
    "    'max_depth': 10\n",
    "}\n",
    "\n",
    "# Search for a specific key (e.g., 'max_depth')\n",
    "key_to_search = 'max_depth'\n",
    "\n",
    "if key_to_search in model_params:\n",
    "    print(f\"'{key_to_search}' found in model_params with value {model_params[key_to_search]}\")\n",
    "else:\n",
    "    print(f\"'{key_to_search}' not found in model_params\")\n"
   ]
  },
  {
   "cell_type": "code",
   "execution_count": 52,
   "metadata": {},
   "outputs": [
    {
     "name": "stdout",
     "output_type": "stream",
     "text": [
      "Tuple access time: 6.818771362304688e-05\n",
      "List access time: 2.5987625122070312e-05\n"
     ]
    }
   ],
   "source": [
    "import time\n",
    "# Tuple\n",
    "tuple_data = tuple(range(1000000))\n",
    "# List\n",
    "list_data = list(range(1000000))\n",
    "\n",
    "# Timing tuple access\n",
    "start_time = time.time()\n",
    "_ = tuple_data[500000]\n",
    "print(f\"Tuple access time: {time.time() - start_time}\")\n",
    "\n",
    "# Timing list access\n",
    "start_time = time.time()\n",
    "_ = list_data[500000]\n",
    "print(f\"List access time: {time.time() - start_time}\")"
   ]
  },
  {
   "cell_type": "code",
   "execution_count": 50,
   "metadata": {},
   "outputs": [
    {
     "name": "stdout",
     "output_type": "stream",
     "text": [
      "Tuple access time: 6.866455078125e-05\n"
     ]
    }
   ],
   "source": [
    "# Timing tuple access\n",
    "start_time = time.time()\n",
    "_ = tuple_data[500000]\n",
    "print(f\"Tuple access time: {time.time() - start_time}\")"
   ]
  },
  {
   "cell_type": "code",
   "execution_count": 51,
   "metadata": {},
   "outputs": [
    {
     "name": "stdout",
     "output_type": "stream",
     "text": [
      "List access time: 6.866455078125e-05\n"
     ]
    }
   ],
   "source": [
    "# Timing list access\n",
    "start_time = time.time()\n",
    "_ = list_data[500000]\n",
    "print(f\"List access time: {time.time() - start_time}\")"
   ]
  },
  {
   "cell_type": "code",
   "execution_count": 29,
   "metadata": {},
   "outputs": [
    {
     "name": "stdout",
     "output_type": "stream",
     "text": [
      "{'name': 'surendra', 'age': 47, 'city': 'Pune', 'state': 'Maharashra', 'country': 'India'}\n",
      "{'age': 47}\n",
      "{'age': 47}\n",
      "{'name': 'satish', 'age': 51, 'city': 'Pune', 'state': 'Maharashra', 'country': 'India'}\n",
      "Person1 {'name': 'satish', 'age': 51, 'city': 'Pune', 'state': 'Maharashra', 'country': 'India'}\n",
      "Person2 {'name': 'surendra', 'age': 47, 'city': 'Pune', 'state': 'Maharashra', 'country': 'India'}\n",
      "{'NAME': 'surendra', 'AGE': 47, 'CITY': 'Pune', 'STATE': 'Maharashra', 'COUNTRY': 'India'}\n",
      "{'age': 47, 'city': 'Pune', 'state': 'Maharashra', 'country': 'India'}\n"
     ]
    }
   ],
   "source": [
    "features  = ['name','age','city','state','country']\n",
    "values = ['surendra',47,'Pune','Maharashra','India']\n",
    "feature_values = dict(zip(features,values))\n",
    "\n",
    "print(feature_values)\n",
    "\n",
    "dict_iter = { key:value for key, value in feature_values.items() if key == 'age' }\n",
    "\n",
    "print(dict_iter)\n",
    "\n",
    "print({ key:value for key, value in feature_values.items() if value == 47  })\n",
    "\n",
    "values1 = ['satish',51,'Pune','Maharashra','India']\n",
    "\n",
    "feature_values.update(dict(zip(features,values1)))\n",
    "\n",
    "print(feature_values)\n",
    "\n",
    "\n",
    "nested_dict = {'Person1':feature_values, 'Person2' : dict(zip(features,values))}\n",
    "\n",
    "for key, value in nested_dict.items():\n",
    "    print(key,value)\n",
    "\n",
    "print({ k.upper():v for key, value in nested_dict.items() for k,v in value.items() })\n",
    "\n",
    "\n",
    "print({ k :v for key, value in nested_dict.items() for k,v in value.items() if k != 'name' })"
   ]
  },
  {
   "cell_type": "code",
   "execution_count": 32,
   "metadata": {},
   "outputs": [
    {
     "name": "stdout",
     "output_type": "stream",
     "text": [
      "{'Person1': ['satish', 51, 'Pune', 'Maharashra', 'India'], 'Person2': ['surendra', 47, 'Pune', 'Maharashra', 'India']}\n"
     ]
    }
   ],
   "source": [
    "print({ key: [ v for v in value.values() ]  for key, value in nested_dict.items() })"
   ]
  },
  {
   "cell_type": "code",
   "execution_count": 34,
   "metadata": {},
   "outputs": [
    {
     "name": "stdout",
     "output_type": "stream",
     "text": [
      "{'Person1': [('name', 'satish'), ('age', 51), ('city', 'Pune'), ('state', 'Maharashra'), ('country', 'India')], 'Person2': [('name', 'surendra'), ('age', 47), ('city', 'Pune'), ('state', 'Maharashra'), ('country', 'India')]}\n"
     ]
    }
   ],
   "source": [
    "print({ key: [ (k,v) for k,v in value.items() ]  for key, value in nested_dict.items() })"
   ]
  },
  {
   "cell_type": "code",
   "execution_count": 39,
   "metadata": {},
   "outputs": [
    {
     "name": "stdout",
     "output_type": "stream",
     "text": [
      "{'Person1': {'age': 51, 'city': 'Pune', 'state': 'Maharashra', 'country': 'India'}}\n"
     ]
    }
   ],
   "source": [
    "print({ key: { k:v  for k,v in value.items() if k != 'name' }\n",
    "       for key, value in nested_dict.items() if key == 'Person1'})"
   ]
  },
  {
   "cell_type": "code",
   "execution_count": 40,
   "metadata": {},
   "outputs": [
    {
     "name": "stdout",
     "output_type": "stream",
     "text": [
      "Number of Workers: 4\n",
      "Updated Dataset Configuration: {'batch_size': 32, 'shuffle': True, 'num_workers': 4}\n"
     ]
    }
   ],
   "source": [
    "# Example dictionary with dataset configuration\n",
    "dataset_config = {\n",
    "    'batch_size': 32,\n",
    "    'shuffle': True\n",
    "}\n",
    "\n",
    "# Ensure 'num_workers' key exists, setting it to 4 if not present\n",
    "num_workers = dataset_config.setdefault('num_workers', 4)\n",
    "print(\"Number of Workers:\", num_workers)\n",
    "print(\"Updated Dataset Configuration:\", dataset_config)"
   ]
  },
  {
   "cell_type": "code",
   "execution_count": 41,
   "metadata": {},
   "outputs": [
    {
     "name": "stdout",
     "output_type": "stream",
     "text": [
      "Normalized Features: {'age': 0.1, 'height': 0.6, 'weight': 0.5}\n"
     ]
    }
   ],
   "source": [
    "# Raw feature values\n",
    "features = {\n",
    "    'age': 25,\n",
    "    'height': 180,\n",
    "    'weight': 75\n",
    "}\n",
    "\n",
    "# Min and Max values for normalization\n",
    "\n",
    "min_max = {\n",
    "    'age': (20, 70),\n",
    "    'height': (150, 200),\n",
    "    'weight': (50, 100)\n",
    "}\n",
    "\n",
    "# Normalize feature values\n",
    "normalized_features = {key: (value - min_max[key][0]) / (min_max[key][1] - min_max[key][0])\n",
    "                       for key, value in features.items()}\n",
    "\n",
    "print(\"Normalized Features:\", normalized_features)"
   ]
  },
  {
   "cell_type": "markdown",
   "metadata": {},
   "source": [
    "Filtering Features by Importance\n",
    "\n",
    "    Suppose you have a dictionary of feature importances and you want \n",
    "    \n",
    "    to filter out features with an importance below a certain threshold."
   ]
  },
  {
   "cell_type": "code",
   "execution_count": 42,
   "metadata": {},
   "outputs": [
    {
     "name": "stdout",
     "output_type": "stream",
     "text": [
      "Important Features: {'height': 0.25, 'weight': 0.35}\n"
     ]
    }
   ],
   "source": [
    "# Feature importances\n",
    "feature_importances = {\n",
    "    'age': 0.15,\n",
    "    'height': 0.25,\n",
    "    'weight': 0.35,\n",
    "    'gender': 0.05\n",
    "}\n",
    "\n",
    "# Threshold for filtering\n",
    "threshold = 0.2\n",
    "\n",
    "# Filter features above the threshold\n",
    "important_features = {key: value for key, value in feature_importances.items() if value > threshold}\n",
    "\n",
    "print(\"Important Features:\", important_features)"
   ]
  },
  {
   "cell_type": "markdown",
   "metadata": {},
   "source": [
    "Creating Feature Statistics\n",
    "\n",
    "    You have a list of numerical feature values and want to compute statistics \n",
    "    \n",
    "    like mean and standard deviation for each feature."
   ]
  },
  {
   "cell_type": "code",
   "execution_count": 43,
   "metadata": {},
   "outputs": [
    {
     "name": "stdout",
     "output_type": "stream",
     "text": [
      "Feature Statistics: {'age': {'mean': 32.5, 'std': 5.5901699437494745}, 'height': {'mean': 167.5, 'std': 5.5901699437494745}, 'weight': {'mean': 62.5, 'std': 5.5901699437494745}}\n"
     ]
    }
   ],
   "source": [
    "import numpy as np\n",
    "\n",
    "# Raw feature data\n",
    "features = {\n",
    "    'age': [25, 30, 35, 40],\n",
    "    'height': [160, 165, 170, 175],\n",
    "    'weight': [55, 60, 65, 70]\n",
    "}\n",
    "\n",
    "# Compute statistics for each feature\n",
    "feature_stats = {key: {'mean': np.mean(value), 'std': np.std(value)}\n",
    "                 for key, value in features.items()}\n",
    "\n",
    "print(\"Feature Statistics:\", feature_stats)"
   ]
  },
  {
   "cell_type": "markdown",
   "metadata": {},
   "source": [
    "Mapping Predicted Labels to Class Names\n",
    "\n",
    "    If you have a dictionary of model predictions with numerical \n",
    "    \n",
    "    class labels and want to map them to class names."
   ]
  },
  {
   "cell_type": "code",
   "execution_count": 44,
   "metadata": {},
   "outputs": [
    {
     "name": "stdout",
     "output_type": "stream",
     "text": [
      "Mapped Predictions: {'sample1': 'cat', 'sample2': 'dog', 'sample3': 'bird'}\n"
     ]
    }
   ],
   "source": [
    "# Predicted class labels\n",
    "predictions = {\n",
    "    'sample1': 0,\n",
    "    'sample2': 1,\n",
    "    'sample3': 2\n",
    "}\n",
    "\n",
    "# Class names\n",
    "class_names = {0: 'cat', 1: 'dog', 2: 'bird'}\n",
    "\n",
    "# Map predicted labels to class names\n",
    "mapped_predictions = {key: class_names[value] for key, value in predictions.items()}\n",
    "\n",
    "print(\"Mapped Predictions:\", mapped_predictions)"
   ]
  },
  {
   "cell_type": "markdown",
   "metadata": {},
   "source": [
    "Transforming Data\n",
    "\n",
    "    You have a dictionary of raw data and want to apply a transformation function to each value."
   ]
  },
  {
   "cell_type": "code",
   "execution_count": 45,
   "metadata": {},
   "outputs": [
    {
     "name": "stdout",
     "output_type": "stream",
     "text": [
      "Transformed Data: {'sample1': 6, 'sample2': 15, 'sample3': 24}\n"
     ]
    }
   ],
   "source": [
    "# Raw data\n",
    "data = {\n",
    "    'sample1': [1, 2, 3],\n",
    "    'sample2': [4, 5, 6],\n",
    "    'sample3': [7, 8, 9]\n",
    "}\n",
    "\n",
    "# Function to compute sum of each list\n",
    "def compute_sum(lst):\n",
    "    return sum(lst)\n",
    "\n",
    "# Transform data using dictionary comprehension\n",
    "transformed_data = {key: compute_sum(value) for key, value in data.items()}\n",
    "\n",
    "print(\"Transformed Data:\", transformed_data)"
   ]
  },
  {
   "cell_type": "code",
   "execution_count": 63,
   "metadata": {},
   "outputs": [
    {
     "name": "stdout",
     "output_type": "stream",
     "text": [
      "time.struct_time(tm_year=2024, tm_mon=8, tm_mday=26, tm_hour=16, tm_min=56, tm_sec=12, tm_wday=0, tm_yday=239, tm_isdst=0)\n",
      "<class 'time.struct_time'>\n",
      "2024 8 26 16 56 12\n",
      "2024\n",
      "8\n",
      "26\n",
      "16\n",
      "56\n",
      "12\n",
      "0\n",
      "239\n",
      "0\n"
     ]
    }
   ],
   "source": [
    "import time\n",
    "\n",
    "Localtime = time.localtime()\n",
    "\n",
    "print(Localtime)\n",
    "\n",
    "print(type(Localtime))\n",
    "\n",
    "year, month, day, hour, minute, second, weekday, yearday, dst = time.localtime()\n",
    "\n",
    "print(year, month, day, hour, minute, second )\n",
    "\n",
    "T = year, month, day, hour, minute, second, weekday, yearday, dst\n",
    "\n",
    "type(T)\n",
    "\n",
    "for i in T:\n",
    "    print(i)\n"
   ]
  },
  {
   "cell_type": "code",
   "execution_count": 64,
   "metadata": {},
   "outputs": [
    {
     "name": "stdout",
     "output_type": "stream",
     "text": [
      "Before swapping 30 56 89 23\n",
      "After swapping 23 89 56 30\n"
     ]
    }
   ],
   "source": [
    "first, second, third, four = 30, 56, 89, 23 # parallel assignment\n",
    "\n",
    "print(\"Before swapping\", first, second, third, four)\n",
    "\n",
    "first, second, third, four = four, third, second, first # Swapping\n",
    "\n",
    "print(\"After swapping\", first, second, third, four)\n"
   ]
  },
  {
   "cell_type": "markdown",
   "metadata": {},
   "source": [
    "Use Case in Function Returns\n",
    "\n",
    "    Tuples are often used to return multiple values from a function, while lists might be used for more dynamic or variable-length results."
   ]
  },
  {
   "cell_type": "code",
   "execution_count": 65,
   "metadata": {},
   "outputs": [
    {
     "name": "stdout",
     "output_type": "stream",
     "text": [
      "Statistics: Mean = 20.0, Variance = 66.66666666666667\n",
      "Dynamic Data: [1, 2, 3, 4]\n"
     ]
    }
   ],
   "source": [
    "def get_statistics(data):\n",
    "    mean = sum(data) / len(data)\n",
    "    variance = sum((x - mean) ** 2 for x in data) / len(data)\n",
    "    return mean, variance  # Returning a tuple\n",
    "\n",
    "def get_dynamic_data():\n",
    "    data = [1, 2, 3]\n",
    "    data.append(4)  # Lists can be modified\n",
    "    return data\n",
    "\n",
    "# Function returns\n",
    "stats = get_statistics([10, 20, 30])\n",
    "print(f\"Statistics: Mean = {stats[0]}, Variance = {stats[1]}\")\n",
    "\n",
    "dynamic_data = get_dynamic_data()\n",
    "print(f\"Dynamic Data: {dynamic_data}\")"
   ]
  },
  {
   "cell_type": "code",
   "execution_count": 68,
   "metadata": {},
   "outputs": [
    {
     "name": "stdout",
     "output_type": "stream",
     "text": [
      "0 python\n",
      "1 java\n",
      "2 scala\n",
      "3 spark\n",
      "4 pyspark\n",
      "('python', 'java', 'scala', 'spark', 'pyspark')\n"
     ]
    }
   ],
   "source": [
    "# create tuple comprehension examples\n",
    "books = ('python','java','scala','spark','pyspark')\n",
    "\n",
    "for book in books:\n",
    "    print(books.index(book), book)\n",
    "\n",
    "books_index = tuple( (books.index(book),book) for book in books )\n",
    "\n",
    "print(books_index)"
   ]
  },
  {
   "cell_type": "code",
   "execution_count": 69,
   "metadata": {},
   "outputs": [
    {
     "name": "stdout",
     "output_type": "stream",
     "text": [
      "((0, 'python'), (1, 'java'), (2, 'scala'), (3, 'spark'), (4, 'pyspark'))\n"
     ]
    }
   ],
   "source": [
    "books_index = tuple( (books.index(book),book) for book in books )\n",
    "\n",
    "print(books_index)"
   ]
  },
  {
   "cell_type": "code",
   "execution_count": 75,
   "metadata": {},
   "outputs": [
    {
     "name": "stdout",
     "output_type": "stream",
     "text": [
      "((2, 'scala'), (3, 'spark'), (4, 'pyspark'))\n"
     ]
    }
   ],
   "source": [
    "books_index = tuple( (i, books[i]) for i in range(len(books)) if i >= 2 )\n",
    "print(books_index)"
   ]
  },
  {
   "cell_type": "code",
   "execution_count": 79,
   "metadata": {},
   "outputs": [
    {
     "name": "stdout",
     "output_type": "stream",
     "text": [
      "(2, 'scala')\n",
      "((2, 'scala'), (3, 'spark'), (4, 'pyspark'), (2, 'scala'), (3, 'spark'), (4, 'pyspark'))\n"
     ]
    }
   ],
   "source": [
    "print(books_index[0])\n",
    "print(books_index * 2)"
   ]
  },
  {
   "cell_type": "markdown",
   "metadata": {},
   "source": [
    "Extracting Coordinates\n",
    "\n",
    "    If you have a tuple of coordinates for a dataset, \n",
    "    you might need to process each coordinate."
   ]
  },
  {
   "cell_type": "code",
   "execution_count": 85,
   "metadata": {},
   "outputs": [
    {
     "name": "stdout",
     "output_type": "stream",
     "text": [
      "Coordinate 1: 1.2\n",
      "Coordinate 2: 3.4\n",
      "Coordinate 3: 5.6\n"
     ]
    }
   ],
   "source": [
    "# Tuple for 3D coordinates\n",
    "coordinates = (1.2, 3.4, 5.6)\n",
    "\n",
    "# Traversing the tuple to extract each coordinate\n",
    "for i, coord in enumerate(coordinates,1):\n",
    "    print(f\"Coordinate {i}: {coord}\")"
   ]
  },
  {
   "cell_type": "markdown",
   "metadata": {},
   "source": [
    " Processing Model Metrics\n",
    "\n",
    "    When dealing with model evaluation metrics stored in a tuple, you might want to calculate their average or perform other analyses.\n"
   ]
  },
  {
   "cell_type": "code",
   "execution_count": 81,
   "metadata": {},
   "outputs": [
    {
     "name": "stdout",
     "output_type": "stream",
     "text": [
      "Average Metric: 0.95\n",
      "Metric 1: 0.95\n",
      "Metric 2: 0.92\n",
      "Metric 3: 0.97\n"
     ]
    }
   ],
   "source": [
    "# Tuple of model metrics\n",
    "metrics = (0.95, 0.92, 0.97)  # (accuracy, precision, recall)\n",
    "\n",
    "# Calculate the average of metrics\n",
    "average_metric = sum(metrics) / len(metrics)\n",
    "\n",
    "print(f\"Average Metric: {average_metric:.2f}\")\n",
    "\n",
    "# Traversing the metrics for detailed output\n",
    "for i, metric in enumerate(metrics):\n",
    "    print(f\"Metric {i+1}: {metric:.2f}\")"
   ]
  },
  {
   "cell_type": "markdown",
   "metadata": {},
   "source": [
    "Handling Model Parameters\n",
    "\n",
    "    Tuples can store hyperparameters for models. \n",
    "    Traversing these can help in configuring models programmatically."
   ]
  },
  {
   "cell_type": "code",
   "execution_count": 82,
   "metadata": {},
   "outputs": [
    {
     "name": "stdout",
     "output_type": "stream",
     "text": [
      "Learning Rate: 0.01\n",
      "N Estimators: 100\n",
      "Max Depth: 10\n"
     ]
    }
   ],
   "source": [
    "# Tuple of model hyperparameters\n",
    "hyperparameters = (0.01, 100, 10)  # (learning_rate, n_estimators, max_depth)\n",
    "\n",
    "# Traversing the hyperparameters\n",
    "hyperparam_names = ['Learning Rate', 'N Estimators', 'Max Depth']\n",
    "\n",
    "for name, value in zip(hyperparam_names, hyperparameters):\n",
    "    print(f\"{name}: {value}\")\n"
   ]
  },
  {
   "cell_type": "markdown",
   "metadata": {},
   "source": [
    "Checking for Feature Presence\n",
    "\n",
    "    Suppose you have a tuple of feature names, and you want to check if a specific feature is present."
   ]
  },
  {
   "cell_type": "code",
   "execution_count": 83,
   "metadata": {},
   "outputs": [
    {
     "name": "stdout",
     "output_type": "stream",
     "text": [
      "Feature 'height' is present.\n"
     ]
    }
   ],
   "source": [
    "# Tuple of feature names\n",
    "features = ('age', 'height', 'weight', 'income')\n",
    "\n",
    "# Search for a specific feature\n",
    "search_feature = 'height'\n",
    "\n",
    "if search_feature in features:\n",
    "    print(f\"Feature '{search_feature}' is present.\")\n",
    "else:\n",
    "    print(f\"Feature '{search_feature}' is not present.\")"
   ]
  },
  {
   "cell_type": "markdown",
   "metadata": {},
   "source": [
    "Hashability\n",
    "\n",
    "    Tuples can be used as keys in dictionaries because they are hashable.\n",
    "    Lists cannot be used as dictionary keys because they are not hashable.\n"
   ]
  },
  {
   "cell_type": "code",
   "execution_count": 86,
   "metadata": {},
   "outputs": [
    {
     "name": "stdout",
     "output_type": "stream",
     "text": [
      "Value for key (1, 2): A\n",
      "Error: unhashable type: 'list'\n"
     ]
    }
   ],
   "source": [
    "# Using tuples as dictionary keys\n",
    "data_dict = { (1, 2): \"A\", (3, 4): \"B\" }\n",
    "print(f\"Value for key (1, 2): {data_dict[(1, 2)]}\")\n",
    "\n",
    "# Attempting to use lists as dictionary keys\n",
    "try:\n",
    "    data_dict = { [1, 2]: \"A\" }  # This will raise an error\n",
    "except TypeError as e:\n",
    "    print(f\"Error: {e}\")"
   ]
  },
  {
   "cell_type": "markdown",
   "metadata": {},
   "source": [
    "Nested Structures\n",
    "\n",
    "    Both tuples and lists can be nested, but tuples are often used for fixed groupings of related items, while lists are used for collections that might change."
   ]
  },
  {
   "cell_type": "code",
   "execution_count": 87,
   "metadata": {},
   "outputs": [
    {
     "name": "stdout",
     "output_type": "stream",
     "text": [
      "Name: Alice, Age: 30\n",
      "Name: Bob, Age: 25\n",
      "Name: Charlie, Age: 35\n",
      "Name: Alice, Age: 30\n",
      "Name: Bob, Age: 25\n",
      "Name: Charlie, Age: 35\n"
     ]
    }
   ],
   "source": [
    "# Nested tuple\n",
    "nested_tuple = (('Alice', 30), ('Bob', 25), ('Charlie', 35))\n",
    "\n",
    "# Nested list\n",
    "nested_list = [['Alice', 30], ['Bob', 25], ['Charlie', 35]]\n",
    "\n",
    "# Accessing nested tuple\n",
    "for name, age in nested_tuple:\n",
    "    print(f\"Name: {name}, Age: {age}\")\n",
    "\n",
    "# Accessing nested list\n",
    "for item in nested_list:\n",
    "    name, age = item\n",
    "    print(f\"Name: {name}, Age: {age}\")"
   ]
  },
  {
   "cell_type": "markdown",
   "metadata": {},
   "source": [
    "Default Values\n",
    "\n",
    "    Tuples are often used for fixed, immutable data, such as constant values or coordinates.\n",
    "    \n",
    "    Lists are used for data that changes or grows, such as collecting results or feature sets."
   ]
  },
  {
   "cell_type": "code",
   "execution_count": 88,
   "metadata": {},
   "outputs": [
    {
     "name": "stdout",
     "output_type": "stream",
     "text": [
      "Default Parameters: (0.01, 100, 10)\n",
      "Collected Results: [0.95, 0.92]\n"
     ]
    }
   ],
   "source": [
    "# Tuple of default hyperparameters\n",
    "default_params = (0.01, 100, 10)  # (learning_rate, n_estimators, max_depth)\n",
    "\n",
    "# List of collected results\n",
    "results = []\n",
    "results.append(0.95)  # Appending new results\n",
    "results.append(0.92)\n",
    "\n",
    "print(f\"Default Parameters: {default_params}\")\n",
    "print(f\"Collected Results: {results}\")"
   ]
  },
  {
   "cell_type": "markdown",
   "metadata": {},
   "source": [
    "Dictionary Comprehension\n",
    "\n",
    "Create a dictionary squared_numbers where the keys are numbers from 1 to 10 and \n",
    "the values are the squares of the keys.\n"
   ]
  }
 ],
 "metadata": {
  "kernelspec": {
   "display_name": "Python 3",
   "language": "python",
   "name": "python3"
  },
  "language_info": {
   "codemirror_mode": {
    "name": "ipython",
    "version": 3
   },
   "file_extension": ".py",
   "mimetype": "text/x-python",
   "name": "python",
   "nbconvert_exporter": "python",
   "pygments_lexer": "ipython3",
   "version": "3.11.5"
  }
 },
 "nbformat": 4,
 "nbformat_minor": 2
}
