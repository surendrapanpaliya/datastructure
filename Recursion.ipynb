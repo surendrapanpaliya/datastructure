{
 "cells": [
  {
   "cell_type": "markdown",
   "metadata": {},
   "source": [
    "Agenda Recursion\n",
    "\n",
    "    What is Recursion?\n",
    "    Why do we need recursion?\n",
    "    How Recursion works?\n",
    "    Recursive vs Iterative approach\n",
    "    How to write recursion code?\n",
    "    Introduction to Recurrence Relations\n",
    "    Factorial using recursion\n",
    "    Fibonacci using recursion\n",
    "    Sum of digits using recursion\n",
    "    Power using recursion\n",
    "    GCD using recursion\n",
    "    Decimal to binary using recursion"
   ]
  },
  {
   "cell_type": "markdown",
   "metadata": {},
   "source": [
    "What is Recursion?\n",
    "\n",
    "    Recursion is a programming technique where a function calls itself to solve a problem. \n",
    "\n",
    "    It breaks down a problem into smaller, more manageable subproblems of the same type. \n"
   ]
  },
  {
   "cell_type": "markdown",
   "metadata": {},
   "source": [
    "Why Do We Need Recursion?\n",
    "\n",
    "    Recursion is useful in situations where a problem can be naturally divided into similar subproblems. "
   ]
  },
  {
   "cell_type": "markdown",
   "metadata": {},
   "source": [
    "Benefits of using recursion include\n",
    "\n",
    "    Simplification of Code: Recursive solutions can be more concise and easier to understand compared to iterative solutions.\n",
    "\n",
    "    Natural Fit for Certain Problems: Problems like tree traversal, searching in graphs, or computing factorials and Fibonacci sequences are naturally recursive.\n",
    "\n",
    "    Divide and Conquer: Recursion facilitates the divide-and-conquer approach, where a problem is split into smaller subproblems, solved independently, and combined to form the final solution."
   ]
  },
  {
   "cell_type": "markdown",
   "metadata": {},
   "source": [
    "How Recursion Works ?\n",
    "\n",
    "    Recursion works by having a function call itself to solve smaller instances of the same problem. A recursive function typically has two parts:\n",
    "\n",
    "    1. Base Case: The condition under which the function stops calling itself to prevent infinite recursion. This is the simplest instance of the problem that can be solved directly.\n",
    "\n",
    "    2. Recursive Case: The part of the function where the function calls itself with a modified argument that brings it closer to the base case."
   ]
  },
  {
   "cell_type": "code",
   "execution_count": 1,
   "metadata": {},
   "outputs": [
    {
     "name": "stdout",
     "output_type": "stream",
     "text": [
      "120\n"
     ]
    }
   ],
   "source": [
    "def factorial(n):\n",
    "    # Base Case: When n is 0 or 1, the factorial is 1.\n",
    "    if n == 0 or n == 1:\n",
    "        return 1\n",
    "    # Recursive Case: Call the function with (n-1) and multiply the result with n.\n",
    "    else:\n",
    "        return n * factorial(n - 1)\n",
    "\n",
    "# Example usage\n",
    "print(factorial(5))  # Output will be 120"
   ]
  },
  {
   "cell_type": "markdown",
   "metadata": {},
   "source": [
    "Steps in the Recursive Process:\n",
    "\n",
    "    1.Function Call: The initial call is made with the original problem's input.\n",
    "\n",
    "    2.Check Base Case: The function checks if the base case is met. If yes, it returns the base case value.\n",
    "\n",
    "    3.Recursive Call: If the base case is not met, the function calls itself with a modified argument.\n",
    "\n",
    "    4.Stack Memory: Each recursive call is placed on the call stack with its own set of parameters and local variables.\n",
    "    \n",
    "    5.Returning Values: Once the base case is reached, the function starts returning values back up the call stack, combining results as it unwinds.\n"
   ]
  },
  {
   "cell_type": "markdown",
   "metadata": {},
   "source": [
    "Fibonacci Sequence\n",
    "\n",
    "    The Fibonacci sequence is a classic example of recursion. \n",
    "    Each number in the sequence is the sum of the two preceding ones, \n",
    "    usually starting with 0 and 1."
   ]
  },
  {
   "cell_type": "code",
   "execution_count": 34,
   "metadata": {},
   "outputs": [
    {
     "name": "stdout",
     "output_type": "stream",
     "text": [
      "0\n",
      "1\n",
      "1\n",
      "2\n",
      "3\n",
      "5\n",
      "8\n",
      "13\n"
     ]
    }
   ],
   "source": [
    "def fibonacci_num(n):\n",
    "    '''Fibonacci Sequence'''\n",
    "    first, second = 0,1\n",
    "    print(first)\n",
    "    for i in range(1,n+1):\n",
    "        print(second)\n",
    "        first, second = second, first + second\n",
    "\n",
    "fibonacci_num(7)"
   ]
  },
  {
   "cell_type": "code",
   "execution_count": 55,
   "metadata": {},
   "outputs": [
    {
     "name": "stdout",
     "output_type": "stream",
     "text": [
      "13\n"
     ]
    }
   ],
   "source": [
    "def fibonacci(n):\n",
    "    # Base Case: The first and second Fibonacci numbers are 0 and 1.\n",
    "    FibSeq = []\n",
    "    if n == 0:\n",
    "        return 0\n",
    "    elif n == 1:\n",
    "        return 1\n",
    "    # Recursive Case: Sum of the two preceding Fibonacci numbers.\n",
    "    else:\n",
    "        Fibvalue = fibonacci(n - 1) + fibonacci(n - 2)\n",
    "        FibSeq.append(Fibvalue)\n",
    "        #print(\"FibSeq Stack \\n\",FibSeq)\n",
    "        return Fibvalue\n",
    "\n",
    "# Example usage\n",
    "print(fibonacci(7))"
   ]
  },
  {
   "cell_type": "code",
   "execution_count": 35,
   "metadata": {},
   "outputs": [
    {
     "name": "stdout",
     "output_type": "stream",
     "text": [
      "13\n"
     ]
    }
   ],
   "source": [
    "def fibonacci(n):\n",
    "    # Base Case: The first and second Fibonacci numbers are 0 and 1.\n",
    "    if n == 0:\n",
    "        return 0\n",
    "    elif n == 1:\n",
    "        return 1\n",
    "    # Recursive Case: Sum of the two preceding Fibonacci numbers.\n",
    "    else:\n",
    "        return fibonacci(n - 1) + fibonacci(n - 2)\n",
    "\n",
    "# Example usage\n",
    "print(fibonacci(7))\n",
    "\n",
    "# 0,1,1,2,3,5,8,13,21"
   ]
  },
  {
   "cell_type": "markdown",
   "metadata": {},
   "source": [
    "Introduction to Recurrence Relations\n",
    "\n",
    "    Recurrence relations are equations or inequalities \n",
    "    that describe a function in terms of its value on smaller inputs. \n",
    "\n",
    "    They are used to analyze the time complexity of recursive algorithms.\n",
    "\n",
    "\n",
    "    Defining Recurrence Relations:\n",
    "\n",
    "    For a recursive algorithm, the recurrence relation expresses the total time T(n)  taken by the algorithm in terms of the time taken by smaller inputs.\n",
    "\n",
    "\n",
    "    Example: Factorial Recurrence Relation For the factorial function:\n",
    "\n",
    "    T(n)=T(n−1)+O(1)\n",
    "\n",
    "    The time to compute n! is the time to compute (n-1)! \n",
    "    plus a constant time to multiply by n.\n",
    "\n",
    "    Example: Fibonacci Recurrence Relation For the Fibonacci sequence:\n",
    "    \n",
    "    T(n)=T(n−1)+T(n−2)+O(1)\n",
    "\n",
    "    The time to compute F(n) involves computing F(n-1) and F(n-2) and \n",
    "    then adding them together."
   ]
  },
  {
   "cell_type": "markdown",
   "metadata": {},
   "source": [
    "Factorial Using Recursion\n",
    "\n",
    "    The factorial of a number n is the product of all positive integers \n",
    "    less than or equal to n. \n",
    "\n",
    "    It is defined as:\n",
    "    n!=n×(n−1)×(n−2)×⋯×1.    And the base case is 0!=1"
   ]
  },
  {
   "cell_type": "code",
   "execution_count": 36,
   "metadata": {},
   "outputs": [
    {
     "name": "stdout",
     "output_type": "stream",
     "text": [
      "120\n"
     ]
    }
   ],
   "source": [
    "def factorial(n):\n",
    "    # Base case: 0! = 1 and 1! = 1\n",
    "    if n == 0 or n == 1:\n",
    "        return 1\n",
    "    else:\n",
    "        return n * factorial(n - 1)  # Recursive case\n",
    "\n",
    "print(factorial(5))  # Output: 120"
   ]
  },
  {
   "cell_type": "markdown",
   "metadata": {},
   "source": [
    "2. Fibonacci Using Recursion\n",
    "The Fibonacci sequence is defined as:\n",
    "F(0)=0, F(1)=1, F(n)=F(n−1)+F(n−2)  for n>1 \n"
   ]
  },
  {
   "cell_type": "code",
   "execution_count": null,
   "metadata": {},
   "outputs": [],
   "source": [
    "def fibonacci(n):\n",
    "    # Base cases: F(0) = 0 and F(1) = 1\n",
    "    if n == 0:\n",
    "        return 0\n",
    "    elif n == 1:\n",
    "        return 1\n",
    "    else:\n",
    "        return fibonacci(n - 1) + fibonacci(n - 2)  # Recursive case\n",
    "\n",
    "Example Usage:\n",
    "print(fibonacci(7))  # Output: 13\n"
   ]
  },
  {
   "cell_type": "code",
   "execution_count": 65,
   "metadata": {},
   "outputs": [
    {
     "name": "stdout",
     "output_type": "stream",
     "text": [
      "4\n",
      "123\n",
      "3\n",
      "12\n",
      "2\n",
      "1\n",
      "1\n",
      "[4, 3, 2, 1]\n",
      "10\n"
     ]
    }
   ],
   "source": [
    "Lists = []\n",
    "number = 1234\n",
    "Remainder = number % 10\n",
    "print(Remainder)\n",
    "number = number // 10\n",
    "print(number)\n",
    "Lists.append(Remainder)\n",
    "Remainder = number % 10\n",
    "print(Remainder)\n",
    "Lists.append(Remainder)\n",
    "number = number // 10\n",
    "print(number)\n",
    "Remainder = number % 10\n",
    "print(Remainder)\n",
    "Lists.append(Remainder)\n",
    "number = number // 10\n",
    "print(number)\n",
    "Remainder = number % 10\n",
    "print(Remainder)\n",
    "Lists.append(Remainder)\n",
    "print(Lists)\n",
    "print(sum(Lists))\n"
   ]
  },
  {
   "cell_type": "markdown",
   "metadata": {},
   "source": [
    "Sum of Digits Using Recursion\n",
    "\n",
    "    The sum of the digits of a number n is \n",
    "    the sum of all its individual digits. \n",
    "\n",
    "    For example, the sum of the digits of 1234 is 1+2+3+4=10.  "
   ]
  },
  {
   "cell_type": "code",
   "execution_count": 41,
   "metadata": {},
   "outputs": [
    {
     "name": "stdout",
     "output_type": "stream",
     "text": [
      "10\n"
     ]
    }
   ],
   "source": [
    "def sum_of_digits(n):\n",
    "    # Base case: If n is a single digit, return n\n",
    "    if n == 0:\n",
    "        return 0\n",
    "    else:\n",
    "        return (n % 10) + sum_of_digits(n // 10)  # Recursive case\n",
    "\n",
    "print(sum_of_digits(1234))  # Output: 10"
   ]
  },
  {
   "cell_type": "markdown",
   "metadata": {},
   "source": [
    "Power Using Recursion\n",
    "\n",
    "    The power of a number x raised to the power n (x^n) \n",
    "    can be computed recursively by the following relation:\n",
    "\n",
    "    x^n = x * x^{n-1}\n",
    "\n",
    "    The base case occurs when n=0  \n",
    "    where any number raised to the power of 0 is 1."
   ]
  },
  {
   "cell_type": "code",
   "execution_count": null,
   "metadata": {},
   "outputs": [],
   "source": [
    "def power(x, n):\n",
    "    # Base case: x^0 = 1\n",
    "    if n == 0:\n",
    "        return 1\n",
    "    else:\n",
    "        return x * power(x, n - 1)  # Recursive case\n",
    "\n",
    "print(power(2, 3))  # Output: 8"
   ]
  },
  {
   "cell_type": "markdown",
   "metadata": {},
   "source": [
    "GCD Using Recursion\n",
    "\n",
    "    The greatest common divisor (GCD) of two numbers a and b can be found using \n",
    "    Euclid's algorithm, which is defined as:\n",
    "\n",
    "    GCD(a, b)= GCD(b, a mod  b) \n",
    "\n",
    "    The base case occurs when b=0, in which case \n",
    "\n",
    "    GCD(a,0)=a "
   ]
  },
  {
   "cell_type": "code",
   "execution_count": null,
   "metadata": {},
   "outputs": [],
   "source": [
    "def gcd(a, b):\n",
    "    # Base case: GCD(a, 0) = a\n",
    "    if b == 0:\n",
    "        return a\n",
    "    else:\n",
    "        return gcd(b, a % b)  # Recursive case\n",
    "\n",
    "print(gcd(48, 18))  # Output: 6"
   ]
  },
  {
   "cell_type": "markdown",
   "metadata": {},
   "source": [
    "Decimal to Binary Using Recursion\n",
    "\n",
    "    To convert a decimal number n to binary, \n",
    "    repeatedly divide the number by 2 and \n",
    "    keep track of the remainders. \n",
    "\n",
    "    The binary representation is obtained by \n",
    "    reading the remainders in reverse order."
   ]
  },
  {
   "cell_type": "code",
   "execution_count": 40,
   "metadata": {},
   "outputs": [
    {
     "name": "stdout",
     "output_type": "stream",
     "text": [
      "1010\n"
     ]
    }
   ],
   "source": [
    "def decimal_to_binary(n):\n",
    "    # Base case: Binary of 0 is \"0\"\n",
    "    if n == 0:\n",
    "        return \"0\"\n",
    "    elif n == 1:\n",
    "        return \"1\"\n",
    "    else:\n",
    "        return decimal_to_binary(n // 2) + str(n % 2)  # Recursive case\n",
    "\n",
    "print(decimal_to_binary(10))  # Output: \"1010\""
   ]
  },
  {
   "cell_type": "markdown",
   "metadata": {},
   "source": [
    "10. File System Traversal\n",
    "\n",
    "    Description: Traversing directories in a file system to list files, search for a specific file, or apply operations to files can be implemented recursively.\n",
    "\n",
    "    Example:\n",
    "    Recursively traverse all directories and subdirectories to find a specific file or count the number of files.\n",
    "\n",
    "\n",
    "    "
   ]
  },
  {
   "cell_type": "code",
   "execution_count": 67,
   "metadata": {},
   "outputs": [
    {
     "name": "stdout",
     "output_type": "stream",
     "text": [
      "/Users/surendra/g7cr/LinkedListAlgo.ipynb\n",
      "/Users/surendra/g7cr/Bank_App.ipynb\n",
      "/Users/surendra/g7cr/Queue_operations.ipynb\n",
      "/Users/surendra/g7cr/Doubly_Linked_List.ipynb\n",
      "/Users/surendra/g7cr/tuple_performance.py\n",
      "/Users/surendra/g7cr/multiprocessing_queue.py\n",
      "/Users/surendra/g7cr/Array_Examples.ipynb\n",
      "/Users/surendra/g7cr/Object_Oriented_Prog.ipynb\n",
      "/Users/surendra/g7cr/circular_doubly.ipynb\n",
      "/Users/surendra/g7cr/numpy_example.ipynb\n",
      "/Users/surendra/g7cr/List_examples.ipynb\n",
      "/Users/surendra/g7cr/Array_Time_Space_Complexity.ipynb\n",
      "/Users/surendra/g7cr/Arrayex.py\n",
      "/Users/surendra/g7cr/BankApp.Py\n",
      "/Users/surendra/g7cr/array_two_dim.py\n",
      "/Users/surendra/g7cr/__pycache__/DoublyLinkedListModule.cpython-311.pyc\n",
      "/Users/surendra/g7cr/__pycache__/Arrayex.cpython-311.pyc\n",
      "/Users/surendra/g7cr/List_Project_Temp.ipynb\n",
      "/Users/surendra/g7cr/Tree_ds.ipynb\n",
      "/Users/surendra/g7cr/Array_Assignments.ipynb\n",
      "/Users/surendra/g7cr/function_Ex.ipynb\n",
      "/Users/surendra/g7cr/stack_operations.ipynb\n",
      "/Users/surendra/g7cr/datastruct.py\n",
      "/Users/surendra/g7cr/Recursion.ipynb\n",
      "/Users/surendra/g7cr/DoublyLinkedListModule.py\n",
      "/Users/surendra/g7cr/G7_CR_Data_Structure.ipynb\n",
      "/Users/surendra/g7cr/Circular_Single_LL.ipynb\n",
      "/Users/surendra/g7cr/dllmenu.py\n",
      "/Users/surendra/g7cr/CircularLL_Algorithm.ipynb\n",
      "/Users/surendra/g7cr/Dictionary_Examples.ipynb\n",
      "/Users/surendra/g7cr/.git/config\n",
      "/Users/surendra/g7cr/.git/objects/ab/968bf20b7443e98e72100c76c1c1303146de05\n",
      "/Users/surendra/g7cr/.git/objects/cf/6f533a0dcabc27a06796a49f94118ee8a5332f\n",
      "/Users/surendra/g7cr/.git/objects/97/fdd6de19c075ac77e8a0843b8b391ddca284b2\n",
      "/Users/surendra/g7cr/.git/objects/e6/9de29bb2d1d6434b8b29ae775ad8c2e48c5391\n",
      "/Users/surendra/g7cr/.git/HEAD\n",
      "/Users/surendra/g7cr/.git/info/exclude\n",
      "/Users/surendra/g7cr/.git/description\n",
      "/Users/surendra/g7cr/.git/hooks/commit-msg.sample\n",
      "/Users/surendra/g7cr/.git/hooks/pre-rebase.sample\n",
      "/Users/surendra/g7cr/.git/hooks/sendemail-validate.sample\n",
      "/Users/surendra/g7cr/.git/hooks/pre-commit.sample\n",
      "/Users/surendra/g7cr/.git/hooks/applypatch-msg.sample\n",
      "/Users/surendra/g7cr/.git/hooks/fsmonitor-watchman.sample\n",
      "/Users/surendra/g7cr/.git/hooks/pre-receive.sample\n",
      "/Users/surendra/g7cr/.git/hooks/prepare-commit-msg.sample\n",
      "/Users/surendra/g7cr/.git/hooks/post-update.sample\n",
      "/Users/surendra/g7cr/.git/hooks/pre-merge-commit.sample\n",
      "/Users/surendra/g7cr/.git/hooks/pre-applypatch.sample\n",
      "/Users/surendra/g7cr/.git/hooks/pre-push.sample\n",
      "/Users/surendra/g7cr/.git/hooks/update.sample\n",
      "/Users/surendra/g7cr/.git/hooks/push-to-checkout.sample\n",
      "/Users/surendra/g7cr/.git/index\n",
      "/Users/surendra/g7cr/.git/COMMIT_EDITMSG\n",
      "/Users/surendra/g7cr/Linked_List_Book_Case.ipynb\n",
      "/Users/surendra/g7cr/linklist_example.ipynb\n"
     ]
    }
   ],
   "source": [
    "import os\n",
    "\n",
    "def list_files(directory):\n",
    "        for item in os.listdir(directory):\n",
    "            path = os.path.join(directory, item)\n",
    "            if os.path.isdir(path):\n",
    "                list_files(path)\n",
    "            else:\n",
    "                print(path)\n",
    "\n",
    "list_files('/Users/surendra/g7cr')"
   ]
  },
  {
   "cell_type": "markdown",
   "metadata": {},
   "source": [
    "Recursion Applications \n",
    "\n",
    "    Recursion is a powerful programming technique where a function calls itself to solve a problem. \n",
    "    \n",
    "    In data structures and algorithms, recursion is widely used for solving problems that can be broken down into smaller, simpler subproblems. \n",
    "    \n",
    "    Here are some key applications of recursion in data structure programming:\n",
    "\n",
    "    1. Tree Traversal\n",
    "    Description: Trees are hierarchical data structures where each node can have zero or more child nodes. \n",
    "    \n",
    "    Recursive algorithms are naturally suited for tree traversal (e.g., preorder, inorder, postorder).\n",
    "\n",
    "    Example: Inorder traversal of a binary tree involves recursively traversing the left subtree, processing the root, and then recursively traversing the right subtree.\n",
    "\n",
    "\n",
    "    def inorder_traversal(root):\n",
    "        if root:\n",
    "            inorder_traversal(root.left)\n",
    "            print(root.data)\n",
    "            inorder_traversal(root.right)\n",
    "\n",
    "\n",
    "    2. Divide and Conquer Algorithms\n",
    "\n",
    "    Description: Divide and conquer is a technique that involves dividing a problem into smaller subproblems, solving each subproblem recursively, and then combining the results.\n",
    "    \n",
    "    Recursion is the backbone of this approach.\n",
    "\n",
    "    Examples:\n",
    "\n",
    "    Merge Sort: Recursively splits the array into two halves, sorts each half, and merges the sorted halves.\n",
    "\n",
    "    Quick Sort: Recursively partitions the array around a pivot element and sorts the partitions.\n",
    "\n",
    "   \n",
    "    def merge_sort(arr):\n",
    "        if len(arr) > 1:\n",
    "            mid = len(arr) // 2\n",
    "            left_half = arr[:mid]\n",
    "            right_half = arr[mid:]\n",
    "\n",
    "            merge_sort(left_half)\n",
    "            merge_sort(right_half)\n",
    "\n",
    "            # Merge the sorted halves\n",
    "            i = j = k = 0\n",
    "            while i < len(left_half) and j < len(right_half):\n",
    "                if left_half[i] < right_half[j]:\n",
    "                    arr[k] = left_half[i]\n",
    "                    i += 1\n",
    "                else:\n",
    "                    arr[k] = right_half[j]\n",
    "                    j += 1\n",
    "                k += 1\n",
    "\n",
    "            while i < len(left_half):\n",
    "                arr[k] = left_half[i]\n",
    "                i += 1\n",
    "                k += 1\n",
    "\n",
    "            while j < len(right_half):\n",
    "                arr[k] = right_half[j]\n",
    "                j += 1\n",
    "                k += 1\n",
    "\n",
    "\n",
    "    3. Backtracking\n",
    "\n",
    "    Description: Backtracking is a problem-solving technique that involves exploring all possible solutions by building them incrementally and abandoning solutions that fail to satisfy the constraints. \n",
    "    \n",
    "    Recursion is used to explore the solution space.\n",
    "\n",
    "    Examples:\n",
    "\n",
    "    N-Queens Problem: Place N queens on an N×N chessboard such that no two queens threaten each other.\n",
    "    Sudoku Solver: Fill the empty cells of a Sudoku grid by trying each possible number recursively.\n",
    " \n",
    "    def solve_n_queens(board, col):\n",
    "        if col >= len(board):\n",
    "            return True\n",
    "        for i in range(len(board)):\n",
    "            if is_safe(board, i, col):\n",
    "                board[i][col] = 1\n",
    "                if solve_n_queens(board, col + 1):\n",
    "                    return True\n",
    "                board[i][col] = 0  # Backtrack\n",
    "        return False\n",
    "\n",
    "    4. Dynamic Programming\n",
    "\n",
    "    Description: Dynamic programming often uses recursion to break down problems into overlapping subproblems, which are then solved and stored to avoid redundant calculations.\n",
    "\n",
    "    Examples:\n",
    "\n",
    "    Fibonacci Sequence: The nth Fibonacci number can be computed using recursion with memoization.\n",
    "\n",
    "    Knapsack Problem: Recursively determine the maximum value that can be obtained by selecting items to include in a knapsack of limited capacity.\n",
    "\n",
    "\n",
    "    def fibonacci(n, memo={}):\n",
    "        if n in memo:\n",
    "            return memo[n]\n",
    "        if n <= 1:\n",
    "            return n\n",
    "        memo[n] = fibonacci(n-1, memo) + fibonacci(n-2, memo)\n",
    "        return memo[n]\n",
    "\n",
    "\n",
    "    5. Graph Traversal\n",
    "\n",
    "    Description: Graph traversal algorithms, such as Depth-First Search (DFS), are naturally implemented using recursion. In DFS, the algorithm explores as far as possible along each branch before backtracking.\n",
    "\n",
    "    Example: DFS can be used to find connected components in a graph or to check if a path exists between two nodes.\n",
    "\n",
    "\n",
    "    def dfs(graph, node, visited):\n",
    "        if node not in visited:\n",
    "            visited.add(node)\n",
    "            print(node)\n",
    "            for neighbor in graph[node]:\n",
    "                dfs(graph, neighbor, visited)\n",
    "\n",
    "    6. Mathematical Computations\n",
    "\n",
    "    Description: Many mathematical computations and problems can be solved using recursive algorithms.\n",
    "\n",
    "    Examples:\n",
    "\n",
    "    Factorial: Compute the factorial of a number using recursion.\n",
    "\n",
    "    Exponentiation: Compute the power of a number recursively.\n",
    "\n",
    "    Greatest Common Divisor (GCD): Compute the GCD of two numbers using the Euclidean algorithm.\n",
    "\n",
    "\n",
    "    def factorial(n):\n",
    "        if n == 0:\n",
    "            return 1\n",
    "        else:\n",
    "            return n * factorial(n-1)\n",
    "\n",
    "    7. Permutations and Combinations\n",
    "\n",
    "    Description: Generating all permutations or combinations of a set of elements is a common problem in combinatorial algorithms, which is often solved using recursion.\n",
    "\n",
    "\n",
    "    Examples:\n",
    "\n",
    "    Permutations: Recursively generate all possible arrangements of a set of elements.\n",
    "    Combinations: Recursively generate all possible subsets of a set.\n",
    "\n",
    "    def permute(nums):\n",
    "        result = []\n",
    "        if len(nums) == 1:\n",
    "            return [nums[:]]\n",
    "        for i in range(len(nums)):\n",
    "            n = nums.pop(0)\n",
    "            perms = permute(nums)\n",
    "            for perm in perms:\n",
    "                perm.append(n)\n",
    "            result.extend(perms)\n",
    "            nums.append(n)\n",
    "        return result\n",
    "\n",
    "    8. Parsing and Expression Evaluation\n",
    "\n",
    "    Description: Recursive Descent Parsing is a technique used to parse expressions and evaluate them, especially in compilers and interpreters.\n",
    "\n",
    "    Examples:\n",
    "\n",
    "    Expression Evaluation: Recursively evaluate arithmetic expressions based on operator precedence.\n",
    "\n",
    "    Syntax Tree Construction: Construct a syntax tree for expressions or programming language constructs.\n",
    "\n",
    "    9. Towers of Hanoi\n",
    "\n",
    "    Description: The Towers of Hanoi is a classic problem that is often used to illustrate the power of recursion. The objective is to move a set of disks from one peg to another, following specific rules.\n",
    "\n",
    "    Example:\n",
    "    Recursively move the disks from the source peg to the destination peg using an auxiliary peg.\n",
    "\n",
    "\n",
    "    def towers_of_hanoi(n, source, target, auxiliary):\n",
    "        if n == 1:\n",
    "            print(f\"Move disk 1 from {source} to {target}\")\n",
    "            return\n",
    "        towers_of_hanoi(n-1, source, auxiliary, target)\n",
    "        print(f\"Move disk {n} from {source} to {target}\")\n",
    "        towers_of_hanoi(n-1, auxiliary, target, source)\n",
    "\n",
    "\n",
    "    10. File System Traversal\n",
    "\n",
    "    Description: Traversing directories in a file system to list files, search for a specific file, or apply operations to files can be implemented recursively.\n",
    "\n",
    "    Example:\n",
    "    Recursively traverse all directories and subdirectories to find a specific file or count the number of files.\n",
    "\n",
    "\n",
    "    import os\n",
    "\n",
    "    def list_files(directory):\n",
    "        for item in os.listdir(directory):\n",
    "            path = os.path.join(directory, item)\n",
    "            if os.path.isdir(path):\n",
    "                list_files(path)\n",
    "            else:\n",
    "                print(path)\n",
    "\n",
    "   \n",
    "    Conclusion:\n",
    "    Recursion is an essential tool in data structure programming, offering elegant and efficient solutions for a variety of complex problems. Its applications span across various domains, from simple mathematical computations to complex graph algorithms, making it a fundamental concept in computer science."
   ]
  }
 ],
 "metadata": {
  "kernelspec": {
   "display_name": "Python 3",
   "language": "python",
   "name": "python3"
  },
  "language_info": {
   "codemirror_mode": {
    "name": "ipython",
    "version": 3
   },
   "file_extension": ".py",
   "mimetype": "text/x-python",
   "name": "python",
   "nbconvert_exporter": "python",
   "pygments_lexer": "ipython3",
   "version": "3.11.5"
  }
 },
 "nbformat": 4,
 "nbformat_minor": 2
}
