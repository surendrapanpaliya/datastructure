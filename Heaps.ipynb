{
 "cells": [
  {
   "cell_type": "markdown",
   "metadata": {},
   "source": [
    "Heaps Agenda\n",
    "\n",
    "    What is Heap? \n",
    "    Types of Heaps. \n",
    "    Heaps Terminologies \n",
    "    Operations of Heaps \n",
    "    Implement Heap - Python List \n",
    "    Min Heap\n",
    "    Max Heap\n",
    "    Build Heap \n",
    "    Operations - Insert, Delete, Extract Min/Max \n",
    "    Heap Sort Algorithm and Python Code"
   ]
  },
  {
   "cell_type": "markdown",
   "metadata": {},
   "source": [
    "Heaps are specialized tree-based data structures that satisfy the heap property. They are commonly used in algorithms such as heapsort and in implementing priority queues."
   ]
  },
  {
   "cell_type": "markdown",
   "metadata": {},
   "source": [
    "What is a Heap?\n",
    "\n",
    "    A heap is a complete binary tree where each node follows a specific order relation with its children. \n",
    "    \n",
    "    This relation is known as the heap property."
   ]
  },
  {
   "cell_type": "markdown",
   "metadata": {},
   "source": [
    "Heap Property:\n",
    "Min Heap: In a min heap, the value of each node is less than or equal to the values of its children. The smallest element is at the root.\n",
    "Max Heap: In a max heap, the value of each node is greater than or equal to the values of its children. The largest element is at the root.\n"
   ]
  },
  {
   "cell_type": "markdown",
   "metadata": {},
   "source": [
    "Types of Heaps\n",
    "•\tMin Heap: Each parent node has a value less than or equal to its children. Useful for priority queues where the smallest element is required to be accessed quickly.\n",
    "•\tMax Heap: Each parent node has a value greater than or equal to its children. Useful for priority queues where the largest element is required to be accessed quickly.\n"
   ]
  },
  {
   "cell_type": "markdown",
   "metadata": {},
   "source": [
    "Terminologies\n",
    "•\tNode: An element of the heap.\n",
    "•\tParent: A node that has child nodes.\n",
    "•\tChild: A node that has a parent node.\n",
    "•\tLeaf: A node with no children.\n",
    "•\tRoot: The top node of the heap.\n",
    "•\tHeight: The length of the path from the root to a leaf node."
   ]
  },
  {
   "cell_type": "markdown",
   "metadata": {},
   "source": [
    "Operations of Heaps\n",
    "•\tInsertion: Add a new element to the heap while maintaining the heap property.\n",
    "•\tDeletion: Remove the root element (minimum or maximum) and then re-heapify to maintain the heap property.\n",
    "•\tHeapify: Process of adjusting the heap to maintain the heap property after insertion or deletion."
   ]
  },
  {
   "cell_type": "markdown",
   "metadata": {},
   "source": [
    "Implement Heap - Python List\n",
    "A heap can be efficiently implemented using a Python list. The heap operations are performed using the indices of the list."
   ]
  },
  {
   "cell_type": "markdown",
   "metadata": {},
   "source": [
    "Min Heap\n",
    "A min heap is a complete binary tree where each node is less than or equal to its children."
   ]
  },
  {
   "cell_type": "code",
   "execution_count": 13,
   "metadata": {},
   "outputs": [
    {
     "name": "stdout",
     "output_type": "stream",
     "text": [
      "Help on built-in function heapreplace in module _heapq:\n",
      "\n",
      "heapreplace(heap, item, /)\n",
      "    Pop and return the current smallest value, and add the new item.\n",
      "    \n",
      "    This is more efficient than heappop() followed by heappush(), and can be\n",
      "    more appropriate when using a fixed-size heap.  Note that the value\n",
      "    returned may be larger than item!  That constrains reasonable uses of\n",
      "    this routine unless written as part of a conditional replacement:\n",
      "    \n",
      "        if item > heap[0]:\n",
      "            item = heapreplace(heap, item)\n",
      "\n",
      "Help on built-in function heappushpop in module _heapq:\n",
      "\n",
      "heappushpop(heap, item, /)\n",
      "    Push item on the heap, then pop and return the smallest item from the heap.\n",
      "    \n",
      "    The combined action runs more efficiently than heappush() followed by\n",
      "    a separate call to heappop().\n",
      "\n"
     ]
    }
   ],
   "source": [
    "import heapq\n",
    "\n",
    "#help(heapq)\n",
    "\n",
    "heap1 = []\n",
    "\n",
    "#help(heapq.heappushpop)\n",
    "\n",
    "#help(heapq.heappush)\n",
    "\n",
    "#help(heapq.heappop)\n",
    "\n",
    "help(heapq.heapreplace)\n",
    "help(heapq.heappushpop)"
   ]
  },
  {
   "cell_type": "code",
   "execution_count": null,
   "metadata": {},
   "outputs": [],
   "source": []
  },
  {
   "cell_type": "code",
   "execution_count": 41,
   "metadata": {},
   "outputs": [
    {
     "name": "stdout",
     "output_type": "stream",
     "text": [
      "Heap after insertions: [3, 3, 8, 6, 5]\n",
      "Minimum element: 3\n",
      "Heap after deleting the minimum element: [3, 5, 8, 6]\n",
      "Heap after Deletion: [3, 5, 8, 6]\n",
      "Heap after building from iterable: [10, 15, 20, 17]\n"
     ]
    }
   ],
   "source": [
    "import heapq\n",
    "\n",
    "class MinHeap:\n",
    "    def __init__(self):\n",
    "        \"\"\"\n",
    "        Initializes an empty list to store heap elements.\n",
    "        The heap will use the list to store elements in a way that maintains\n",
    "        the heap property, where the smallest element is at the root.\n",
    "        \"\"\"\n",
    "        self.heap_list = []\n",
    "\n",
    "    def insert(self, element):\n",
    "        \"\"\"\n",
    "        Inserts a new element into the heap while maintaining the min-heap property.\n",
    "        :param element: The element to be inserted into the heap.\n",
    "        \"\"\"\n",
    "        # Use heapq.heappush to insert the element into the heap.\n",
    "        heapq.heappush(self.heap_list, element)\n",
    "\n",
    "    def delete_min(self):\n",
    "        \"\"\"\n",
    "        Removes and returns the smallest element from the heap.\n",
    "        The heap property is maintained after the smallest element is removed.\n",
    "        :return: The smallest element in the heap.\n",
    "        \"\"\"\n",
    "        # Use heapq.heappop to remove and return the smallest element from the heap.\n",
    "        return heapq.heappop(self.heap_list)\n",
    "\n",
    "    def get_min(self):\n",
    "        \"\"\"\n",
    "        Returns the smallest element in the heap without removing it.\n",
    "        :return: The smallest element in the heap (the root of the heap).\n",
    "        \"\"\"\n",
    "        # Return the root element (smallest element in the min-heap).\n",
    "        return self.heap_list[0]\n",
    "\n",
    "    def build_heap(self, elements):\n",
    "        \"\"\"\n",
    "        Builds a heap from an iterable of elements. The existing heap will be overwritten.\n",
    "        :param elements: An iterable of elements to be used for building the heap.\n",
    "        \"\"\"\n",
    "        # Convert the iterable into a list and then transform it into a heap using heapq.heapify.\n",
    "        self.heap_list = list(elements)\n",
    "        heapq.heapify(self.heap_list)\n",
    "\n",
    "    def __str__(self):\n",
    "        \"\"\"\n",
    "        Returns a string representation of the heap for display purposes.\n",
    "        :return: The string representation of the heap list.\n",
    "        \"\"\"\n",
    "        return str(self.heap_list)\n",
    "\n",
    "\n",
    "min_heap = MinHeap()\n",
    "\n",
    "# Insert elements into the heap\n",
    "min_heap.insert(5)\n",
    "min_heap.insert(3)\n",
    "min_heap.insert(8)\n",
    "min_heap.insert(6)\n",
    "min_heap.insert(3)\n",
    "\n",
    "# Display the heap\n",
    "print(\"Heap after insertions:\", min_heap)\n",
    "\n",
    "# Get the minimum element\n",
    "print(\"Minimum element:\", min_heap.get_min())\n",
    "\n",
    "# Delete the minimum element\n",
    "min_heap.delete_min()\n",
    "print(\"Heap after deleting the minimum element:\", min_heap)\n",
    "\n",
    "# Display the heap\n",
    "print(\"Heap after Deletion:\", min_heap)\n",
    "\n",
    "# Build a new heap from an iterable\n",
    "min_heap.build_heap([10, 15, 20, 17])\n",
    "print(\"Heap after building from iterable:\", min_heap)\n",
    "\n",
    "min_heap.build_heap([10, 15, 20, 17])\n"
   ]
  },
  {
   "cell_type": "markdown",
   "metadata": {},
   "source": [
    "Explanation of Each Method:\n",
    "\n",
    "    1.__init__(self):\n",
    "\n",
    "    Initializes the heap by creating an empty list heap_list to store the heap elements. The heap will be a min-heap, so the smallest element will always be at index 0 (the root).\n",
    "\n",
    "    2.insert(self, element):\n",
    "\n",
    "    This method inserts an element into the heap while maintaining the min-heap property. It uses Python's heapq.heappush() function to ensure that the heap structure is maintained after insertion.\n",
    "\n",
    "    3.delete_min(self):\n",
    "\n",
    "    Removes and returns the smallest element from the heap. The heapq.heappop() function ensures that the heap structure is re-adjusted after the root (smallest element) is removed.\n",
    "\n",
    "    4.get_min(self):\n",
    "\n",
    "    Returns the smallest element (root of the heap) without modifying the heap. This allows checking the minimum element without altering the structure.\n",
    "\n",
    "    5.build_heap(self, elements):\n",
    "\n",
    "    Builds a heap from an iterable (such as a list or other collection) of elements. The existing heap is overwritten by converting the iterable into a list and calling heapq.heapify(), which efficiently transforms the list into a valid heap.\n",
    "\n",
    "    6.__str__(self):\n",
    "\n",
    "    This method provides a string representation of the current heap for display or debugging purposes.\n"
   ]
  },
  {
   "cell_type": "code",
   "execution_count": null,
   "metadata": {},
   "outputs": [],
   "source": []
  },
  {
   "cell_type": "markdown",
   "metadata": {},
   "source": [
    "Max Heap\n",
    "For a max heap, Python’s heapq library does not directly support max heaps. You can simulate a max heap by negating the values."
   ]
  },
  {
   "cell_type": "code",
   "execution_count": 44,
   "metadata": {},
   "outputs": [
    {
     "name": "stdout",
     "output_type": "stream",
     "text": [
      "Heap after insertions: [10, 5, 3, 4, 1]\n",
      "Maximum element: 10\n",
      "Heap after deleting the maximum element: [5, 4, 3, 1]\n",
      "Heap after building from iterable: [13, 5, 3, 4, 1]\n"
     ]
    },
    {
     "data": {
      "text/plain": [
       "13"
      ]
     },
     "execution_count": 44,
     "metadata": {},
     "output_type": "execute_result"
    }
   ],
   "source": [
    "import heapq\n",
    "\n",
    "class MaxHeap:\n",
    "    def __init__(self):\n",
    "        \"\"\"\n",
    "        Initializes an empty list to store heap elements.\n",
    "        The heap will store the elements in such a way that the maximum element\n",
    "        is always at the root.\n",
    "        \"\"\"\n",
    "        self.heap_list = []\n",
    "\n",
    "    def insert(self, element):\n",
    "        \"\"\"\n",
    "        Inserts a new element into the heap while maintaining the max-heap property.\n",
    "        Internally, Python's heapq only supports a min-heap, so we store negative\n",
    "        values to simulate a max-heap.\n",
    "        :param element: The element to be inserted into the max-heap.\n",
    "        \"\"\"\n",
    "        # Insert the negative of the element to simulate max-heap behavior.\n",
    "        heapq.heappush(self.heap_list, -element)\n",
    "\n",
    "    def delete_max(self):\n",
    "        \"\"\"\n",
    "        Removes and returns the largest element from the heap.\n",
    "        Since we store negative values to simulate a max-heap, we pop the smallest\n",
    "        (i.e., the most negative) value and return its positive counterpart.\n",
    "        :return: The largest element in the heap.\n",
    "        \"\"\"\n",
    "        # Pop the smallest (most negative) element and return its positive value.\n",
    "        return -heapq.heappop(self.heap_list)\n",
    "\n",
    "    def get_max(self):\n",
    "        \"\"\"\n",
    "        Returns the largest element in the heap without removing it.\n",
    "        :return: The largest element in the heap (the root of the max-heap).\n",
    "        \"\"\"\n",
    "        # Return the positive value of the smallest element (root) to simulate max-heap.\n",
    "        return -self.heap_list[0]\n",
    "\n",
    "    def build_heap(self, elements):\n",
    "        \"\"\"\n",
    "        Builds a max-heap from an iterable (list, tuple, etc.) of elements.\n",
    "        Converts all elements to their negative values to simulate max-heap behavior.\n",
    "        :param elements: An iterable of elements to build the max-heap from.\n",
    "        \"\"\"\n",
    "        # Store the negative of each element in the heap_list and heapify\n",
    "        # to build the heap.\n",
    "        self.heap_list = [-element for element in elements]\n",
    "        heapq.heapify(self.heap_list)\n",
    "\n",
    "    def __str__(self):\n",
    "        \"\"\"\n",
    "        Returns a string representation of the heap for display purposes.\n",
    "        The negative values are converted back to their positive form for proper\n",
    "        representation.\n",
    "        :return: The string representation of the max-heap list.\n",
    "        \"\"\"\n",
    "        # Convert the internal negative values back to their positive form for display.\n",
    "        return str([-element for element in self.heap_list])\n",
    "\n",
    "# Example usage of the MaxHeap class:\n",
    "max_heap = MaxHeap()\n",
    "\n",
    "# Insert elements into the heap\n",
    "max_heap.insert(4)\n",
    "max_heap.insert(10)\n",
    "max_heap.insert(3)\n",
    "max_heap.insert(5)\n",
    "max_heap.insert(1)\n",
    "\n",
    "# Display the heap\n",
    "print(\"Heap after insertions:\", max_heap)\n",
    "\n",
    "# Get the maximum element\n",
    "print(\"Maximum element:\", max_heap.get_max())\n",
    "\n",
    "# Delete the maximum element\n",
    "max_heap.delete_max()\n",
    "print(\"Heap after deleting the maximum element:\", max_heap)\n",
    "\n",
    "# Build a new max-heap from an iterable\n",
    "max_heap.build_heap([4, 13, 3, 5, 1])\n",
    "print(\"Heap after building from iterable:\", max_heap)\n",
    "\n",
    "max_heap.get_max()"
   ]
  },
  {
   "cell_type": "markdown",
   "metadata": {},
   "source": [
    "Explanation of Methods:\n",
    "\n",
    "    1.__init__(self):\n",
    "\n",
    "    Initializes an empty list heap_list to store the elements of the heap. The heap is used as a max-heap, where the largest element should always be at the root. Internally, we store negative values to simulate max-heap behavior using Python's heapq, which natively implements a min-heap.\n",
    "\n",
    "    2.insert(self, element):\n",
    "\n",
    "    Inserts an element into the max-heap by pushing the negative of the element. This ensures that the min-heap structure of heapq can be used to simulate a max-heap.\n",
    "\n",
    "    3.delete_max(self):\n",
    "\n",
    "    Removes and returns the maximum element from the heap. Since we store negative values to simulate a max-heap, the smallest (most negative) value is popped, and its positive counterpart is returned.\n",
    "\n",
    "    4.get_max(self):\n",
    "\n",
    "    Returns the largest element in the heap without removing it. The element is retrieved as the smallest (most negative) value, and we return its positive counterpart.\n",
    "\n",
    "    5.build_heap(self, elements):\n",
    "\n",
    "    Builds a max-heap from an iterable of elements (such as a list or tuple). All elements are converted to their negative values before calling heapq.heapify() to ensure that the max-heap property is maintained.\n",
    "    \n",
    "    6.__str__(self):\n",
    "\n",
    "    Returns a string representation of the heap. The negative values are converted back to their positive counterparts for display purposes, so the user sees the correct max-heap representation.\n"
   ]
  },
  {
   "cell_type": "markdown",
   "metadata": {},
   "source": [
    "Build Heap\n",
    "Building a heap from an existing list involves converting the list into a heap in-place using the heapify method."
   ]
  },
  {
   "cell_type": "code",
   "execution_count": 4,
   "metadata": {},
   "outputs": [
    {
     "name": "stdout",
     "output_type": "stream",
     "text": [
      "[1, 4, 3, 5, 10]\n"
     ]
    }
   ],
   "source": [
    "import heapq\n",
    "\n",
    "heap = [4, 10, 3, 5, 1]\n",
    "heapq.heapify(heap)\n",
    "print(heap)  # Output will be a valid min-heap"
   ]
  },
  {
   "cell_type": "markdown",
   "metadata": {},
   "source": [
    "Building a Heap using the heapify() Method in Python\n",
    "\n",
    "    The heapify() function in Python's heapq module transforms a given list into a valid min-heap in-place. If you want to build a max-heap, you can simulate it by negating the values during heapification.\n",
    "    \n",
    "    Steps to Build a Min-Heap:\n",
    "    1.\tStart with an arbitrary list of elements.\n",
    "    2.\tUse the heapq.heapify() method, which rearranges the elements of the list in-place to satisfy the min-heap property.\n",
    "    o\tThe time complexity of heapifying a list is O(n).\n",
    "    Algorithm for Building a Min-Heap:\n",
    "    1.\tStart with a list of unsorted elements.\n",
    "    2.\tApply the heapify() function.\n",
    "    3.\tThe resulting list will follow the min-heap property, where the smallest element is at the root (first position).\n"
   ]
  },
  {
   "cell_type": "code",
   "execution_count": 42,
   "metadata": {},
   "outputs": [
    {
     "name": "stdout",
     "output_type": "stream",
     "text": [
      "Original Array: [10, 3, 15, 7, 8, 23, 74, 18]\n",
      "Min-Heap: [3, 7, 15, 10, 8, 23, 74, 18]\n"
     ]
    }
   ],
   "source": [
    "import heapq\n",
    "\n",
    "def build_min_heap(array):\n",
    "    \"\"\"\n",
    "    Builds a min-heap from an existing list using heapq.heapify.\n",
    "    :param array: The list of elements to be converted into a min-heap.\n",
    "    \"\"\"\n",
    "    # Use heapq.heapify to convert the list into a min-heap\n",
    "    heapq.heapify(array)\n",
    "    return array\n",
    "\n",
    "# Example usage\n",
    "unsorted_array = [10, 3, 15, 7, 8, 23, 74, 18]\n",
    "print(f\"Original Array: {unsorted_array}\")\n",
    "\n",
    "# Build the min-heap\n",
    "min_heap = build_min_heap(unsorted_array)\n",
    "print(f\"Min-Heap: {min_heap}\")"
   ]
  },
  {
   "cell_type": "markdown",
   "metadata": {},
   "source": [
    "Operations - Insert, Delete, Extract Min/Max\n",
    "Insert: Add a new element to the heap and adjust the heap to maintain the heap property.\n",
    "Delete: Remove the root element (minimum or maximum), adjust the heap, and re-heapify.\n",
    "Extract Min/Max: Return and remove the root element (minimum or maximum) of the heap.\n"
   ]
  },
  {
   "cell_type": "code",
   "execution_count": 5,
   "metadata": {},
   "outputs": [
    {
     "name": "stdout",
     "output_type": "stream",
     "text": [
      "5\n",
      "10\n"
     ]
    }
   ],
   "source": [
    "# Insert and Extract Min/Max\n",
    "heap = MinHeap()\n",
    "heap.insert(10)\n",
    "heap.insert(5)\n",
    "heap.insert(15)\n",
    "print(heap.delete_min())  # Output: 5 (min element)\n",
    "print(heap.get_min())  # Output: 10"
   ]
  },
  {
   "cell_type": "markdown",
   "metadata": {},
   "source": [
    "Heap Sort Algorithm\n",
    "\n",
    "Heap sort is a comparison-based sorting algorithm that uses the heap data structure. It involves building a heap from the input data, repeatedly extracting the minimum (or maximum) element from the heap, and rebuilding the heap.\n"
   ]
  },
  {
   "cell_type": "code",
   "execution_count": 6,
   "metadata": {},
   "outputs": [
    {
     "name": "stdout",
     "output_type": "stream",
     "text": [
      "[1, 3, 4, 5, 10]\n"
     ]
    }
   ],
   "source": [
    "def heap_sort(iterable):\n",
    "    h = list(iterable)\n",
    "    heapq.heapify(h)\n",
    "    return [heapq.heappop(h) for _ in range(len(h))]\n",
    "\n",
    "# Example usage\n",
    "unsorted_list = [4, 10, 3, 5, 1]\n",
    "sorted_list = heap_sort(unsorted_list)\n",
    "print(sorted_list)  # Output: [1, 3, 4, 5, 10]"
   ]
  },
  {
   "cell_type": "markdown",
   "metadata": {},
   "source": [
    "Heap Sort Algorithm\n",
    "\n",
    "    Heap Sort is a comparison-based sorting algorithm that uses a binary heap data structure to sort elements. It works by building a heap from the input data, then repeatedly extracting the root of the heap (the largest or smallest element, depending on whether you're using a max-heap or min-heap) and adjusting the heap until all elements are sorted.\n",
    "\n",
    "    Steps in Heap Sort:\n",
    "\n",
    "    1.Build a Max-Heap or Min-Heap from the input data.\n",
    "\n",
    "    2.Extract the root element from the heap (in case of Max-Heap, this will be the largest element).\n",
    "\n",
    "    3.Place the extracted element at the end of the array.\n",
    "\n",
    "    4.Reduce the size of the heap and repeat the process until all elements are extracted and placed in their sorted position."
   ]
  },
  {
   "cell_type": "code",
   "execution_count": 52,
   "metadata": {},
   "outputs": [
    {
     "name": "stdout",
     "output_type": "stream",
     "text": [
      "Unsorted Array: [10, 3, 15, 7, 8, 23, 74]\n",
      "Sorted Array: [74, 23, 15, 10, 8, 7, 3]\n"
     ]
    }
   ],
   "source": [
    "\n",
    "import heapq\n",
    "\n",
    "def heap_sort(array):\n",
    "    \"\"\"\n",
    "    Sorts an array in ascending order using Heap Sort algorithm.\n",
    "    This implementation uses a Max-Heap by negating the values to simulate max-heap behavior.\n",
    "    :param array: List of elements to be sorted.\n",
    "    :return: Sorted list of elements.\n",
    "    \"\"\"\n",
    "    # Create an empty list to store the sorted elements.\n",
    "    sorted_array = []\n",
    "\n",
    "    # Create a max-heap by inserting the negative of each element from the input array.\n",
    "    # This simulates a max-heap using heapq, which by default implements a min-heap.\n",
    "    max_heap = [-element for element in array]\n",
    "\n",
    "    # Convert the list to a heap using heapq.heapify, which rearranges elements\n",
    "    # into a heap structure.\n",
    "    heapq.heapify(max_heap)\n",
    "\n",
    "    # Repeatedly extract the largest element (simulated as the most negative value)\n",
    "    # and append its positive counterpart to the sorted array.\n",
    "\n",
    "    while max_heap:\n",
    "        largest_element = -heapq.heappop(max_heap)  # Extract the maximum\n",
    "        sorted_array.append(largest_element)        #(most negative element)\n",
    "\n",
    "    return sorted_array\n",
    "\n",
    "# Example Usage:\n",
    "unsorted_array = [10, 3, 15, 7, 8, 23, 74]\n",
    "sorted_array = heap_sort(unsorted_array)\n",
    "\n",
    "print(f\"Unsorted Array: {unsorted_array}\")\n",
    "print(f\"Sorted Array: {sorted_array}\")\n",
    "\n"
   ]
  },
  {
   "cell_type": "code",
   "execution_count": null,
   "metadata": {},
   "outputs": [],
   "source": []
  },
  {
   "cell_type": "markdown",
   "metadata": {},
   "source": [
    "Explanation of Each Step:\n",
    "\n",
    "    1. Negating the Values to Simulate a Max-Heap:\n",
    "    \n",
    "    In Python, the heapq module implements a min-heap by default, where the smallest element is at the root. To create a max-heap, we insert the negative of each element from the input array into the heap. This makes the smallest negative value behave as the largest positive value, simulating a max-heap.\n",
    "\n",
    "    Example:\n",
    "    array = [10, 3, 15]\n",
    "    max_heap = [-10, -3, -15]  # Insert negated values to simulate max-heap\n",
    "\n",
    "    2. Heapifying the List:\n",
    "    •\tAfter negating the values, we use heapq.heapify() to convert the list into a valid heap structure. This operation ensures that the smallest (most negative) value is at the root.\n",
    "\n",
    "    Example:\n",
    "    \n",
    "    heapq.heapify(max_heap)\n",
    "    print(max_heap)  # Output: [-15, -3, -10]  # simulates a max-heap with root as 15\n",
    "\n",
    "\n",
    "    3. Extracting the Maximum Element:\n",
    "    •\tWe repeatedly extract the largest element (which is stored as the smallest negative value in the heap) using heapq.heappop(). After extracting the element, we negate it back to its original positive form and add it to the sorted list.\n",
    "    \n",
    "    Example:\n",
    "    largest_element = -heapq.heappop(max_heap)  # Get max element (positive form)\n",
    "    sorted_array.append(largest_element)        # Append to sorted list\n",
    "\n",
    "    4. Building the Sorted Array:\n",
    "    •\tEach time we extract the largest element from the heap, we append it to the sorted_array. By repeatedly extracting the largest element, the heap size reduces, and eventually, the entire array becomes sorted in ascending order.\n",
    "    Example:\n",
    "\n",
    "    sorted_array = [23, 18, 15, 10, 8, 7, 3]  # Output of heap sort\n",
    "\n",
    "    Example Run:\n",
    "    unsorted_array = [10, 3, 15, 7, 8, 23, 74, 18]\n",
    "    sorted_array = heap_sort(unsorted_array)\n",
    "\n",
    "    print(f\"Unsorted Array: {unsorted_array}\")  # Unsorted Array: [10, 3, 15, 7, 8, 23, 74, 18]\n",
    "    print(f\"Sorted Array: {sorted_array}\")      # Sorted Array: [3, 7, 8, 10, 15, 18, 23, 74]\n",
    "\n",
    "    Time Complexity:\n",
    "    •\tBuilding the heap: O(n) where n is the number of elements in the input array.\n",
    "    •\tHeap operations (insertion and deletion): O(log n) per operation.\n",
    "    •\tExtracting elements: We extract n elements, and each extraction takes O(log n).\n",
    "    Thus, the total time complexity is O(n log n).\n",
    "    Space Complexity:\n",
    "    •\tThe space complexity is O(n) because we use an additional list (max_heap) to store the negated values of the input array, and another list (sorted_array) to store the sorted elements.\n",
    "    Summary of Heap Sort:\n",
    "    •\tHeap Sort uses the heap data structure to sort elements in O(n log n) time.\n",
    "    •\tWe use a max-heap (simulated by negating values in a min-heap) to extract the largest element repeatedly and build a sorted array.\n",
    "    •\tHeap Sort is in-place when using a heap data structure directly, but the Python implementation here is not truly in-place due to the use of additional lists.\n",
    "    Heap Sort is especially useful when you need a sorting algorithm with good time complexity guarantees, and its heap-based structure is a good fit for priority queues, scheduling tasks, and other applications where efficiently managing the minimum or maximum value is critical."
   ]
  },
  {
   "cell_type": "markdown",
   "metadata": {},
   "source": [
    "Library Management System using the Heap Data Structure\n",
    "\n",
    "    Building a Library Management System using the Heap Data Structure can be quite useful for efficiently managing and retrieving information like the most popular books (max-heap), least borrowed books (min-heap), or books due for return based on priority (min-heap). Let's implement a system where books are ordered based on their borrow frequency (to show the most popular books) and manage due dates of books efficiently.\n",
    "\n",
    "    Problem Statement:\n",
    "\n",
    "    •\tWe want to manage a list of books in a library, where each book has a borrow frequency.\n",
    "    •\tWe want to retrieve the most borrowed books quickly (using a Max-Heap).\n",
    "    •\tWe also want to manage book return dates, so that we can efficiently track which books are due to be returned next (using a Min-Heap).\n",
    "\n",
    "    Plan:\n",
    "    1.\tMax-Heap to manage and retrieve the most popular books based on borrow frequency.\n",
    "    2.\tMin-Heap to manage books based on their return dates (the book with the earliest return date is at the top).\n",
    "    3.\tBasic operations like adding a new book, borrowing a book (updating the borrow frequency), and viewing the most popular books.\n",
    "    4.\tManage due dates for borrowed books using a Min-Heap.\n",
    "\n",
    "    \n",
    "    Code Implementation:\n",
    "    1. Book Class to represent each book.\n",
    "    2. Library Management System that handles the operations using heaps."
   ]
  },
  {
   "cell_type": "code",
   "execution_count": 34,
   "metadata": {},
   "outputs": [
    {
     "name": "stdout",
     "output_type": "stream",
     "text": [
      "Book 'The Great Gatsby' added to the library.\n",
      "Book '1984' added to the library.\n",
      "Book 'To Kill a Mockingbird' added to the library.\n",
      "Book 'The Great Gatsby' borrowed. Return by 2024-09-17.\n",
      "Book '1984' borrowed. Return by 2024-09-15.\n",
      "Book 'To Kill a Mockingbird' borrowed. Return by 2024-09-20.\n",
      "Top 2 most popular books:\n",
      "Book ID: 1, Title: The Great Gatsby, Borrow Frequency: 1, Return Date: 2024-09-17 14:38:58.840483\n",
      "Book ID: 2, Title: 1984, Borrow Frequency: 1, Return Date: 2024-09-15 14:38:58.840698\n",
      "The next book due for return is '1984' on 2024-09-15.\n",
      "Book '1984' has been returned.\n"
     ]
    }
   ],
   "source": [
    "import heapq\n",
    "from datetime import datetime, timedelta\n",
    "\n",
    "class Book:\n",
    "    def __init__(self, book_id, title):\n",
    "        \"\"\"\n",
    "        Initializes a book with its ID, title, borrow frequency, and return date.\n",
    "        :param book_id: Unique identifier for the book.\n",
    "        :param title: Title of the book.\n",
    "        \"\"\"\n",
    "        self.book_id = book_id\n",
    "        self.title = title\n",
    "        self.borrow_frequency = 0  # Tracks how many times the book has been borrowed\n",
    "        self.return_date = None  # Tracks the return date when the book is borrowed\n",
    "\n",
    "    def __str__(self):\n",
    "        \"\"\"\n",
    "        Returns a string representation of the book details.\n",
    "        :return: String containing book information.\n",
    "        \"\"\"\n",
    "        return f\"Book ID: {self.book_id}, Title: {self.title}, Borrow Frequency: {self.borrow_frequency}, Return Date: {self.return_date}\"\n",
    "\n",
    "\n",
    "class LibraryManagementSystem:\n",
    "    def __init__(self):\n",
    "        \"\"\"\n",
    "        Initializes the Library Management System with two heaps:\n",
    "        1. A Max-Heap (simulated using negative values) to track the most popular books.\n",
    "        2. A Min-Heap to track books based on their return dates.\n",
    "        \"\"\"\n",
    "        self.books = {}  # Stores book_id -> Book object for easy lookup\n",
    "        self.popularity_heap = []  # Max-Heap to track the most borrowed books\n",
    "        self.due_dates_heap = []  # Min-Heap to track books based on return dates\n",
    "\n",
    "    def add_book(self, book_id, title):\n",
    "        \"\"\"\n",
    "        Adds a new book to the library.\n",
    "        :param book_id: Unique identifier for the book.\n",
    "        :param title: Title of the book.\n",
    "        \"\"\"\n",
    "        if book_id not in self.books:\n",
    "            book = Book(book_id, title)\n",
    "            self.books[book_id] = book\n",
    "            # Add the book to the popularity heap (negated frequency for max-heap)\n",
    "            heapq.heappush(self.popularity_heap, (-book.borrow_frequency, book_id))\n",
    "            print(f\"Book '{title}' added to the library.\")\n",
    "        else:\n",
    "            print(f\"Book with ID {book_id} already exists.\")\n",
    "\n",
    "    def borrow_book(self, book_id, borrow_days):\n",
    "        \"\"\"\n",
    "        Borrows a book from the library, updates its borrow frequency, and sets a return date.\n",
    "        :param book_id: The unique identifier for the book being borrowed.\n",
    "        :param borrow_days: Number of days after which the book should be returned.\n",
    "        \"\"\"\n",
    "        if book_id in self.books:\n",
    "            book = self.books[book_id]\n",
    "            # Increase the borrow frequency and update the max-heap\n",
    "            book.borrow_frequency += 1\n",
    "            heapq.heappush(self.popularity_heap, (-book.borrow_frequency, book_id))\n",
    "\n",
    "            # Set the return date and add the book to the min-heap based on return date\n",
    "            book.return_date = datetime.now() + timedelta(days=borrow_days)\n",
    "            heapq.heappush(self.due_dates_heap, (book.return_date, book_id))\n",
    "\n",
    "            print(f\"Book '{book.title}' borrowed. Return by {book.return_date.strftime('%Y-%m-%d')}.\")\n",
    "        else:\n",
    "            print(f\"Book with ID {book_id} does not exist.\")\n",
    "\n",
    "    def return_book(self, book_id):\n",
    "        \"\"\"\n",
    "        Marks a book as returned and removes its entry from the due dates heap.\n",
    "        :param book_id: The unique identifier for the book being returned.\n",
    "        \"\"\"\n",
    "        if book_id in self.books:\n",
    "            book = self.books[book_id]\n",
    "            book.return_date = None\n",
    "            print(f\"Book '{book.title}' has been returned.\")\n",
    "        else:\n",
    "            print(f\"Book with ID {book_id} does not exist.\")\n",
    "\n",
    "    def get_most_popular_books(self, top_n):\n",
    "        \"\"\"\n",
    "        Retrieves the top N most borrowed books based on their borrow frequency.\n",
    "        :param top_n: The number of most popular books to retrieve.\n",
    "        :return: List of top N books.\n",
    "        \"\"\"\n",
    "        # Create a temporary heap to retrieve top N books without disrupting the original heap\n",
    "        temp_heap = self.popularity_heap.copy()\n",
    "        top_books = []\n",
    "\n",
    "        for _ in range(min(top_n, len(temp_heap))):\n",
    "            borrow_frequency, book_id = heapq.heappop(temp_heap)\n",
    "            top_books.append(self.books[book_id])\n",
    "\n",
    "        print(f\"Top {top_n} most popular books:\")\n",
    "        for book in top_books:\n",
    "            print(book)\n",
    "\n",
    "    def get_next_due_book(self):\n",
    "        \"\"\"\n",
    "        Retrieves the book that is due for return the soonest.\n",
    "        :return: The book with the earliest return date.\n",
    "        \"\"\"\n",
    "        if self.due_dates_heap:\n",
    "            return_date, book_id = self.due_dates_heap[0]\n",
    "            print(f\"The next book due for return is '{self.books[book_id].title}'\n",
    "                  on {return_date.strftime('%Y-%m-%d')}.\")\n",
    "        else:\n",
    "            print(\"No books are currently borrowed.\")\n",
    "\n",
    "# Example usage of the Library Management System\n",
    "library_system = LibraryManagementSystem()\n",
    "\n",
    "# Add some books to the library\n",
    "library_system.add_book(1, \"The Great Gatsby\")\n",
    "library_system.add_book(2, \"1984\")\n",
    "library_system.add_book(3, \"To Kill a Mockingbird\")\n",
    "\n",
    "# Borrow some books\n",
    "library_system.borrow_book(1, 7)  # Borrow \"The Great Gatsby\" for 7 days\n",
    "library_system.borrow_book(2, 5)  # Borrow \"1984\" for 5 days\n",
    "library_system.borrow_book(3, 10) # Borrow \"To Kill a Mockingbird\" for 10 days\n",
    "\n",
    "# Check the most popular books\n",
    "library_system.get_most_popular_books(2)\n",
    "\n",
    "# Check which book is due for return next\n",
    "library_system.get_next_due_book()\n",
    "\n",
    "# Return a book\n",
    "library_system.return_book(2)"
   ]
  }
 ],
 "metadata": {
  "kernelspec": {
   "display_name": "Python 3",
   "language": "python",
   "name": "python3"
  },
  "language_info": {
   "codemirror_mode": {
    "name": "ipython",
    "version": 3
   },
   "file_extension": ".py",
   "mimetype": "text/x-python",
   "name": "python",
   "nbconvert_exporter": "python",
   "pygments_lexer": "ipython3",
   "version": "3.11.5"
  }
 },
 "nbformat": 4,
 "nbformat_minor": 2
}
