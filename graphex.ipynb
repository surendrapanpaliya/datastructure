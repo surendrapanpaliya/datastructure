{
 "cells": [
  {
   "cell_type": "markdown",
   "metadata": {},
   "source": [
    "Graphs Agenda\n",
    "\n",
    "    What is Graph? Types of Graphs\n",
    "    Graph Terminologies and Applications\n",
    "    Graph Representation (adjacency matrix/list)\n",
    "    Implement Graph Algorithms\n",
    "    Traversal – BFS Algorithms\n",
    "    Traversal – DFS Algorithms\n",
    "    Graphs - Connected Components"
   ]
  },
  {
   "cell_type": "markdown",
   "metadata": {},
   "source": [
    "Graphs are versatile data structures used to represent and analyze relationships between objects. \n",
    "\n",
    "They are used in a wide range of applications, including social networks, recommendation systems, and network routing."
   ]
  },
  {
   "cell_type": "markdown",
   "metadata": {},
   "source": [
    "A graph consists of vertices (or nodes) and edges (connections between vertices).\n",
    "\n",
    "It can represent various types of relationships or connections."
   ]
  },
  {
   "cell_type": "markdown",
   "metadata": {},
   "source": [
    "Types of Graphs:\n",
    "\n",
    "    Undirected Graph: Edges have no direction. The connection between vertices u and v is bidirectional.\n",
    "\n",
    "    Directed Graph (Digraph): Edges have direction. The connection from u to v is one-way.\n",
    "\n",
    "    Weighted Graph: Edges have weights representing the cost or distance between vertices.\n",
    "\n",
    "    Unweighted Graph: Edges do not have weights; all edges are equal.\n",
    "\n",
    "    Cyclic Graph: Contains at least one cycle (a path that starts and ends at the same vertex).\n",
    "\n",
    "    Acyclic Graph: Contains no cycles.\n",
    "\n",
    "    Connected Graph: There is a path between every pair of vertices.\n",
    "\n",
    "    Disconnected Graph: Some vertices are not reachable from others.\n",
    "\n",
    "    Complete Graph: Every pair of distinct vertices is connected by a unique edge."
   ]
  },
  {
   "cell_type": "markdown",
   "metadata": {},
   "source": [
    "Graph Terminologies\n",
    "\n",
    "1.\tVertex (Node): The fundamental unit of a graph, representing an entity or point.\n",
    "\n",
    "2.\tEdge (Arc): The connection between two vertices. In directed graphs, an edge has a direction from one vertex to another.\n",
    "\n",
    "3.\tDegree: The number of edges connected to a vertex. In a directed graph, there are in-degrees (number of incoming edges) and out-degrees (number of outgoing edges).\n",
    "\n",
    "4.\tPath: A sequence of edges connecting a sequence of vertices. A path that starts and ends at the same vertex is called a cycle.\n",
    "\n",
    "5.\tCycle: A path that starts and ends at the same vertex, with no repeated edges or vertices (except the starting and ending vertex).\n",
    "\n",
    "6.\tSubgraph: A graph formed from a subset of the vertices and edges of a larger graph.\n",
    "\n",
    "7.\tConnected Component: A maximal subset of vertices such that there is a path between every pair of vertices within the subset.\n",
    "\n",
    "8.\tTree: A special type of graph that is connected and acyclic. Every tree is a graph, but not all graphs are trees.\n",
    "\n",
    "9.\tForest: A collection of disjoint trees.\n",
    "\n",
    "10.\tGraph Traversal: Techniques to visit all vertices and edges of a graph, usually in a systematic way. Common methods include BFS and DFS.\n",
    "\n",
    "11.\tShortest Path: The path between two vertices with the minimum sum of edge weights. Algorithms like Dijkstra’s or Bellman-Ford are used to find the shortest path.\n",
    "\n",
    "12.\tMinimum Spanning Tree (MST): A subset of edges in a weighted graph that connects all vertices with the minimum possible total edge weight. Kruskal’s and Prim’s algorithms are used to find MSTs.\n",
    "\n",
    "13.\tTopological Sort: An ordering of vertices in a Directed Acyclic Graph (DAG) where for every directed edge from vertex u to vertex v, u comes before v in the ordering.\n",
    "\n",
    "14.\tAdjacency Matrix: A 2D array used to represent a graph, where the cell at row i and column j indicates the presence (or absence) of an edge between vertex i and vertex j.\n",
    "\n",
    "15.\tAdjacency List: A list where each vertex has a list of adjacent vertices, representing the edges connected to that vertex.\n",
    "\n",
    "16.\tGraph Density: The ratio of the number of edges in the graph to the number of possible edges. It measures how \"dense\" a graph is."
   ]
  },
  {
   "cell_type": "markdown",
   "metadata": {},
   "source": [
    "Applications of Graphs\n",
    "1.\tSocial Networks: Represent relationships between users. Nodes represent people, and edges represent friendships or connections.\n",
    "\n",
    "2.\tWeb Page Link Analysis: Websites and their hyperlinks are represented as graphs. Algorithms like PageRank use graph theory to rank web pages.\n",
    "\n",
    "3.\tRouting and Navigation: Used in GPS and mapping services to find the shortest path between locations. Nodes represent locations, and edges represent possible paths.\n",
    "\n",
    "4.\tNetwork Design: In telecommunications and computer networks, graphs model the layout of network components and connections.\n",
    "\n",
    "5.\tRecommendation Systems: Graphs are used to represent user preferences and item relationships. Collaborative filtering methods use graphs to recommend items to users.\n",
    "\n",
    "6.\tTask Scheduling: Directed Acyclic Graphs (DAGs) represent tasks and their dependencies. Used in project management and scheduling algorithms.\n",
    "\n",
    "7.\tBiological Networks: Represent interactions between genes, proteins, or other biological entities. Graphs are used to study the structure and function of biological systems.\n",
    "\n",
    "8.\tGame Theory: Graphs model possible states and moves in games. They help in analyzing strategies and game outcomes.\n",
    "\n",
    "9.\tComputer Vision: Used to represent images as graphs where pixels or regions are nodes, and edges represent relationships between them. Useful in image segmentation and object detection.\n",
    "\n",
    "10.\tFraud Detection: In financial transactions or social media, graphs help detect unusual patterns or relationships that may indicate fraudulent activities.\n",
    "\n",
    "11.\tCircuit Design: Graphs model electrical circuits where components like resistors and transistors are vertices, and connections are edges.\n"
   ]
  },
  {
   "cell_type": "markdown",
   "metadata": {},
   "source": [
    "Graph Representation\n",
    "\n",
    "Graphs can be represented using different data structures:\n",
    "\n",
    "    Adjacency Matrix: A 2D array where the element at (i,j) is true (or the weight of the edge) if there is an edge between vertices i and j.\n",
    "    \n",
    "\n",
    "    Adjacency List: An array of lists where each list contains the neighbors of a vertex."
   ]
  },
  {
   "cell_type": "markdown",
   "metadata": {},
   "source": [
    "Adjacency Matrix Example"
   ]
  },
  {
   "cell_type": "markdown",
   "metadata": {},
   "source": [
    "Adjacency Matrix Representation\n",
    "\n",
    "In an adjacency matrix, we use a 2D array (list of lists) to represent the graph. \n",
    "\n",
    "If there is an edge between two vertices, \n",
    "the matrix entry is 1 \n",
    "(or the weight of the edge, for a weighted graph); \n",
    "otherwise, it's 0."
   ]
  },
  {
   "cell_type": "markdown",
   "metadata": {},
   "source": [
    "Example: Undirected Graph\n",
    "Let's consider the following undirected graph:\n",
    "A -- B\n",
    "|    |\n",
    "C -- D\n",
    "Python Code for Adjacency Matrix:"
   ]
  },
  {
   "cell_type": "code",
   "execution_count": 11,
   "metadata": {},
   "outputs": [
    {
     "name": "stdout",
     "output_type": "stream",
     "text": [
      "[[0, 0, 0, 0], [0, 0, 0, 0], [0, 0, 0, 0], [0, 0, 0, 0]]\n",
      "edges of Adjacency Matrix: {('A', 'B'): 1, ('A', 'C'): 1, ('B', 'D'): 1, ('C', 'D'): 1}\n",
      "Adjacency Matrix:\n",
      "[0, 1, 1, 0]\n",
      "[1, 0, 0, 1]\n",
      "[1, 0, 0, 1]\n",
      "[0, 1, 1, 0]\n"
     ]
    }
   ],
   "source": [
    "# Define the vertices of the graph\n",
    "vertices = ['A', 'B', 'C', 'D']\n",
    "\n",
    "# Create an adjacency matrix (4x4) initialized with zeros\n",
    "adjacency_matrix = [[0 for _ in range(len(vertices))] for _ in range(len(vertices))]\n",
    "\n",
    "print(adjacency_matrix)\n",
    "\n",
    "# Define the edges of the graph (undirected)\n",
    "edges = {\n",
    "    ('A', 'B'): 1,\n",
    "    ('A', 'C'): 1,\n",
    "    ('B', 'D'): 1,\n",
    "    ('C', 'D'): 1\n",
    "}\n",
    "\n",
    "print(\"edges of Adjacency Matrix:\",edges)\n",
    "\n",
    "# Fill the adjacency matrix based on the edges\n",
    "for (start, end), weight in edges.items():\n",
    "    i = vertices.index(start)\n",
    "    j = vertices.index(end)\n",
    "    adjacency_matrix[i][j] = weight\n",
    "    adjacency_matrix[j][i] = weight  # Since it's an undirected graph\n",
    "\n",
    "# Print the adjacency matrix\n",
    "print(\"Adjacency Matrix:\")\n",
    "for row in adjacency_matrix:\n",
    "    print(row)"
   ]
  },
  {
   "cell_type": "markdown",
   "metadata": {},
   "source": [
    "Adjacency Matrix\n",
    "\n",
    "    An adjacency matrix is a 2D array where the cell at position [i] [j] indicates the presence (and weight, if applicable) of an edge between \n",
    "    vertex i and vertex j\n",
    "\n",
    "    For an Undirected Graph: The matrix is symmetric. \n",
    "    If there's an edge between i and j, then both [i] [j]  and [j] [i] will have the same value (usually 1 or the weight of the edge).\n",
    "\n",
    "    For a Directed Graph: The matrix is not necessarily symmetric. [i] [j] represents an edge from vertex i to vertex j."
   ]
  },
  {
   "cell_type": "code",
   "execution_count": 1,
   "metadata": {},
   "outputs": [
    {
     "name": "stdout",
     "output_type": "stream",
     "text": [
      "[[0, 1, 1, 0], [1, 0, 1, 1], [1, 1, 0, 1], [0, 1, 1, 0]]\n"
     ]
    }
   ],
   "source": [
    "# Example for an undirected graph with 4 vertices\n",
    "graph = [\n",
    "    [0, 1, 1, 0],  # Vertex 0\n",
    "    [1, 0, 1, 1],  # Vertex 1\n",
    "    [1, 1, 0, 1],  # Vertex 2\n",
    "    [0, 1, 1, 0]   # Vertex 3\n",
    "]\n",
    "print(graph)"
   ]
  },
  {
   "cell_type": "code",
   "execution_count": 12,
   "metadata": {},
   "outputs": [
    {
     "name": "stdout",
     "output_type": "stream",
     "text": [
      "[[0 5 0 4]\n",
      " [5 0 3 0]\n",
      " [0 3 0 2]\n",
      " [4 0 2 0]]\n",
      "[[0 1 0 1]\n",
      " [1 0 1 0]\n",
      " [0 1 0 1]\n",
      " [1 0 1 0]]\n"
     ]
    }
   ],
   "source": [
    "import numpy as np\n",
    "\n",
    "class GraphAdjMatrix:\n",
    "    def __init__(self, vertices):\n",
    "        '''Initializes the graph with the number of vertices'''\n",
    "        self.vertices = vertices # Total number of vertices\n",
    "        self.adj_matrix = np.zeros((vertices, vertices), dtype=int)\n",
    "\n",
    "    def add_edge(self, u, v, weight=1):\n",
    "        ''' Add an edge between vertices u and v '''\n",
    "        self.adj_matrix[u][v] = weight # For directed graphs\n",
    "        # For undirected graphs, also set the opposite edge\n",
    "        self.adj_matrix[v][u] = weight # For undirected graphs\n",
    "\n",
    "    def display(self):\n",
    "        ''' Print the adjacency matrix '''\n",
    "        print(self.adj_matrix)\n",
    "\n",
    "# Usage\n",
    "g = GraphAdjMatrix(4)\n",
    "g.add_edge(0, 1, 5)\n",
    "g.add_edge(1, 2, 3)\n",
    "g.add_edge(2, 3, 2)\n",
    "g.add_edge(3, 0, 4)\n",
    "\n",
    "g.display()\n",
    "\n",
    "g1 = GraphAdjMatrix(4)\n",
    "g1.add_edge(0, 1)\n",
    "g1.add_edge(1, 2)\n",
    "g1.add_edge(2, 3)\n",
    "g1.add_edge(3, 0)\n",
    "g1.display()"
   ]
  },
  {
   "cell_type": "markdown",
   "metadata": {},
   "source": [
    "Adjacency List\n",
    "\n",
    "    An adjacency list represents a graph as a list where \n",
    "    each index corresponds to a vertex, and \n",
    "    each entry in the list is a list of adjacent vertices. \n",
    "    This representation is more space-efficient for sparse graphs."
   ]
  },
  {
   "cell_type": "markdown",
   "metadata": {},
   "source": [
    "Adjacency List Example:"
   ]
  },
  {
   "cell_type": "code",
   "execution_count": 19,
   "metadata": {},
   "outputs": [
    {
     "name": "stdout",
     "output_type": "stream",
     "text": [
      "{0: [1, 2], 1: [0, 2, 3], 2: [0, 1, 3], 3: [1, 2]}\n",
      "[[1, 2], [0, 2, 3], [0, 1, 3], [1, 2]]\n",
      "[1, 2]\n",
      "[0, 2, 3]\n",
      "[0, 1, 3]\n",
      "[1, 2]\n"
     ]
    }
   ],
   "source": [
    "# Example for an undirected graph with 4 vertices\n",
    "graph = {\n",
    "    0: [1, 2],\n",
    "    1: [0, 2, 3],\n",
    "    2: [0, 1, 3],\n",
    "    3: [1, 2]\n",
    "}\n",
    "print(graph)\n",
    "\n",
    "graph_list = [\n",
    "    [1, 2],      # Node 0 is connected to nodes 1 and 2\n",
    "    [0, 2, 3],   # Node 1 is connected to nodes 0, 2, and 3\n",
    "    [0, 1, 3],   # Node 2 is connected to nodes 0, 1, and 3\n",
    "    [1, 2]       # Node 3 is connected to nodes 1 and 2\n",
    "]\n",
    "\n",
    "print(graph_list)\n",
    "print(graph_list[0])\n",
    "print(graph_list[1])\n",
    "print(graph_list[2])\n",
    "print(graph_list[3])"
   ]
  },
  {
   "cell_type": "markdown",
   "metadata": {},
   "source": [
    "The graph can be visualized like this:\n",
    "    0\n",
    "   / \\\n",
    "  1---2\n",
    "   \\ /\n",
    "    3\n",
    "\n",
    "•\tNode 0 is connected to nodes 1 and 2.\n",
    "•\tNode 1 is connected to nodes 0, 2, and 3.\n",
    "•\tNode 2 is connected to nodes 0, 1, and 3.\n",
    "•\tNode 3 is connected to nodes 1 and 2.\n",
    "\n",
    "\n",
    "Breakdown of the Graph:\n",
    "\n",
    "•\tKey 0: The list [1, 2] indicates that node 0 is connected to nodes 1 and 2.\n",
    "•\tKey 1: The list [0, 2, 3] indicates that node 1 is connected to nodes 0, 2, and 3.\n",
    "•\tKey 2: The list [0, 1, 3] indicates that node 2 is connected to nodes 0, 1, and 3.\n",
    "•\tKey 3:The list [1, 2] indicates that node 3 is connected to nodes 1 and 2.\n",
    "\n",
    "\n",
    "•\t0 is connected to 1 and 2.\n",
    "•\t1 is connected to 0, 2, and 3.\n",
    "•\t2 is connected to 0, 1, and 3.\n",
    "•\t3 is connected to 1 and 2.\n",
    "This is an undirected graph since the connections go both ways (i.e., 0 is connected to 1, and 1 is connected to 0, and so on).\n",
    "\n",
    "\n",
    "This list-based representation corresponds directly to the adjacency list. \n",
    "\n",
    "For example:\n",
    "•\tgraph_list[0] is [1, 2], meaning node 0 is connected to nodes 1 and 2.\n",
    "•\tgraph_list[1] is [0, 2, 3], meaning node 1 is connected to nodes 0, 2, and 3."
   ]
  },
  {
   "cell_type": "code",
   "execution_count": 20,
   "metadata": {},
   "outputs": [
    {
     "name": "stdout",
     "output_type": "stream",
     "text": [
      "1: [2, 3]\n",
      "2: [1, 4]\n",
      "3: [1, 4]\n",
      "4: [2, 3]\n"
     ]
    }
   ],
   "source": [
    "class GraphAdjList:\n",
    "    ''' Graph represented as an adjacency list '''\n",
    "    def __init__(self):\n",
    "        self.graph = {}   # The graph is initially empty\n",
    "\n",
    "    def add_vertex(self, vertex):\n",
    "        '''Add a new vertex to the graph'''\n",
    "        if vertex not in self.graph:\n",
    "            self.graph[vertex] = []  # No edges incident on this vertex\n",
    "\n",
    "    def add_edge(self, u, v):\n",
    "        '''Add an edge between vertices u and v'''\n",
    "        if u not in self.graph:\n",
    "            self.add_vertex(u) # Add u to the graph\n",
    "\n",
    "        if v not in self.graph:\n",
    "            self.add_vertex(v) # Add v to the graph\n",
    "\n",
    "        self.graph[u].append(v) # Add v to u's list of neighbors\n",
    "\n",
    "        # For undirected graphs, also add the reverse edge\n",
    "        self.graph[v].append(u) # Add u to v's list of neighbors\n",
    "\n",
    "    def display(self):\n",
    "        ''' Print the graph '''\n",
    "        for vertex in self.graph:\n",
    "            print(f\"{vertex}: {self.graph[vertex]}\")\n",
    "\n",
    "# Usage\n",
    "g = GraphAdjList()\n",
    "g.add_edge(1, 2)\n",
    "g.add_edge(1, 3)\n",
    "g.add_edge(2, 4)\n",
    "g.add_edge(3, 4)\n",
    "\n",
    "g.display()"
   ]
  },
  {
   "cell_type": "markdown",
   "metadata": {},
   "source": [
    "Implement Graph\n",
    "A basic implementation of a graph using an adjacency list in Python:"
   ]
  },
  {
   "cell_type": "code",
   "execution_count": 21,
   "metadata": {},
   "outputs": [
    {
     "name": "stdout",
     "output_type": "stream",
     "text": [
      "{0: [1, 2], 1: [0, 2, 3], 2: [0, 1], 3: [1]}\n"
     ]
    }
   ],
   "source": [
    "class Graph:\n",
    "    def __init__(self):\n",
    "        self.graph = {} # dictionary to store the graph\n",
    "\n",
    "    def add_vertex(self, vertex):\n",
    "        if vertex not in self.graph:\n",
    "            self.graph[vertex] = [] # Add a new vertex\n",
    "\n",
    "    def add_edge(self, vertex1, vertex2):\n",
    "        if vertex1 in self.graph and vertex2 in self.graph:\n",
    "            self.graph[vertex1].append(vertex2)\n",
    "            self.graph[vertex2].append(vertex1)  # For undirected graph\n",
    "\n",
    "    def __str__(self):\n",
    "        return str(self.graph) # Print the graph\n",
    "\n",
    "g = Graph()\n",
    "g.add_vertex(0)\n",
    "g.add_vertex(1)\n",
    "g.add_vertex(2)\n",
    "g.add_vertex(3)\n",
    "g.add_edge(0, 1)\n",
    "g.add_edge(0, 2)\n",
    "g.add_edge(1, 2)\n",
    "g.add_edge(1, 3)\n",
    "print(g)"
   ]
  },
  {
   "cell_type": "markdown",
   "metadata": {},
   "source": [
    "Traversal - BFS (Breadth-First Search)\n",
    "\n",
    "    Breadth-First Search explores nodes level by level, \n",
    "    starting from the root (or any arbitrary node) and \n",
    "    visiting all neighbors before moving to the next level."
   ]
  },
  {
   "cell_type": "code",
   "execution_count": 22,
   "metadata": {},
   "outputs": [
    {
     "name": "stdout",
     "output_type": "stream",
     "text": [
      "0 1 2 3 "
     ]
    }
   ],
   "source": [
    "from collections import deque\n",
    "\n",
    "def bfs(graph, start):\n",
    "    ''' Breadth-first search '''\n",
    "    visited = set() # Set to keep track of visited nodes\n",
    "    queue = deque([start]) # Initialize the queue\n",
    "    visited.add(start) # Mark the start node as visited\n",
    "\n",
    "    while queue:\n",
    "        vertex = queue.popleft() # Get the next vertex\n",
    "        print(vertex, end=' ')  # Print the vertex\n",
    "\n",
    "        for neighbor in graph.get(vertex, []):  # Visit all neighbors\n",
    "            if neighbor not in visited:\n",
    "                visited.add(neighbor) # Mark the neighbor as visited\n",
    "                queue.append(neighbor) # Add the neighbor to the queue\n",
    "\n",
    "graph = { 0: [1, 2], 1: [0, 2, 3], 2: [0, 1, 3], 3: [1, 2] }\n",
    "\n",
    "bfs(graph, 0)  # 0 1 2 3"
   ]
  },
  {
   "cell_type": "markdown",
   "metadata": {},
   "source": [
    "Breadth-First Search (BFS)\n",
    "\n",
    "    Breadth-First Search (BFS) is a graph traversal algorithm that explores all the neighbors of a node before moving to the next level of neighbors.\n",
    "\n",
    "BFS Algorithm:\n",
    "\n",
    "    1.Start from a source node.\n",
    "    2.Visit all its neighbors before moving on to the neighbors of those neighbors.\n",
    "    3.Use a queue to keep track of the nodes to be visited."
   ]
  },
  {
   "cell_type": "code",
   "execution_count": 36,
   "metadata": {},
   "outputs": [
    {
     "name": "stdout",
     "output_type": "stream",
     "text": [
      "Visited: A\n",
      "Visited: B\n",
      "Visited: C\n",
      "Visited: D\n",
      "Visited: E\n",
      "Visited: F\n",
      "Visited: G\n"
     ]
    }
   ],
   "source": [
    "from collections import deque\n",
    "\n",
    "def bfs(graph, start_node):\n",
    "    # Initialize a queue for BFS and add the starting node\n",
    "    queue = deque([start_node]) # A queue to keep track of nodes to visit\n",
    "\n",
    "    # A set to keep track of visited nodes to avoid cycles\n",
    "    visited_nodes = set([start_node]) # A set to keep track of visited nodes\n",
    "\n",
    "    while queue:\n",
    "        # Dequeue a node from the queue\n",
    "        current_node = queue.popleft() # Get the front element from the queue\n",
    "        print(f\"Visited: {current_node}\")\n",
    "\n",
    "        # Loop through all adjacent nodes of the current node\n",
    "        for neighbor in graph[current_node]:\n",
    "            if neighbor not in visited_nodes:\n",
    "                queue.append(neighbor)  # Add unvisited neighbors to the queue\n",
    "                visited_nodes.add(neighbor)  # Mark neighbor as visited\n",
    "\n",
    "\n",
    "# Graph represented as an adjacency list\n",
    "graph = {\n",
    "    'A': ['B', 'C'],\n",
    "    'B': ['D', 'E'],\n",
    "    'C': ['F'],\n",
    "    'D': ['A'],\n",
    "    'E': ['F'],\n",
    "    'F': ['G'],\n",
    "    'G': ['C']\n",
    "}\n",
    "\n",
    "# Perform BFS starting from node 'A'\n",
    "bfs(graph, 'A')"
   ]
  },
  {
   "cell_type": "markdown",
   "metadata": {},
   "source": [
    "Traversal - DFS (Depth-First Search)\n",
    "\n",
    "Depth-First Search explores as far as possible along each branch before backtracking"
   ]
  },
  {
   "cell_type": "code",
   "execution_count": 9,
   "metadata": {},
   "outputs": [
    {
     "name": "stdout",
     "output_type": "stream",
     "text": [
      "0 1 2 3 3 1 0 2 0 1 2 3 "
     ]
    }
   ],
   "source": [
    "def dfs(graph, start, visited=None):\n",
    "    if visited is None:\n",
    "        visited = set()\n",
    "    visited.add(start)\n",
    "    print(start, end=' ')\n",
    "\n",
    "    for neighbor in graph.get(start, []):\n",
    "        if neighbor not in visited:\n",
    "            dfs(graph, neighbor, visited)\n",
    "\n",
    "graph = { 0: [1, 2], 1: [0, 2, 3], 2: [0, 1, 3], 3: [1, 2] }\n",
    "\n",
    "dfs(graph, 0)  # 0 1 2 3\n",
    "\n",
    "dfs(graph, 3)  # 3 1 0 2"
   ]
  },
  {
   "cell_type": "markdown",
   "metadata": {},
   "source": [
    "Depth-First Search (DFS)\n",
    "\n",
    "    Graph traversal algorithm that explores as far as possible along each branch before backtracking.\n",
    "\n",
    "DFS Algorithm:\n",
    "\n",
    "    1.Start from the source node.\n",
    "    2.Recursively explore each branch as deep as possible before backtracking.\n",
    "    3.Use a stack (implicit in recursion) to keep track of nodes.\n"
   ]
  },
  {
   "cell_type": "code",
   "execution_count": 31,
   "metadata": {},
   "outputs": [
    {
     "name": "stdout",
     "output_type": "stream",
     "text": [
      "Visited: A\n",
      "Visited: B\n",
      "Visited: D\n",
      "Visited: J\n",
      "Visited: E\n",
      "Visited: F\n",
      "Visited: C\n"
     ]
    }
   ],
   "source": [
    "def dfs(graph, start_node, visited_nodes=None):\n",
    "    if visited_nodes is None:\n",
    "        visited_nodes = set()\n",
    "\n",
    "    # Mark the current node as visited\n",
    "    visited_nodes.add(start_node)\n",
    "    print(f\"Visited: {start_node}\")\n",
    "\n",
    "    # Recur for all adjacent nodes\n",
    "    for neighbor in graph[start_node]:\n",
    "        if neighbor not in visited_nodes:\n",
    "            dfs(graph, neighbor, visited_nodes)\n",
    "\n",
    "\n",
    "# Graph represented as an adjacency list\n",
    "graph = {\n",
    "    'A': ['B', 'C'],\n",
    "    'B': ['D', 'E'],\n",
    "    'C': ['F'],\n",
    "    'D': ['J'],\n",
    "    'E': ['F'],\n",
    "    'F': [],\n",
    "    'J': []\n",
    "}\n",
    "\n",
    "# Perform DFS starting from node 'A'\n",
    "dfs(graph, 'A')"
   ]
  },
  {
   "cell_type": "code",
   "execution_count": 10,
   "metadata": {},
   "outputs": [
    {
     "name": "stdout",
     "output_type": "stream",
     "text": [
      "0 1 2 3 "
     ]
    }
   ],
   "source": [
    "def dfs_iterative(graph, start):\n",
    "    visited = set()\n",
    "    stack = [start]\n",
    "    while stack:\n",
    "        vertex = stack.pop()\n",
    "        if vertex not in visited:\n",
    "            visited.add(vertex)\n",
    "            print(vertex, end=' ')\n",
    "            stack.extend(reversed(graph.get(vertex, [])))\n",
    "\n",
    "graph = { 0: [1, 2], 1: [0, 2, 3], 2: [0, 1, 3], 3: [1, 2] }\n",
    "\n",
    "dfs_iterative(graph, 0)  # 0 2 3 1"
   ]
  },
  {
   "cell_type": "markdown",
   "metadata": {},
   "source": [
    "Graphs - Connected Components\n",
    "\n",
    "    To find connected components in a graph, \n",
    "    perform a DFS/BFS for each unvisited vertex. \n",
    "    Each DFS/BFS run identifies one connected component."
   ]
  },
  {
   "cell_type": "code",
   "execution_count": 39,
   "metadata": {},
   "outputs": [
    {
     "name": "stdout",
     "output_type": "stream",
     "text": [
      "[[0, 2, 3, 1], [4, 5]]\n"
     ]
    }
   ],
   "source": [
    "# Find the connected components of an undirected graph\n",
    "def connected_components(graph):\n",
    "    ''' Find the connected components of an undirected graph '''\n",
    "    visited = set()\n",
    "    components = []\n",
    "\n",
    "    for vertex in graph: # Loop through all vertices\n",
    "        if vertex not in visited: # Start a new component\n",
    "            component = []\n",
    "            stack = [vertex] # Initialize the stack\n",
    "\n",
    "            while stack:\n",
    "                v = stack.pop() # Get the next vertex from the stack\n",
    "                if v not in visited: # Visit the vertex\n",
    "                    visited.add(v) # Mark as visited\n",
    "                    component.append(v) # Add to the current component\n",
    "                    stack.extend(neighbor for neighbor in graph.get(v, []) if neighbor not in visited)\n",
    "                    # Add all neighbors to the stack\n",
    "            components.append(component) # Add the component to the list\n",
    "\n",
    "    return components # Return the list of components\n",
    "\n",
    "graph = { 0: [1, 2], 1: [0, 2, 3], 2: [0, 1, 3], 3: [1, 2], 4: [5], 5: [4] }\n",
    "\n",
    "print(connected_components(graph))  # [[0, 1, 2, 3], [4, 5]]"
   ]
  },
  {
   "cell_type": "code",
   "execution_count": 38,
   "metadata": {},
   "outputs": [
    {
     "name": "stdout",
     "output_type": "stream",
     "text": [
      "[0, 1, 3]\n",
      "None\n"
     ]
    }
   ],
   "source": [
    "# Find the shortest path between two vertices in an undirected graph\n",
    "def shortest_path(graph, start, end):\n",
    "    ''' Find a shortest path in an undirected graph between two vertices using BFS '''\n",
    "    if start == end:\n",
    "        return [start]\n",
    "\n",
    "    queue = deque([(start, [start])])\n",
    "\n",
    "    while queue:\n",
    "        vertex, path = queue.popleft()\n",
    "\n",
    "        for neighbor in graph.get(vertex, []):\n",
    "            if neighbor == end:\n",
    "                return path + [neighbor]\n",
    "            if neighbor not in path:\n",
    "                queue.append((neighbor, path + [neighbor]))\n",
    "\n",
    "graph = { 0: [1, 2], 1: [0, 2, 3], 2: [0, 1, 3], 3: [1, 2] }\n",
    "\n",
    "print(shortest_path(graph, 0, 3))  # [0, 1, 3]\n",
    "\n",
    "print(shortest_path(graph, 0, 4))  # None"
   ]
  },
  {
   "cell_type": "markdown",
   "metadata": {},
   "source": [
    "Dijkstra’s Algorithm (Shortest Path)\n",
    "\n",
    "    Dijkstra's Algorithm finds the shortest path from a source node to all other nodes in a graph with non-negative edge weights.\n",
    "\n",
    "Dijkstra’s Algorithm:\n",
    "\n",
    "    1.Initialize distances to infinity for all nodes except the source, which has a distance of 0.\n",
    "    2.Use a priority queue to explore the node with the smallest tentative distance.\n",
    "    3.For each neighbor, calculate the potential new path and update if it’s shorter than the known distance.\n"
   ]
  },
  {
   "cell_type": "code",
   "execution_count": 15,
   "metadata": {},
   "outputs": [
    {
     "name": "stdout",
     "output_type": "stream",
     "text": [
      "Shortest distances from A: {'A': 0, 'B': 1, 'C': 4, 'D': 3, 'E': 6, 'F': 5}\n"
     ]
    }
   ],
   "source": [
    "import heapq\n",
    "\n",
    "def dijkstra(graph, start_node):\n",
    "    # Initialize distances to infinity and set the start_node distance to 0\n",
    "    distances = {node: float('inf') for node in graph}\n",
    "    distances[start_node] = 0\n",
    "\n",
    "    # Priority queue to store (distance, node) pairs\n",
    "    priority_queue = [(0, start_node)]\n",
    "\n",
    "    while priority_queue:\n",
    "        # Get the node with the smallest distance\n",
    "        current_distance, current_node = heapq.heappop(priority_queue)\n",
    "\n",
    "        # Skip processing if we've already found a better path\n",
    "        if current_distance > distances[current_node]:\n",
    "            continue\n",
    "\n",
    "        # Explore neighbors\n",
    "        for neighbor, weight in graph[current_node].items():\n",
    "            distance = current_distance + weight\n",
    "\n",
    "            # Only update if a shorter path is found\n",
    "            if distance < distances[neighbor]:\n",
    "                distances[neighbor] = distance\n",
    "                heapq.heappush(priority_queue, (distance, neighbor))\n",
    "\n",
    "    return distances\n",
    "\n",
    "\n",
    "# Graph with weights represented as an adjacency list\n",
    "graph_with_weights = {\n",
    "    'A': {'B': 1, 'C': 4},\n",
    "    'B': {'A': 1, 'D': 2, 'E': 5},\n",
    "    'C': {'A': 4, 'F': 1},\n",
    "    'D': {'B': 2},\n",
    "    'E': {'B': 5, 'F': 3},\n",
    "    'F': {'C': 1, 'E': 3}\n",
    "}\n",
    "\n",
    "# Find the shortest paths from node 'A'\n",
    "distances = dijkstra(graph_with_weights, 'A')\n",
    "print(\"Shortest distances from A:\", distances)"
   ]
  },
  {
   "cell_type": "markdown",
   "metadata": {},
   "source": [
    "Kruskal’s Algorithm (Minimum Spanning Tree)\n",
    "\n",
    "    Kruskal’s Algorithm finds the Minimum Spanning Tree (MST) of a graph by selecting edges in increasing order of weight while avoiding cycles.\n",
    "\n",
    "Kruskal’s Algorithm:\n",
    "\n",
    "    1.Sort all edges by weight.\n",
    "    2.Add edges to the MST one by one, ensuring no cycles are formed.\n",
    "    3.Use Union-Find to keep track of connected components."
   ]
  },
  {
   "cell_type": "code",
   "execution_count": 16,
   "metadata": {},
   "outputs": [
    {
     "name": "stdout",
     "output_type": "stream",
     "text": [
      "Minimum Spanning Tree: [('A', 'B', 1), ('C', 'F', 1), ('B', 'D', 2), ('E', 'F', 3), ('A', 'C', 4)]\n"
     ]
    }
   ],
   "source": [
    "# Class to represent a disjoint set for Union-Find\n",
    "class DisjointSet:\n",
    "    def __init__(self, vertices):\n",
    "        self.parent = {vertex: vertex for vertex in vertices}\n",
    "        self.rank = {vertex: 0 for vertex in vertices}\n",
    "\n",
    "    def find(self, vertex):\n",
    "        if self.parent[vertex] != vertex:\n",
    "            self.parent[vertex] = self.find(self.parent[vertex])\n",
    "        return self.parent[vertex]\n",
    "\n",
    "    def union(self, vertex1, vertex2):\n",
    "        root1 = self.find(vertex1)\n",
    "        root2 = self.find(vertex2)\n",
    "\n",
    "        if root1 != root2:\n",
    "            if self.rank[root1] > self.rank[root2]:\n",
    "                self.parent[root2] = root1\n",
    "            elif self.rank[root1] < self.rank[root2]:\n",
    "                self.parent[root1] = root2\n",
    "            else:\n",
    "                self.parent[root2] = root1\n",
    "                self.rank[root1] += 1\n",
    "\n",
    "# Kruskal's Algorithm to find the Minimum Spanning Tree\n",
    "def kruskal(graph):\n",
    "    edges = []\n",
    "    mst = []\n",
    "\n",
    "    # Collect all edges from the graph\n",
    "    for node in graph:\n",
    "        for neighbor, weight in graph[node]:\n",
    "            edges.append((weight, node, neighbor))\n",
    "\n",
    "    # Sort the edges by weight\n",
    "    edges.sort()\n",
    "\n",
    "    # Initialize the Disjoint Set for tracking connected components\n",
    "    disjoint_set = DisjointSet(graph.keys())\n",
    "\n",
    "    # Process edges in increasing order of weight\n",
    "    for weight, node1, node2 in edges:\n",
    "        # If node1 and node2 are in different sets, add the edge to the MST\n",
    "        if disjoint_set.find(node1) != disjoint_set.find(node2):\n",
    "            disjoint_set.union(node1, node2)\n",
    "            mst.append((node1, node2, weight))\n",
    "\n",
    "    return mst\n",
    "\n",
    "# Graph represented as an adjacency list with edge weights\n",
    "graph_edges = {\n",
    "    'A': [('B', 1), ('C', 4)],\n",
    "    'B': [('A', 1), ('D', 2), ('E', 5)],\n",
    "    'C': [('A', 4), ('F', 1)],\n",
    "    'D': [('B', 2)],\n",
    "    'E': [('B', 5), ('F', 3)],\n",
    "    'F': [('C', 1), ('E', 3)]\n",
    "}\n",
    "\n",
    "# Find the Minimum Spanning Tree (MST)\n",
    "mst = kruskal(graph_edges)\n",
    "print(\"Minimum Spanning Tree:\", mst)"
   ]
  },
  {
   "cell_type": "markdown",
   "metadata": {},
   "source": [
    "Library Management System Using Python Graph Data Structure\n",
    "\n",
    "    In this implementation, we'll use a graph data structure to represent the relationship between books in a library. \n",
    "\n",
    "    For simplicity, let's assume the relationships between books can be based on similar genres or authors. We can represent each book as a node, and edges between books will signify that the two books are related (for example, by genre or author).\n",
    "\n",
    "We will implement:\n",
    "\n",
    "    •Adding books to the library\n",
    "    •Establishing relationships (edges) between books (e.g., similar genres)\n",
    "    •Searching for related books using Depth-First Search (DFS)\n",
    "    •Finding clusters of related books (connected components)"
   ]
  },
  {
   "cell_type": "markdown",
   "metadata": {},
   "source": [
    "Steps of the Implementation:\n",
    "\n",
    "    1.Graph Representation: Use an adjacency list where each node represents a book, and each edge represents a relationship between two books (e.g., shared author or genre).\n",
    "\n",
    "    2.Add Books: Function to add a book to the library (graph).\n",
    "\n",
    "    3.Add Relationship: Function to add an edge between two books to indicate they are related (based on genre or author).\n",
    "\n",
    "    4.Search Books: Function to search for related books using DFS.\n",
    "\n",
    "    5.Find Clusters of Related Books: Function to find all groups of related books (connected components)."
   ]
  },
  {
   "cell_type": "code",
   "execution_count": 17,
   "metadata": {},
   "outputs": [
    {
     "name": "stdout",
     "output_type": "stream",
     "text": [
      "Book added: The Testaments by Margaret Atwood (Genre: Fiction)\n",
      "Book added: The Nickel Boys by Colson Whitehead (Genre: Historical Fiction)\n",
      "Book added: The Dutch House by Ann Patchett (Genre: Fiction)\n",
      "Book added: Where the Crawdads Sing by Delia Owens (Genre: Mystery)\n",
      "Book added: The Night Fire by Michael Connelly (Genre: Mystery)\n",
      "Book added: Becoming by Michelle Obama (Genre: Biography)\n",
      "Relationship established between ISBN 9780345816023 and ISBN 9780593139134\n",
      "Relationship established between ISBN 9781984822185 and ISBN 9780316517867\n",
      "\n",
      "Searching for books related to 'The Testaments' (ISBN: 9780345816023):\n",
      "Visited book ISBN 9780345816023: The Testaments by Margaret Atwood (Genre: Fiction)\n",
      "Visited book ISBN 9780593139134: The Dutch House by Ann Patchett (Genre: Fiction)\n",
      "\n",
      "Clusters of related books:\n",
      "Cluster 1: [The Testaments by Margaret Atwood (Genre: Fiction), The Dutch House by Ann Patchett (Genre: Fiction)]\n",
      "Cluster 2: [The Nickel Boys by Colson Whitehead (Genre: Historical Fiction)]\n",
      "Cluster 3: [Where the Crawdads Sing by Delia Owens (Genre: Mystery), The Night Fire by Michael Connelly (Genre: Mystery)]\n",
      "Cluster 4: [Becoming by Michelle Obama (Genre: Biography)]\n"
     ]
    }
   ],
   "source": [
    "class Book:\n",
    "    def __init__(self, isbn, title, author, genre):\n",
    "        self.isbn = isbn  # ISBN number, unique for each book\n",
    "        self.title = title  # Title of the book\n",
    "        self.author = author  # Author of the book\n",
    "        self.genre = genre  # Genre of the book\n",
    "\n",
    "    def __repr__(self):\n",
    "        return f\"{self.title} by {self.author} (Genre: {self.genre})\"\n",
    "\n",
    "\n",
    "class LibraryGraph:\n",
    "    def __init__(self):\n",
    "        self.graph = {}  # Adjacency list to store books and their relationships\n",
    "\n",
    "    # Add a new book (node) to the graph\n",
    "    def add_book(self, book):\n",
    "        if book.isbn not in self.graph:\n",
    "            self.graph[book.isbn] = []  # Initialize the adjacency list for this book\n",
    "            print(f\"Book added: {book}\")\n",
    "        else:\n",
    "            print(f\"Book with ISBN {book.isbn} already exists.\")\n",
    "\n",
    "    # Establish a relationship (edge) between two books\n",
    "    def add_relationship(self, isbn1, isbn2):\n",
    "        if isbn1 in self.graph and isbn2 in self.graph:\n",
    "            self.graph[isbn1].append(isbn2)  # Add isbn2 as a neighbor of isbn1\n",
    "            self.graph[isbn2].append(isbn1)  # Add isbn1 as a neighbor of isbn2\n",
    "            print(f\"Relationship established between ISBN {isbn1} and ISBN {isbn2}\")\n",
    "        else:\n",
    "            print(\"One or both ISBNs do not exist in the library.\")\n",
    "\n",
    "    # Depth-First Search (DFS) to find all related books from a given book (starting node)\n",
    "    def search_related_books(self, isbn, visited=None):\n",
    "        if visited is None:\n",
    "            visited = set()  # Set to keep track of visited nodes\n",
    "\n",
    "        visited.add(isbn)  # Mark the current book as visited\n",
    "        print(f\"Visited book ISBN {isbn}: {self.get_book_by_isbn(isbn)}\")\n",
    "\n",
    "        # Explore all related books (neighbors)\n",
    "        for neighbor_isbn in self.graph[isbn]:\n",
    "            if neighbor_isbn not in visited:\n",
    "                self.search_related_books(neighbor_isbn, visited)\n",
    "\n",
    "    # Find all clusters of related books (connected components)\n",
    "    def find_related_clusters(self):\n",
    "        visited = set()  # Set to track all visited nodes\n",
    "        clusters = []  # List to store all clusters of related books\n",
    "\n",
    "        # Iterate through each book in the graph\n",
    "        for isbn in self.graph:\n",
    "            if isbn not in visited:\n",
    "                cluster = []  # List to store the current cluster of related books\n",
    "                self._dfs_cluster(isbn, visited, cluster)\n",
    "                clusters.append(cluster)  # Add the found cluster to the list\n",
    "        return clusters\n",
    "\n",
    "    # Helper DFS function to find a cluster\n",
    "    def _dfs_cluster(self, isbn, visited, cluster):\n",
    "        visited.add(isbn)  # Mark the book as visited\n",
    "        cluster.append(self.get_book_by_isbn(isbn))  # Add book to the current cluster\n",
    "\n",
    "        # Recursively visit all related books (neighbors)\n",
    "        for neighbor_isbn in self.graph[isbn]:\n",
    "            if neighbor_isbn not in visited:\n",
    "                self._dfs_cluster(neighbor_isbn, visited, cluster)\n",
    "\n",
    "    # Helper method to get book details by ISBN\n",
    "    def get_book_by_isbn(self, isbn):\n",
    "        for book_isbn in self.graph:\n",
    "            if book_isbn == isbn:\n",
    "                for book in books:  # Assuming books is a global list of book objects\n",
    "                    if book.isbn == book_isbn:\n",
    "                        return book\n",
    "        return None\n",
    "\n",
    "\n",
    "# List to store all book objects\n",
    "books = [\n",
    "    Book(9780345816023, \"The Testaments\", \"Margaret Atwood\", \"Fiction\"),\n",
    "    Book(9780525559474, \"The Nickel Boys\", \"Colson Whitehead\", \"Historical Fiction\"),\n",
    "    Book(9780593139134, \"The Dutch House\", \"Ann Patchett\", \"Fiction\"),\n",
    "    Book(9781984822185, \"Where the Crawdads Sing\", \"Delia Owens\", \"Mystery\"),\n",
    "    Book(9780316517867, \"The Night Fire\", \"Michael Connelly\", \"Mystery\"),\n",
    "    Book(9781524763169, \"Becoming\", \"Michelle Obama\", \"Biography\")\n",
    "]\n",
    "\n",
    "# Initialize the library graph\n",
    "library = LibraryGraph()\n",
    "\n",
    "# Add books to the library graph\n",
    "for book in books:\n",
    "    library.add_book(book)\n",
    "\n",
    "# Establish relationships between books (based on genre or other criteria)\n",
    "library.add_relationship(9780345816023, 9780593139134)  # Fiction books related\n",
    "library.add_relationship(9781984822185, 9780316517867)  # Mystery books related\n",
    "\n",
    "# Search for related books starting from a specific book\n",
    "print(\"\\nSearching for books related to 'The Testaments' (ISBN: 9780345816023):\")\n",
    "library.search_related_books(9780345816023)\n",
    "\n",
    "# Find and print all clusters of related books (connected components)\n",
    "print(\"\\nClusters of related books:\")\n",
    "clusters = library.find_related_clusters()\n",
    "for idx, cluster in enumerate(clusters):\n",
    "    print(f\"Cluster {idx + 1}: {cluster}\")"
   ]
  },
  {
   "cell_type": "markdown",
   "metadata": {},
   "source": [
    "1.Book Class:\n",
    "\n",
    "    Represents a book in the library with attributes such as isbn, title, author, and genre.\n",
    "\n",
    "    The __repr__ method formats the output when printing a book object.\n",
    "\n",
    "2.LibraryGraph Class:\n",
    "\n",
    "    graph: This is an adjacency list representing the relationships between books. Each book (node) is identified by its ISBN, and edges represent relationships with other books.\n",
    "\n",
    "    add_book: Adds a book (node) to the graph. Each book is represented by its ISBN.\n",
    "\n",
    "    add_relationship: Adds an edge (relationship) between two books based on ISBN.\n",
    "    \n",
    "    This relationship might represent books of the same genre, by the same author, etc.\n",
    "\n",
    "    search_related_books: Uses DFS to explore and print all books related to a given book (identified by its ISBN).\n",
    "\n",
    "    find_related_clusters: Finds all connected components (clusters) of related books. Each cluster represents a group of related books that are connected through one or more relationships.\n",
    "\n",
    "    get_book_by_isbn: Helper method to retrieve a book object by its ISBN.\n",
    "\n",
    "\n",
    "3.Global List books:\n",
    "\n",
    "    This is a list of book objects to be added to the library. Each book has an ISBN, title, author, and genre.\n",
    "\n",
    "\n",
    "4.DFS for Related Books:\n",
    "\n",
    "    Starting from a given book, DFS explores all related books recursively, marking them as visited and printing their details.\n",
    "\n",
    "\n",
    "5.Connected Components:\n",
    "\n",
    "    Clusters of related books are found using DFS. Each cluster represents a group of books that are all related either directly or indirectly (through other books).\n"
   ]
  },
  {
   "cell_type": "markdown",
   "metadata": {},
   "source": [
    "Explanation of Example Output:\n",
    "\n",
    "    1. Adding Books: \n",
    "    All books are successfully added to the library graph.\n",
    "\n",
    "    2. Adding Relationships: \n",
    "\n",
    "    Relationships are established between books of the same genre:\n",
    "\n",
    "    \n",
    "    \"The Testaments\" and \"The Dutch House\" (both Fiction).\n",
    "    \"Where the Crawdads Sing\" and \"The Night Fire\" (both Mystery).\n",
    "\n",
    "    3.\tSearch Related Books: Starting from \"The Testaments\", we find that \"The Dutch House\" is related to it (since they both belong to Fiction).\n",
    "\n",
    "    4.Finding Clusters: We find 4 clusters (connected components) of books:\n",
    "\n",
    "    o\tCluster 1: Fiction books.\n",
    "    o\tCluster 2: Mystery books.\n",
    "    o\tCluster 3: \"The Nickel Boys\" (Historical Fiction).\n",
    "    o\tCluster 4: \"Becoming\" (Biography).\n"
   ]
  }
 ],
 "metadata": {
  "kernelspec": {
   "display_name": "Python 3",
   "language": "python",
   "name": "python3"
  },
  "language_info": {
   "codemirror_mode": {
    "name": "ipython",
    "version": 3
   },
   "file_extension": ".py",
   "mimetype": "text/x-python",
   "name": "python",
   "nbconvert_exporter": "python",
   "pygments_lexer": "ipython3",
   "version": "3.11.5"
  }
 },
 "nbformat": 4,
 "nbformat_minor": 2
}
